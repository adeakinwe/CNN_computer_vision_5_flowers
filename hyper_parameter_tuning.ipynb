{
  "nbformat": 4,
  "nbformat_minor": 0,
  "metadata": {
    "colab": {
      "provenance": [],
      "gpuType": "T4",
      "authorship_tag": "ABX9TyMeY8AU4l+qEBtT412wBAMp",
      "include_colab_link": true
    },
    "kernelspec": {
      "name": "python3",
      "display_name": "Python 3"
    },
    "language_info": {
      "name": "python"
    },
    "accelerator": "GPU"
  },
  "cells": [
    {
      "cell_type": "markdown",
      "metadata": {
        "id": "view-in-github",
        "colab_type": "text"
      },
      "source": [
        "<a href=\"https://colab.research.google.com/github/adeakinwe/computer_vision/blob/main/hyper_parameter_tuning.ipynb\" target=\"_parent\"><img src=\"https://colab.research.google.com/assets/colab-badge.svg\" alt=\"Open In Colab\"/></a>"
      ]
    },
    {
      "cell_type": "code",
      "execution_count": 7,
      "metadata": {
        "id": "4Juo6XJLgRgL"
      },
      "outputs": [],
      "source": [
        "import wandb\n",
        "from wandb.integration.keras import WandbMetricsLogger\n",
        "import tensorflow as tf"
      ]
    },
    {
      "cell_type": "code",
      "source": [
        "sweep_config = {\n",
        "    'method': 'grid',\n",
        "    'metric': {\n",
        "        'name': 'val_accuracy',\n",
        "        'goal': 'maximize'\n",
        "    },\n",
        "    'parameters': {\n",
        "        'learning_rate': {\n",
        "            'values': [0.001, 0.0001]\n",
        "        },\n",
        "        'batch_size': {\n",
        "            'values': [8, 16]\n",
        "        },\n",
        "        'hidden_nodes': {\n",
        "            'values': [128, 64],\n",
        "        },\n",
        "        'img_size': {\n",
        "            'values': [16, 224]\n",
        "        },\n",
        "        'epochs': {\n",
        "            'values': [5, 10]\n",
        "        }\n",
        "    }\n",
        "}\n",
        "\n",
        "sweep_id = wandb.sweep(sweep_config, project=\"5-flowers-sweep\")"
      ],
      "metadata": {
        "colab": {
          "base_uri": "https://localhost:8080/"
        },
        "id": "zhvJcg-2jkNN",
        "outputId": "4ba1df18-f382-43b6-ba10-2683b3dfd23b"
      },
      "execution_count": 8,
      "outputs": [
        {
          "output_type": "stream",
          "name": "stdout",
          "text": [
            "Create sweep with ID: qgsqn7e0\n",
            "Sweep URL: https://wandb.ai/adeakinwe-richkinwe-io/5-flowers-sweep/sweeps/qgsqn7e0\n"
          ]
        }
      ]
    },
    {
      "cell_type": "code",
      "source": [
        "from tensorflow import keras\n",
        "import matplotlib.pyplot as plt"
      ],
      "metadata": {
        "id": "28hnKD6pSYFG"
      },
      "execution_count": 10,
      "outputs": []
    },
    {
      "cell_type": "code",
      "source": [
        "def train():\n",
        "  with wandb.init() as run:\n",
        "    config = wandb.config\n",
        "\n",
        "  IMG_HEIGHT = config.img_size\n",
        "  IMG_WIDTH = config.img_size\n",
        "  IMG_CHANNELS = 3\n",
        "\n",
        "  CLASS_NAMES = [\"daisy\", \"dandelion\", \"roses\", \"sunflowers\", \"tulips\"]\n",
        "\n",
        "  def read_and_decode(filename, resize_dims):\n",
        "    # 1. Read the raw file\n",
        "    img_bytes = tf.io.read_file(filename)\n",
        "    # 2. Decode image data\n",
        "    img = tf.image.decode_jpeg(img_bytes, channels=IMG_CHANNELS)\n",
        "    # 3. Convert pixel values to floats in [0, 1]\n",
        "    img = tf.image.convert_image_dtype(img, tf.float32)\n",
        "    # 4. Resize the image to match desired dimensions\n",
        "    img = tf.image.resize(img, resize_dims)\n",
        "    return img\n",
        "\n",
        "  def parse_csvline(csv_line):\n",
        "    # record_defaults specify the data types for each column\n",
        "    record_default = [\"\", \"\"]\n",
        "    filename, label_string = tf.io.decode_csv(csv_line, record_default)\n",
        "\n",
        "    # Load the image\n",
        "    img = read_and_decode(filename, [IMG_HEIGHT, IMG_WIDTH])\n",
        "\n",
        "    # Convert label string to integer based on the CLASS_NAMES index\n",
        "    label = tf.argmax(tf.math.equal(CLASS_NAMES, label_string))\n",
        "    return img, label\n",
        "\n",
        "    # Define datasets\n",
        "    train_dataset = (\n",
        "        tf.data.TextLineDataset(\"gs://cloud-ml-data/img/flower_photos/train_set.csv\")\n",
        "        .map(parse_csvline, num_parallel_calls=tf.data.AUTOTUNE)\n",
        "        .batch(config.batch_size)\n",
        "        .prefetch(tf.data.AUTOTUNE)\n",
        "    )\n",
        "\n",
        "    eval_dataset = (\n",
        "        tf.data.TextLineDataset(\"gs://cloud-ml-data/img/flower_photos/eval_set.csv\")\n",
        "        .map(parse_csvline, num_parallel_calls=tf.data.AUTOTUNE)\n",
        "        .batch(config.batch_size)\n",
        "        .prefetch(tf.data.AUTOTUNE)\n",
        "    )\n",
        "\n",
        "    model = keras.Sequential([\n",
        "    keras.layers.Flatten(input_shape=(IMG_HEIGHT, IMG_WIDTH, IMG_CHANNELS)),\n",
        "    keras.layers.Dense(config.hidden_nodes, activation=\"relu\"),\n",
        "    keras.layers.Dense(len(CLASS_NAMES), activation=\"softmax\")\n",
        "   ])\n",
        "\n",
        "    model.compile(\n",
        "    optimizer=\"adam\",\n",
        "    loss=keras.losses.SparseCategoricalCrossentropy(from_logits=False),\n",
        "    metrics=[\"accuracy\"]\n",
        "   )\n",
        "\n",
        "    model.fit(\n",
        "    train_dataset,\n",
        "    validation_data=eval_dataset,\n",
        "    epochs=config.epochs,\n",
        "    callbacks=[\n",
        "      WandbMetricsLogger(log_freq=5)\n",
        "    ]\n",
        "   )"
      ],
      "metadata": {
        "id": "V-zueVRbROux"
      },
      "execution_count": 11,
      "outputs": []
    },
    {
      "cell_type": "code",
      "source": [
        "wandb.agent(sweep_id, function=train)"
      ],
      "metadata": {
        "colab": {
          "base_uri": "https://localhost:8080/",
          "height": 1000
        },
        "id": "tf7jYjTKUAsJ",
        "outputId": "0ca9484a-20e4-458f-8a95-b4161ce55370"
      },
      "execution_count": 12,
      "outputs": [
        {
          "output_type": "stream",
          "name": "stderr",
          "text": [
            "\u001b[34m\u001b[1mwandb\u001b[0m: Agent Starting Run: w8aqepg1 with config:\n",
            "\u001b[34m\u001b[1mwandb\u001b[0m: \tbatch_size: 8\n",
            "\u001b[34m\u001b[1mwandb\u001b[0m: \tepochs: 5\n",
            "\u001b[34m\u001b[1mwandb\u001b[0m: \thidden_nodes: 128\n",
            "\u001b[34m\u001b[1mwandb\u001b[0m: \timg_size: 16\n",
            "\u001b[34m\u001b[1mwandb\u001b[0m: \tlearning_rate: 0.001\n"
          ]
        },
        {
          "output_type": "display_data",
          "data": {
            "text/plain": [
              "<IPython.core.display.HTML object>"
            ],
            "text/html": [
              "Tracking run with wandb version 0.19.10"
            ]
          },
          "metadata": {}
        },
        {
          "output_type": "display_data",
          "data": {
            "text/plain": [
              "<IPython.core.display.HTML object>"
            ],
            "text/html": [
              "Run data is saved locally in <code>/content/wandb/run-20250507_061421-w8aqepg1</code>"
            ]
          },
          "metadata": {}
        },
        {
          "output_type": "display_data",
          "data": {
            "text/plain": [
              "<IPython.core.display.HTML object>"
            ],
            "text/html": [
              "Syncing run <strong><a href='https://wandb.ai/adeakinwe-richkinwe-io/5-flowers-sweep/runs/w8aqepg1' target=\"_blank\">woven-sweep-1</a></strong> to <a href='https://wandb.ai/adeakinwe-richkinwe-io/5-flowers-sweep' target=\"_blank\">Weights & Biases</a> (<a href='https://wandb.me/developer-guide' target=\"_blank\">docs</a>)<br>Sweep page: <a href='https://wandb.ai/adeakinwe-richkinwe-io/5-flowers-sweep/sweeps/qgsqn7e0' target=\"_blank\">https://wandb.ai/adeakinwe-richkinwe-io/5-flowers-sweep/sweeps/qgsqn7e0</a>"
            ]
          },
          "metadata": {}
        },
        {
          "output_type": "display_data",
          "data": {
            "text/plain": [
              "<IPython.core.display.HTML object>"
            ],
            "text/html": [
              " View project at <a href='https://wandb.ai/adeakinwe-richkinwe-io/5-flowers-sweep' target=\"_blank\">https://wandb.ai/adeakinwe-richkinwe-io/5-flowers-sweep</a>"
            ]
          },
          "metadata": {}
        },
        {
          "output_type": "display_data",
          "data": {
            "text/plain": [
              "<IPython.core.display.HTML object>"
            ],
            "text/html": [
              " View sweep at <a href='https://wandb.ai/adeakinwe-richkinwe-io/5-flowers-sweep/sweeps/qgsqn7e0' target=\"_blank\">https://wandb.ai/adeakinwe-richkinwe-io/5-flowers-sweep/sweeps/qgsqn7e0</a>"
            ]
          },
          "metadata": {}
        },
        {
          "output_type": "display_data",
          "data": {
            "text/plain": [
              "<IPython.core.display.HTML object>"
            ],
            "text/html": [
              " View run at <a href='https://wandb.ai/adeakinwe-richkinwe-io/5-flowers-sweep/runs/w8aqepg1' target=\"_blank\">https://wandb.ai/adeakinwe-richkinwe-io/5-flowers-sweep/runs/w8aqepg1</a>"
            ]
          },
          "metadata": {}
        },
        {
          "output_type": "display_data",
          "data": {
            "text/plain": [
              "<IPython.core.display.HTML object>"
            ],
            "text/html": []
          },
          "metadata": {}
        },
        {
          "output_type": "display_data",
          "data": {
            "text/plain": [
              "<IPython.core.display.HTML object>"
            ],
            "text/html": [
              " View run <strong style=\"color:#cdcd00\">woven-sweep-1</strong> at: <a href='https://wandb.ai/adeakinwe-richkinwe-io/5-flowers-sweep/runs/w8aqepg1' target=\"_blank\">https://wandb.ai/adeakinwe-richkinwe-io/5-flowers-sweep/runs/w8aqepg1</a><br> View project at: <a href='https://wandb.ai/adeakinwe-richkinwe-io/5-flowers-sweep' target=\"_blank\">https://wandb.ai/adeakinwe-richkinwe-io/5-flowers-sweep</a><br>Synced 5 W&B file(s), 0 media file(s), 0 artifact file(s) and 0 other file(s)"
            ]
          },
          "metadata": {}
        },
        {
          "output_type": "display_data",
          "data": {
            "text/plain": [
              "<IPython.core.display.HTML object>"
            ],
            "text/html": [
              "Find logs at: <code>./wandb/run-20250507_061421-w8aqepg1/logs</code>"
            ]
          },
          "metadata": {}
        },
        {
          "output_type": "stream",
          "name": "stderr",
          "text": [
            "\u001b[34m\u001b[1mwandb\u001b[0m: Sweep Agent: Waiting for job.\n",
            "\u001b[34m\u001b[1mwandb\u001b[0m: Job received.\n",
            "\u001b[34m\u001b[1mwandb\u001b[0m: Agent Starting Run: 5wgvewre with config:\n",
            "\u001b[34m\u001b[1mwandb\u001b[0m: \tbatch_size: 8\n",
            "\u001b[34m\u001b[1mwandb\u001b[0m: \tepochs: 5\n",
            "\u001b[34m\u001b[1mwandb\u001b[0m: \thidden_nodes: 128\n",
            "\u001b[34m\u001b[1mwandb\u001b[0m: \timg_size: 16\n",
            "\u001b[34m\u001b[1mwandb\u001b[0m: \tlearning_rate: 0.0001\n"
          ]
        },
        {
          "output_type": "display_data",
          "data": {
            "text/plain": [
              "<IPython.core.display.HTML object>"
            ],
            "text/html": [
              "Tracking run with wandb version 0.19.10"
            ]
          },
          "metadata": {}
        },
        {
          "output_type": "display_data",
          "data": {
            "text/plain": [
              "<IPython.core.display.HTML object>"
            ],
            "text/html": [
              "Run data is saved locally in <code>/content/wandb/run-20250507_061435-5wgvewre</code>"
            ]
          },
          "metadata": {}
        },
        {
          "output_type": "display_data",
          "data": {
            "text/plain": [
              "<IPython.core.display.HTML object>"
            ],
            "text/html": [
              "Syncing run <strong><a href='https://wandb.ai/adeakinwe-richkinwe-io/5-flowers-sweep/runs/5wgvewre' target=\"_blank\">rich-sweep-2</a></strong> to <a href='https://wandb.ai/adeakinwe-richkinwe-io/5-flowers-sweep' target=\"_blank\">Weights & Biases</a> (<a href='https://wandb.me/developer-guide' target=\"_blank\">docs</a>)<br>Sweep page: <a href='https://wandb.ai/adeakinwe-richkinwe-io/5-flowers-sweep/sweeps/qgsqn7e0' target=\"_blank\">https://wandb.ai/adeakinwe-richkinwe-io/5-flowers-sweep/sweeps/qgsqn7e0</a>"
            ]
          },
          "metadata": {}
        },
        {
          "output_type": "display_data",
          "data": {
            "text/plain": [
              "<IPython.core.display.HTML object>"
            ],
            "text/html": [
              " View project at <a href='https://wandb.ai/adeakinwe-richkinwe-io/5-flowers-sweep' target=\"_blank\">https://wandb.ai/adeakinwe-richkinwe-io/5-flowers-sweep</a>"
            ]
          },
          "metadata": {}
        },
        {
          "output_type": "display_data",
          "data": {
            "text/plain": [
              "<IPython.core.display.HTML object>"
            ],
            "text/html": [
              " View sweep at <a href='https://wandb.ai/adeakinwe-richkinwe-io/5-flowers-sweep/sweeps/qgsqn7e0' target=\"_blank\">https://wandb.ai/adeakinwe-richkinwe-io/5-flowers-sweep/sweeps/qgsqn7e0</a>"
            ]
          },
          "metadata": {}
        },
        {
          "output_type": "display_data",
          "data": {
            "text/plain": [
              "<IPython.core.display.HTML object>"
            ],
            "text/html": [
              " View run at <a href='https://wandb.ai/adeakinwe-richkinwe-io/5-flowers-sweep/runs/5wgvewre' target=\"_blank\">https://wandb.ai/adeakinwe-richkinwe-io/5-flowers-sweep/runs/5wgvewre</a>"
            ]
          },
          "metadata": {}
        },
        {
          "output_type": "display_data",
          "data": {
            "text/plain": [
              "<IPython.core.display.HTML object>"
            ],
            "text/html": []
          },
          "metadata": {}
        },
        {
          "output_type": "display_data",
          "data": {
            "text/plain": [
              "<IPython.core.display.HTML object>"
            ],
            "text/html": [
              " View run <strong style=\"color:#cdcd00\">rich-sweep-2</strong> at: <a href='https://wandb.ai/adeakinwe-richkinwe-io/5-flowers-sweep/runs/5wgvewre' target=\"_blank\">https://wandb.ai/adeakinwe-richkinwe-io/5-flowers-sweep/runs/5wgvewre</a><br> View project at: <a href='https://wandb.ai/adeakinwe-richkinwe-io/5-flowers-sweep' target=\"_blank\">https://wandb.ai/adeakinwe-richkinwe-io/5-flowers-sweep</a><br>Synced 5 W&B file(s), 0 media file(s), 0 artifact file(s) and 0 other file(s)"
            ]
          },
          "metadata": {}
        },
        {
          "output_type": "display_data",
          "data": {
            "text/plain": [
              "<IPython.core.display.HTML object>"
            ],
            "text/html": [
              "Find logs at: <code>./wandb/run-20250507_061435-5wgvewre/logs</code>"
            ]
          },
          "metadata": {}
        },
        {
          "output_type": "stream",
          "name": "stderr",
          "text": [
            "\u001b[34m\u001b[1mwandb\u001b[0m: Agent Starting Run: rw30r2ug with config:\n",
            "\u001b[34m\u001b[1mwandb\u001b[0m: \tbatch_size: 8\n",
            "\u001b[34m\u001b[1mwandb\u001b[0m: \tepochs: 5\n",
            "\u001b[34m\u001b[1mwandb\u001b[0m: \thidden_nodes: 128\n",
            "\u001b[34m\u001b[1mwandb\u001b[0m: \timg_size: 224\n",
            "\u001b[34m\u001b[1mwandb\u001b[0m: \tlearning_rate: 0.001\n"
          ]
        },
        {
          "output_type": "display_data",
          "data": {
            "text/plain": [
              "<IPython.core.display.HTML object>"
            ],
            "text/html": [
              "Tracking run with wandb version 0.19.10"
            ]
          },
          "metadata": {}
        },
        {
          "output_type": "display_data",
          "data": {
            "text/plain": [
              "<IPython.core.display.HTML object>"
            ],
            "text/html": [
              "Run data is saved locally in <code>/content/wandb/run-20250507_061442-rw30r2ug</code>"
            ]
          },
          "metadata": {}
        },
        {
          "output_type": "display_data",
          "data": {
            "text/plain": [
              "<IPython.core.display.HTML object>"
            ],
            "text/html": [
              "Syncing run <strong><a href='https://wandb.ai/adeakinwe-richkinwe-io/5-flowers-sweep/runs/rw30r2ug' target=\"_blank\">splendid-sweep-3</a></strong> to <a href='https://wandb.ai/adeakinwe-richkinwe-io/5-flowers-sweep' target=\"_blank\">Weights & Biases</a> (<a href='https://wandb.me/developer-guide' target=\"_blank\">docs</a>)<br>Sweep page: <a href='https://wandb.ai/adeakinwe-richkinwe-io/5-flowers-sweep/sweeps/qgsqn7e0' target=\"_blank\">https://wandb.ai/adeakinwe-richkinwe-io/5-flowers-sweep/sweeps/qgsqn7e0</a>"
            ]
          },
          "metadata": {}
        },
        {
          "output_type": "display_data",
          "data": {
            "text/plain": [
              "<IPython.core.display.HTML object>"
            ],
            "text/html": [
              " View project at <a href='https://wandb.ai/adeakinwe-richkinwe-io/5-flowers-sweep' target=\"_blank\">https://wandb.ai/adeakinwe-richkinwe-io/5-flowers-sweep</a>"
            ]
          },
          "metadata": {}
        },
        {
          "output_type": "display_data",
          "data": {
            "text/plain": [
              "<IPython.core.display.HTML object>"
            ],
            "text/html": [
              " View sweep at <a href='https://wandb.ai/adeakinwe-richkinwe-io/5-flowers-sweep/sweeps/qgsqn7e0' target=\"_blank\">https://wandb.ai/adeakinwe-richkinwe-io/5-flowers-sweep/sweeps/qgsqn7e0</a>"
            ]
          },
          "metadata": {}
        },
        {
          "output_type": "display_data",
          "data": {
            "text/plain": [
              "<IPython.core.display.HTML object>"
            ],
            "text/html": [
              " View run at <a href='https://wandb.ai/adeakinwe-richkinwe-io/5-flowers-sweep/runs/rw30r2ug' target=\"_blank\">https://wandb.ai/adeakinwe-richkinwe-io/5-flowers-sweep/runs/rw30r2ug</a>"
            ]
          },
          "metadata": {}
        },
        {
          "output_type": "display_data",
          "data": {
            "text/plain": [
              "<IPython.core.display.HTML object>"
            ],
            "text/html": []
          },
          "metadata": {}
        },
        {
          "output_type": "display_data",
          "data": {
            "text/plain": [
              "<IPython.core.display.HTML object>"
            ],
            "text/html": [
              " View run <strong style=\"color:#cdcd00\">splendid-sweep-3</strong> at: <a href='https://wandb.ai/adeakinwe-richkinwe-io/5-flowers-sweep/runs/rw30r2ug' target=\"_blank\">https://wandb.ai/adeakinwe-richkinwe-io/5-flowers-sweep/runs/rw30r2ug</a><br> View project at: <a href='https://wandb.ai/adeakinwe-richkinwe-io/5-flowers-sweep' target=\"_blank\">https://wandb.ai/adeakinwe-richkinwe-io/5-flowers-sweep</a><br>Synced 5 W&B file(s), 0 media file(s), 0 artifact file(s) and 0 other file(s)"
            ]
          },
          "metadata": {}
        },
        {
          "output_type": "display_data",
          "data": {
            "text/plain": [
              "<IPython.core.display.HTML object>"
            ],
            "text/html": [
              "Find logs at: <code>./wandb/run-20250507_061442-rw30r2ug/logs</code>"
            ]
          },
          "metadata": {}
        },
        {
          "output_type": "stream",
          "name": "stderr",
          "text": [
            "\u001b[34m\u001b[1mwandb\u001b[0m: Sweep Agent: Waiting for job.\n",
            "\u001b[34m\u001b[1mwandb\u001b[0m: Job received.\n",
            "\u001b[34m\u001b[1mwandb\u001b[0m: Agent Starting Run: lyssfbyx with config:\n",
            "\u001b[34m\u001b[1mwandb\u001b[0m: \tbatch_size: 8\n",
            "\u001b[34m\u001b[1mwandb\u001b[0m: \tepochs: 5\n",
            "\u001b[34m\u001b[1mwandb\u001b[0m: \thidden_nodes: 128\n",
            "\u001b[34m\u001b[1mwandb\u001b[0m: \timg_size: 224\n",
            "\u001b[34m\u001b[1mwandb\u001b[0m: \tlearning_rate: 0.0001\n"
          ]
        },
        {
          "output_type": "display_data",
          "data": {
            "text/plain": [
              "<IPython.core.display.HTML object>"
            ],
            "text/html": [
              "Tracking run with wandb version 0.19.10"
            ]
          },
          "metadata": {}
        },
        {
          "output_type": "display_data",
          "data": {
            "text/plain": [
              "<IPython.core.display.HTML object>"
            ],
            "text/html": [
              "Run data is saved locally in <code>/content/wandb/run-20250507_061457-lyssfbyx</code>"
            ]
          },
          "metadata": {}
        },
        {
          "output_type": "display_data",
          "data": {
            "text/plain": [
              "<IPython.core.display.HTML object>"
            ],
            "text/html": [
              "Syncing run <strong><a href='https://wandb.ai/adeakinwe-richkinwe-io/5-flowers-sweep/runs/lyssfbyx' target=\"_blank\">eager-sweep-4</a></strong> to <a href='https://wandb.ai/adeakinwe-richkinwe-io/5-flowers-sweep' target=\"_blank\">Weights & Biases</a> (<a href='https://wandb.me/developer-guide' target=\"_blank\">docs</a>)<br>Sweep page: <a href='https://wandb.ai/adeakinwe-richkinwe-io/5-flowers-sweep/sweeps/qgsqn7e0' target=\"_blank\">https://wandb.ai/adeakinwe-richkinwe-io/5-flowers-sweep/sweeps/qgsqn7e0</a>"
            ]
          },
          "metadata": {}
        },
        {
          "output_type": "display_data",
          "data": {
            "text/plain": [
              "<IPython.core.display.HTML object>"
            ],
            "text/html": [
              " View project at <a href='https://wandb.ai/adeakinwe-richkinwe-io/5-flowers-sweep' target=\"_blank\">https://wandb.ai/adeakinwe-richkinwe-io/5-flowers-sweep</a>"
            ]
          },
          "metadata": {}
        },
        {
          "output_type": "display_data",
          "data": {
            "text/plain": [
              "<IPython.core.display.HTML object>"
            ],
            "text/html": [
              " View sweep at <a href='https://wandb.ai/adeakinwe-richkinwe-io/5-flowers-sweep/sweeps/qgsqn7e0' target=\"_blank\">https://wandb.ai/adeakinwe-richkinwe-io/5-flowers-sweep/sweeps/qgsqn7e0</a>"
            ]
          },
          "metadata": {}
        },
        {
          "output_type": "display_data",
          "data": {
            "text/plain": [
              "<IPython.core.display.HTML object>"
            ],
            "text/html": [
              " View run at <a href='https://wandb.ai/adeakinwe-richkinwe-io/5-flowers-sweep/runs/lyssfbyx' target=\"_blank\">https://wandb.ai/adeakinwe-richkinwe-io/5-flowers-sweep/runs/lyssfbyx</a>"
            ]
          },
          "metadata": {}
        },
        {
          "output_type": "display_data",
          "data": {
            "text/plain": [
              "<IPython.core.display.HTML object>"
            ],
            "text/html": []
          },
          "metadata": {}
        },
        {
          "output_type": "display_data",
          "data": {
            "text/plain": [
              "<IPython.core.display.HTML object>"
            ],
            "text/html": [
              " View run <strong style=\"color:#cdcd00\">eager-sweep-4</strong> at: <a href='https://wandb.ai/adeakinwe-richkinwe-io/5-flowers-sweep/runs/lyssfbyx' target=\"_blank\">https://wandb.ai/adeakinwe-richkinwe-io/5-flowers-sweep/runs/lyssfbyx</a><br> View project at: <a href='https://wandb.ai/adeakinwe-richkinwe-io/5-flowers-sweep' target=\"_blank\">https://wandb.ai/adeakinwe-richkinwe-io/5-flowers-sweep</a><br>Synced 5 W&B file(s), 0 media file(s), 0 artifact file(s) and 0 other file(s)"
            ]
          },
          "metadata": {}
        },
        {
          "output_type": "display_data",
          "data": {
            "text/plain": [
              "<IPython.core.display.HTML object>"
            ],
            "text/html": [
              "Find logs at: <code>./wandb/run-20250507_061457-lyssfbyx/logs</code>"
            ]
          },
          "metadata": {}
        },
        {
          "output_type": "stream",
          "name": "stderr",
          "text": [
            "\u001b[34m\u001b[1mwandb\u001b[0m: Agent Starting Run: fap2hf1l with config:\n",
            "\u001b[34m\u001b[1mwandb\u001b[0m: \tbatch_size: 8\n",
            "\u001b[34m\u001b[1mwandb\u001b[0m: \tepochs: 5\n",
            "\u001b[34m\u001b[1mwandb\u001b[0m: \thidden_nodes: 64\n",
            "\u001b[34m\u001b[1mwandb\u001b[0m: \timg_size: 16\n",
            "\u001b[34m\u001b[1mwandb\u001b[0m: \tlearning_rate: 0.001\n"
          ]
        },
        {
          "output_type": "display_data",
          "data": {
            "text/plain": [
              "<IPython.core.display.HTML object>"
            ],
            "text/html": [
              "Tracking run with wandb version 0.19.10"
            ]
          },
          "metadata": {}
        },
        {
          "output_type": "display_data",
          "data": {
            "text/plain": [
              "<IPython.core.display.HTML object>"
            ],
            "text/html": [
              "Run data is saved locally in <code>/content/wandb/run-20250507_061503-fap2hf1l</code>"
            ]
          },
          "metadata": {}
        },
        {
          "output_type": "display_data",
          "data": {
            "text/plain": [
              "<IPython.core.display.HTML object>"
            ],
            "text/html": [
              "Syncing run <strong><a href='https://wandb.ai/adeakinwe-richkinwe-io/5-flowers-sweep/runs/fap2hf1l' target=\"_blank\">gentle-sweep-5</a></strong> to <a href='https://wandb.ai/adeakinwe-richkinwe-io/5-flowers-sweep' target=\"_blank\">Weights & Biases</a> (<a href='https://wandb.me/developer-guide' target=\"_blank\">docs</a>)<br>Sweep page: <a href='https://wandb.ai/adeakinwe-richkinwe-io/5-flowers-sweep/sweeps/qgsqn7e0' target=\"_blank\">https://wandb.ai/adeakinwe-richkinwe-io/5-flowers-sweep/sweeps/qgsqn7e0</a>"
            ]
          },
          "metadata": {}
        },
        {
          "output_type": "display_data",
          "data": {
            "text/plain": [
              "<IPython.core.display.HTML object>"
            ],
            "text/html": [
              " View project at <a href='https://wandb.ai/adeakinwe-richkinwe-io/5-flowers-sweep' target=\"_blank\">https://wandb.ai/adeakinwe-richkinwe-io/5-flowers-sweep</a>"
            ]
          },
          "metadata": {}
        },
        {
          "output_type": "display_data",
          "data": {
            "text/plain": [
              "<IPython.core.display.HTML object>"
            ],
            "text/html": [
              " View sweep at <a href='https://wandb.ai/adeakinwe-richkinwe-io/5-flowers-sweep/sweeps/qgsqn7e0' target=\"_blank\">https://wandb.ai/adeakinwe-richkinwe-io/5-flowers-sweep/sweeps/qgsqn7e0</a>"
            ]
          },
          "metadata": {}
        },
        {
          "output_type": "display_data",
          "data": {
            "text/plain": [
              "<IPython.core.display.HTML object>"
            ],
            "text/html": [
              " View run at <a href='https://wandb.ai/adeakinwe-richkinwe-io/5-flowers-sweep/runs/fap2hf1l' target=\"_blank\">https://wandb.ai/adeakinwe-richkinwe-io/5-flowers-sweep/runs/fap2hf1l</a>"
            ]
          },
          "metadata": {}
        },
        {
          "output_type": "display_data",
          "data": {
            "text/plain": [
              "<IPython.core.display.HTML object>"
            ],
            "text/html": []
          },
          "metadata": {}
        },
        {
          "output_type": "display_data",
          "data": {
            "text/plain": [
              "<IPython.core.display.HTML object>"
            ],
            "text/html": [
              " View run <strong style=\"color:#cdcd00\">gentle-sweep-5</strong> at: <a href='https://wandb.ai/adeakinwe-richkinwe-io/5-flowers-sweep/runs/fap2hf1l' target=\"_blank\">https://wandb.ai/adeakinwe-richkinwe-io/5-flowers-sweep/runs/fap2hf1l</a><br> View project at: <a href='https://wandb.ai/adeakinwe-richkinwe-io/5-flowers-sweep' target=\"_blank\">https://wandb.ai/adeakinwe-richkinwe-io/5-flowers-sweep</a><br>Synced 5 W&B file(s), 0 media file(s), 0 artifact file(s) and 0 other file(s)"
            ]
          },
          "metadata": {}
        },
        {
          "output_type": "display_data",
          "data": {
            "text/plain": [
              "<IPython.core.display.HTML object>"
            ],
            "text/html": [
              "Find logs at: <code>./wandb/run-20250507_061503-fap2hf1l/logs</code>"
            ]
          },
          "metadata": {}
        },
        {
          "output_type": "stream",
          "name": "stderr",
          "text": [
            "\u001b[34m\u001b[1mwandb\u001b[0m: Sweep Agent: Waiting for job.\n",
            "\u001b[34m\u001b[1mwandb\u001b[0m: Job received.\n",
            "\u001b[34m\u001b[1mwandb\u001b[0m: Agent Starting Run: d6hdhkdu with config:\n",
            "\u001b[34m\u001b[1mwandb\u001b[0m: \tbatch_size: 8\n",
            "\u001b[34m\u001b[1mwandb\u001b[0m: \tepochs: 5\n",
            "\u001b[34m\u001b[1mwandb\u001b[0m: \thidden_nodes: 64\n",
            "\u001b[34m\u001b[1mwandb\u001b[0m: \timg_size: 16\n",
            "\u001b[34m\u001b[1mwandb\u001b[0m: \tlearning_rate: 0.0001\n"
          ]
        },
        {
          "output_type": "display_data",
          "data": {
            "text/plain": [
              "<IPython.core.display.HTML object>"
            ],
            "text/html": [
              "Tracking run with wandb version 0.19.10"
            ]
          },
          "metadata": {}
        },
        {
          "output_type": "display_data",
          "data": {
            "text/plain": [
              "<IPython.core.display.HTML object>"
            ],
            "text/html": [
              "Run data is saved locally in <code>/content/wandb/run-20250507_061518-d6hdhkdu</code>"
            ]
          },
          "metadata": {}
        },
        {
          "output_type": "display_data",
          "data": {
            "text/plain": [
              "<IPython.core.display.HTML object>"
            ],
            "text/html": [
              "Syncing run <strong><a href='https://wandb.ai/adeakinwe-richkinwe-io/5-flowers-sweep/runs/d6hdhkdu' target=\"_blank\">proud-sweep-6</a></strong> to <a href='https://wandb.ai/adeakinwe-richkinwe-io/5-flowers-sweep' target=\"_blank\">Weights & Biases</a> (<a href='https://wandb.me/developer-guide' target=\"_blank\">docs</a>)<br>Sweep page: <a href='https://wandb.ai/adeakinwe-richkinwe-io/5-flowers-sweep/sweeps/qgsqn7e0' target=\"_blank\">https://wandb.ai/adeakinwe-richkinwe-io/5-flowers-sweep/sweeps/qgsqn7e0</a>"
            ]
          },
          "metadata": {}
        },
        {
          "output_type": "display_data",
          "data": {
            "text/plain": [
              "<IPython.core.display.HTML object>"
            ],
            "text/html": [
              " View project at <a href='https://wandb.ai/adeakinwe-richkinwe-io/5-flowers-sweep' target=\"_blank\">https://wandb.ai/adeakinwe-richkinwe-io/5-flowers-sweep</a>"
            ]
          },
          "metadata": {}
        },
        {
          "output_type": "display_data",
          "data": {
            "text/plain": [
              "<IPython.core.display.HTML object>"
            ],
            "text/html": [
              " View sweep at <a href='https://wandb.ai/adeakinwe-richkinwe-io/5-flowers-sweep/sweeps/qgsqn7e0' target=\"_blank\">https://wandb.ai/adeakinwe-richkinwe-io/5-flowers-sweep/sweeps/qgsqn7e0</a>"
            ]
          },
          "metadata": {}
        },
        {
          "output_type": "display_data",
          "data": {
            "text/plain": [
              "<IPython.core.display.HTML object>"
            ],
            "text/html": [
              " View run at <a href='https://wandb.ai/adeakinwe-richkinwe-io/5-flowers-sweep/runs/d6hdhkdu' target=\"_blank\">https://wandb.ai/adeakinwe-richkinwe-io/5-flowers-sweep/runs/d6hdhkdu</a>"
            ]
          },
          "metadata": {}
        },
        {
          "output_type": "display_data",
          "data": {
            "text/plain": [
              "<IPython.core.display.HTML object>"
            ],
            "text/html": []
          },
          "metadata": {}
        },
        {
          "output_type": "display_data",
          "data": {
            "text/plain": [
              "<IPython.core.display.HTML object>"
            ],
            "text/html": [
              " View run <strong style=\"color:#cdcd00\">proud-sweep-6</strong> at: <a href='https://wandb.ai/adeakinwe-richkinwe-io/5-flowers-sweep/runs/d6hdhkdu' target=\"_blank\">https://wandb.ai/adeakinwe-richkinwe-io/5-flowers-sweep/runs/d6hdhkdu</a><br> View project at: <a href='https://wandb.ai/adeakinwe-richkinwe-io/5-flowers-sweep' target=\"_blank\">https://wandb.ai/adeakinwe-richkinwe-io/5-flowers-sweep</a><br>Synced 5 W&B file(s), 0 media file(s), 0 artifact file(s) and 0 other file(s)"
            ]
          },
          "metadata": {}
        },
        {
          "output_type": "display_data",
          "data": {
            "text/plain": [
              "<IPython.core.display.HTML object>"
            ],
            "text/html": [
              "Find logs at: <code>./wandb/run-20250507_061518-d6hdhkdu/logs</code>"
            ]
          },
          "metadata": {}
        },
        {
          "output_type": "stream",
          "name": "stderr",
          "text": [
            "\u001b[34m\u001b[1mwandb\u001b[0m: Agent Starting Run: lptz1u9w with config:\n",
            "\u001b[34m\u001b[1mwandb\u001b[0m: \tbatch_size: 8\n",
            "\u001b[34m\u001b[1mwandb\u001b[0m: \tepochs: 5\n",
            "\u001b[34m\u001b[1mwandb\u001b[0m: \thidden_nodes: 64\n",
            "\u001b[34m\u001b[1mwandb\u001b[0m: \timg_size: 224\n",
            "\u001b[34m\u001b[1mwandb\u001b[0m: \tlearning_rate: 0.001\n"
          ]
        },
        {
          "output_type": "display_data",
          "data": {
            "text/plain": [
              "<IPython.core.display.HTML object>"
            ],
            "text/html": [
              "Tracking run with wandb version 0.19.10"
            ]
          },
          "metadata": {}
        },
        {
          "output_type": "display_data",
          "data": {
            "text/plain": [
              "<IPython.core.display.HTML object>"
            ],
            "text/html": [
              "Run data is saved locally in <code>/content/wandb/run-20250507_061524-lptz1u9w</code>"
            ]
          },
          "metadata": {}
        },
        {
          "output_type": "display_data",
          "data": {
            "text/plain": [
              "<IPython.core.display.HTML object>"
            ],
            "text/html": [
              "Syncing run <strong><a href='https://wandb.ai/adeakinwe-richkinwe-io/5-flowers-sweep/runs/lptz1u9w' target=\"_blank\">tough-sweep-7</a></strong> to <a href='https://wandb.ai/adeakinwe-richkinwe-io/5-flowers-sweep' target=\"_blank\">Weights & Biases</a> (<a href='https://wandb.me/developer-guide' target=\"_blank\">docs</a>)<br>Sweep page: <a href='https://wandb.ai/adeakinwe-richkinwe-io/5-flowers-sweep/sweeps/qgsqn7e0' target=\"_blank\">https://wandb.ai/adeakinwe-richkinwe-io/5-flowers-sweep/sweeps/qgsqn7e0</a>"
            ]
          },
          "metadata": {}
        },
        {
          "output_type": "display_data",
          "data": {
            "text/plain": [
              "<IPython.core.display.HTML object>"
            ],
            "text/html": [
              " View project at <a href='https://wandb.ai/adeakinwe-richkinwe-io/5-flowers-sweep' target=\"_blank\">https://wandb.ai/adeakinwe-richkinwe-io/5-flowers-sweep</a>"
            ]
          },
          "metadata": {}
        },
        {
          "output_type": "display_data",
          "data": {
            "text/plain": [
              "<IPython.core.display.HTML object>"
            ],
            "text/html": [
              " View sweep at <a href='https://wandb.ai/adeakinwe-richkinwe-io/5-flowers-sweep/sweeps/qgsqn7e0' target=\"_blank\">https://wandb.ai/adeakinwe-richkinwe-io/5-flowers-sweep/sweeps/qgsqn7e0</a>"
            ]
          },
          "metadata": {}
        },
        {
          "output_type": "display_data",
          "data": {
            "text/plain": [
              "<IPython.core.display.HTML object>"
            ],
            "text/html": [
              " View run at <a href='https://wandb.ai/adeakinwe-richkinwe-io/5-flowers-sweep/runs/lptz1u9w' target=\"_blank\">https://wandb.ai/adeakinwe-richkinwe-io/5-flowers-sweep/runs/lptz1u9w</a>"
            ]
          },
          "metadata": {}
        },
        {
          "output_type": "display_data",
          "data": {
            "text/plain": [
              "<IPython.core.display.HTML object>"
            ],
            "text/html": []
          },
          "metadata": {}
        },
        {
          "output_type": "display_data",
          "data": {
            "text/plain": [
              "<IPython.core.display.HTML object>"
            ],
            "text/html": [
              " View run <strong style=\"color:#cdcd00\">tough-sweep-7</strong> at: <a href='https://wandb.ai/adeakinwe-richkinwe-io/5-flowers-sweep/runs/lptz1u9w' target=\"_blank\">https://wandb.ai/adeakinwe-richkinwe-io/5-flowers-sweep/runs/lptz1u9w</a><br> View project at: <a href='https://wandb.ai/adeakinwe-richkinwe-io/5-flowers-sweep' target=\"_blank\">https://wandb.ai/adeakinwe-richkinwe-io/5-flowers-sweep</a><br>Synced 5 W&B file(s), 0 media file(s), 0 artifact file(s) and 0 other file(s)"
            ]
          },
          "metadata": {}
        },
        {
          "output_type": "display_data",
          "data": {
            "text/plain": [
              "<IPython.core.display.HTML object>"
            ],
            "text/html": [
              "Find logs at: <code>./wandb/run-20250507_061524-lptz1u9w/logs</code>"
            ]
          },
          "metadata": {}
        },
        {
          "output_type": "stream",
          "name": "stderr",
          "text": [
            "\u001b[34m\u001b[1mwandb\u001b[0m: Agent Starting Run: v49rrc1j with config:\n",
            "\u001b[34m\u001b[1mwandb\u001b[0m: \tbatch_size: 8\n",
            "\u001b[34m\u001b[1mwandb\u001b[0m: \tepochs: 5\n",
            "\u001b[34m\u001b[1mwandb\u001b[0m: \thidden_nodes: 64\n",
            "\u001b[34m\u001b[1mwandb\u001b[0m: \timg_size: 224\n",
            "\u001b[34m\u001b[1mwandb\u001b[0m: \tlearning_rate: 0.0001\n"
          ]
        },
        {
          "output_type": "display_data",
          "data": {
            "text/plain": [
              "<IPython.core.display.HTML object>"
            ],
            "text/html": [
              "Tracking run with wandb version 0.19.10"
            ]
          },
          "metadata": {}
        },
        {
          "output_type": "display_data",
          "data": {
            "text/plain": [
              "<IPython.core.display.HTML object>"
            ],
            "text/html": [
              "Run data is saved locally in <code>/content/wandb/run-20250507_061530-v49rrc1j</code>"
            ]
          },
          "metadata": {}
        },
        {
          "output_type": "display_data",
          "data": {
            "text/plain": [
              "<IPython.core.display.HTML object>"
            ],
            "text/html": [
              "Syncing run <strong><a href='https://wandb.ai/adeakinwe-richkinwe-io/5-flowers-sweep/runs/v49rrc1j' target=\"_blank\">worldly-sweep-8</a></strong> to <a href='https://wandb.ai/adeakinwe-richkinwe-io/5-flowers-sweep' target=\"_blank\">Weights & Biases</a> (<a href='https://wandb.me/developer-guide' target=\"_blank\">docs</a>)<br>Sweep page: <a href='https://wandb.ai/adeakinwe-richkinwe-io/5-flowers-sweep/sweeps/qgsqn7e0' target=\"_blank\">https://wandb.ai/adeakinwe-richkinwe-io/5-flowers-sweep/sweeps/qgsqn7e0</a>"
            ]
          },
          "metadata": {}
        },
        {
          "output_type": "display_data",
          "data": {
            "text/plain": [
              "<IPython.core.display.HTML object>"
            ],
            "text/html": [
              " View project at <a href='https://wandb.ai/adeakinwe-richkinwe-io/5-flowers-sweep' target=\"_blank\">https://wandb.ai/adeakinwe-richkinwe-io/5-flowers-sweep</a>"
            ]
          },
          "metadata": {}
        },
        {
          "output_type": "display_data",
          "data": {
            "text/plain": [
              "<IPython.core.display.HTML object>"
            ],
            "text/html": [
              " View sweep at <a href='https://wandb.ai/adeakinwe-richkinwe-io/5-flowers-sweep/sweeps/qgsqn7e0' target=\"_blank\">https://wandb.ai/adeakinwe-richkinwe-io/5-flowers-sweep/sweeps/qgsqn7e0</a>"
            ]
          },
          "metadata": {}
        },
        {
          "output_type": "display_data",
          "data": {
            "text/plain": [
              "<IPython.core.display.HTML object>"
            ],
            "text/html": [
              " View run at <a href='https://wandb.ai/adeakinwe-richkinwe-io/5-flowers-sweep/runs/v49rrc1j' target=\"_blank\">https://wandb.ai/adeakinwe-richkinwe-io/5-flowers-sweep/runs/v49rrc1j</a>"
            ]
          },
          "metadata": {}
        },
        {
          "output_type": "display_data",
          "data": {
            "text/plain": [
              "<IPython.core.display.HTML object>"
            ],
            "text/html": []
          },
          "metadata": {}
        },
        {
          "output_type": "display_data",
          "data": {
            "text/plain": [
              "<IPython.core.display.HTML object>"
            ],
            "text/html": [
              " View run <strong style=\"color:#cdcd00\">worldly-sweep-8</strong> at: <a href='https://wandb.ai/adeakinwe-richkinwe-io/5-flowers-sweep/runs/v49rrc1j' target=\"_blank\">https://wandb.ai/adeakinwe-richkinwe-io/5-flowers-sweep/runs/v49rrc1j</a><br> View project at: <a href='https://wandb.ai/adeakinwe-richkinwe-io/5-flowers-sweep' target=\"_blank\">https://wandb.ai/adeakinwe-richkinwe-io/5-flowers-sweep</a><br>Synced 5 W&B file(s), 0 media file(s), 0 artifact file(s) and 0 other file(s)"
            ]
          },
          "metadata": {}
        },
        {
          "output_type": "display_data",
          "data": {
            "text/plain": [
              "<IPython.core.display.HTML object>"
            ],
            "text/html": [
              "Find logs at: <code>./wandb/run-20250507_061530-v49rrc1j/logs</code>"
            ]
          },
          "metadata": {}
        },
        {
          "output_type": "stream",
          "name": "stderr",
          "text": [
            "\u001b[34m\u001b[1mwandb\u001b[0m: Agent Starting Run: bz8pfh2b with config:\n",
            "\u001b[34m\u001b[1mwandb\u001b[0m: \tbatch_size: 8\n",
            "\u001b[34m\u001b[1mwandb\u001b[0m: \tepochs: 10\n",
            "\u001b[34m\u001b[1mwandb\u001b[0m: \thidden_nodes: 128\n",
            "\u001b[34m\u001b[1mwandb\u001b[0m: \timg_size: 16\n",
            "\u001b[34m\u001b[1mwandb\u001b[0m: \tlearning_rate: 0.001\n"
          ]
        },
        {
          "output_type": "display_data",
          "data": {
            "text/plain": [
              "<IPython.core.display.HTML object>"
            ],
            "text/html": [
              "Tracking run with wandb version 0.19.10"
            ]
          },
          "metadata": {}
        },
        {
          "output_type": "display_data",
          "data": {
            "text/plain": [
              "<IPython.core.display.HTML object>"
            ],
            "text/html": [
              "Run data is saved locally in <code>/content/wandb/run-20250507_061535-bz8pfh2b</code>"
            ]
          },
          "metadata": {}
        },
        {
          "output_type": "display_data",
          "data": {
            "text/plain": [
              "<IPython.core.display.HTML object>"
            ],
            "text/html": [
              "Syncing run <strong><a href='https://wandb.ai/adeakinwe-richkinwe-io/5-flowers-sweep/runs/bz8pfh2b' target=\"_blank\">apricot-sweep-9</a></strong> to <a href='https://wandb.ai/adeakinwe-richkinwe-io/5-flowers-sweep' target=\"_blank\">Weights & Biases</a> (<a href='https://wandb.me/developer-guide' target=\"_blank\">docs</a>)<br>Sweep page: <a href='https://wandb.ai/adeakinwe-richkinwe-io/5-flowers-sweep/sweeps/qgsqn7e0' target=\"_blank\">https://wandb.ai/adeakinwe-richkinwe-io/5-flowers-sweep/sweeps/qgsqn7e0</a>"
            ]
          },
          "metadata": {}
        },
        {
          "output_type": "display_data",
          "data": {
            "text/plain": [
              "<IPython.core.display.HTML object>"
            ],
            "text/html": [
              " View project at <a href='https://wandb.ai/adeakinwe-richkinwe-io/5-flowers-sweep' target=\"_blank\">https://wandb.ai/adeakinwe-richkinwe-io/5-flowers-sweep</a>"
            ]
          },
          "metadata": {}
        },
        {
          "output_type": "display_data",
          "data": {
            "text/plain": [
              "<IPython.core.display.HTML object>"
            ],
            "text/html": [
              " View sweep at <a href='https://wandb.ai/adeakinwe-richkinwe-io/5-flowers-sweep/sweeps/qgsqn7e0' target=\"_blank\">https://wandb.ai/adeakinwe-richkinwe-io/5-flowers-sweep/sweeps/qgsqn7e0</a>"
            ]
          },
          "metadata": {}
        },
        {
          "output_type": "display_data",
          "data": {
            "text/plain": [
              "<IPython.core.display.HTML object>"
            ],
            "text/html": [
              " View run at <a href='https://wandb.ai/adeakinwe-richkinwe-io/5-flowers-sweep/runs/bz8pfh2b' target=\"_blank\">https://wandb.ai/adeakinwe-richkinwe-io/5-flowers-sweep/runs/bz8pfh2b</a>"
            ]
          },
          "metadata": {}
        },
        {
          "output_type": "display_data",
          "data": {
            "text/plain": [
              "<IPython.core.display.HTML object>"
            ],
            "text/html": []
          },
          "metadata": {}
        },
        {
          "output_type": "display_data",
          "data": {
            "text/plain": [
              "<IPython.core.display.HTML object>"
            ],
            "text/html": [
              " View run <strong style=\"color:#cdcd00\">apricot-sweep-9</strong> at: <a href='https://wandb.ai/adeakinwe-richkinwe-io/5-flowers-sweep/runs/bz8pfh2b' target=\"_blank\">https://wandb.ai/adeakinwe-richkinwe-io/5-flowers-sweep/runs/bz8pfh2b</a><br> View project at: <a href='https://wandb.ai/adeakinwe-richkinwe-io/5-flowers-sweep' target=\"_blank\">https://wandb.ai/adeakinwe-richkinwe-io/5-flowers-sweep</a><br>Synced 5 W&B file(s), 0 media file(s), 0 artifact file(s) and 0 other file(s)"
            ]
          },
          "metadata": {}
        },
        {
          "output_type": "display_data",
          "data": {
            "text/plain": [
              "<IPython.core.display.HTML object>"
            ],
            "text/html": [
              "Find logs at: <code>./wandb/run-20250507_061535-bz8pfh2b/logs</code>"
            ]
          },
          "metadata": {}
        },
        {
          "output_type": "stream",
          "name": "stderr",
          "text": [
            "\u001b[34m\u001b[1mwandb\u001b[0m: Sweep Agent: Waiting for job.\n",
            "\u001b[34m\u001b[1mwandb\u001b[0m: Job received.\n",
            "\u001b[34m\u001b[1mwandb\u001b[0m: Agent Starting Run: bxqbsui6 with config:\n",
            "\u001b[34m\u001b[1mwandb\u001b[0m: \tbatch_size: 8\n",
            "\u001b[34m\u001b[1mwandb\u001b[0m: \tepochs: 10\n",
            "\u001b[34m\u001b[1mwandb\u001b[0m: \thidden_nodes: 128\n",
            "\u001b[34m\u001b[1mwandb\u001b[0m: \timg_size: 16\n",
            "\u001b[34m\u001b[1mwandb\u001b[0m: \tlearning_rate: 0.0001\n"
          ]
        },
        {
          "output_type": "display_data",
          "data": {
            "text/plain": [
              "<IPython.core.display.HTML object>"
            ],
            "text/html": [
              "Tracking run with wandb version 0.19.10"
            ]
          },
          "metadata": {}
        },
        {
          "output_type": "display_data",
          "data": {
            "text/plain": [
              "<IPython.core.display.HTML object>"
            ],
            "text/html": [
              "Run data is saved locally in <code>/content/wandb/run-20250507_061550-bxqbsui6</code>"
            ]
          },
          "metadata": {}
        },
        {
          "output_type": "display_data",
          "data": {
            "text/plain": [
              "<IPython.core.display.HTML object>"
            ],
            "text/html": [
              "Syncing run <strong><a href='https://wandb.ai/adeakinwe-richkinwe-io/5-flowers-sweep/runs/bxqbsui6' target=\"_blank\">dainty-sweep-10</a></strong> to <a href='https://wandb.ai/adeakinwe-richkinwe-io/5-flowers-sweep' target=\"_blank\">Weights & Biases</a> (<a href='https://wandb.me/developer-guide' target=\"_blank\">docs</a>)<br>Sweep page: <a href='https://wandb.ai/adeakinwe-richkinwe-io/5-flowers-sweep/sweeps/qgsqn7e0' target=\"_blank\">https://wandb.ai/adeakinwe-richkinwe-io/5-flowers-sweep/sweeps/qgsqn7e0</a>"
            ]
          },
          "metadata": {}
        },
        {
          "output_type": "display_data",
          "data": {
            "text/plain": [
              "<IPython.core.display.HTML object>"
            ],
            "text/html": [
              " View project at <a href='https://wandb.ai/adeakinwe-richkinwe-io/5-flowers-sweep' target=\"_blank\">https://wandb.ai/adeakinwe-richkinwe-io/5-flowers-sweep</a>"
            ]
          },
          "metadata": {}
        },
        {
          "output_type": "display_data",
          "data": {
            "text/plain": [
              "<IPython.core.display.HTML object>"
            ],
            "text/html": [
              " View sweep at <a href='https://wandb.ai/adeakinwe-richkinwe-io/5-flowers-sweep/sweeps/qgsqn7e0' target=\"_blank\">https://wandb.ai/adeakinwe-richkinwe-io/5-flowers-sweep/sweeps/qgsqn7e0</a>"
            ]
          },
          "metadata": {}
        },
        {
          "output_type": "display_data",
          "data": {
            "text/plain": [
              "<IPython.core.display.HTML object>"
            ],
            "text/html": [
              " View run at <a href='https://wandb.ai/adeakinwe-richkinwe-io/5-flowers-sweep/runs/bxqbsui6' target=\"_blank\">https://wandb.ai/adeakinwe-richkinwe-io/5-flowers-sweep/runs/bxqbsui6</a>"
            ]
          },
          "metadata": {}
        },
        {
          "output_type": "display_data",
          "data": {
            "text/plain": [
              "<IPython.core.display.HTML object>"
            ],
            "text/html": []
          },
          "metadata": {}
        },
        {
          "output_type": "display_data",
          "data": {
            "text/plain": [
              "<IPython.core.display.HTML object>"
            ],
            "text/html": [
              " View run <strong style=\"color:#cdcd00\">dainty-sweep-10</strong> at: <a href='https://wandb.ai/adeakinwe-richkinwe-io/5-flowers-sweep/runs/bxqbsui6' target=\"_blank\">https://wandb.ai/adeakinwe-richkinwe-io/5-flowers-sweep/runs/bxqbsui6</a><br> View project at: <a href='https://wandb.ai/adeakinwe-richkinwe-io/5-flowers-sweep' target=\"_blank\">https://wandb.ai/adeakinwe-richkinwe-io/5-flowers-sweep</a><br>Synced 5 W&B file(s), 0 media file(s), 0 artifact file(s) and 0 other file(s)"
            ]
          },
          "metadata": {}
        },
        {
          "output_type": "display_data",
          "data": {
            "text/plain": [
              "<IPython.core.display.HTML object>"
            ],
            "text/html": [
              "Find logs at: <code>./wandb/run-20250507_061550-bxqbsui6/logs</code>"
            ]
          },
          "metadata": {}
        },
        {
          "output_type": "stream",
          "name": "stderr",
          "text": [
            "\u001b[34m\u001b[1mwandb\u001b[0m: Agent Starting Run: e5lbryun with config:\n",
            "\u001b[34m\u001b[1mwandb\u001b[0m: \tbatch_size: 8\n",
            "\u001b[34m\u001b[1mwandb\u001b[0m: \tepochs: 10\n",
            "\u001b[34m\u001b[1mwandb\u001b[0m: \thidden_nodes: 128\n",
            "\u001b[34m\u001b[1mwandb\u001b[0m: \timg_size: 224\n",
            "\u001b[34m\u001b[1mwandb\u001b[0m: \tlearning_rate: 0.001\n"
          ]
        },
        {
          "output_type": "display_data",
          "data": {
            "text/plain": [
              "<IPython.core.display.HTML object>"
            ],
            "text/html": [
              "Tracking run with wandb version 0.19.10"
            ]
          },
          "metadata": {}
        },
        {
          "output_type": "display_data",
          "data": {
            "text/plain": [
              "<IPython.core.display.HTML object>"
            ],
            "text/html": [
              "Run data is saved locally in <code>/content/wandb/run-20250507_061556-e5lbryun</code>"
            ]
          },
          "metadata": {}
        },
        {
          "output_type": "display_data",
          "data": {
            "text/plain": [
              "<IPython.core.display.HTML object>"
            ],
            "text/html": [
              "Syncing run <strong><a href='https://wandb.ai/adeakinwe-richkinwe-io/5-flowers-sweep/runs/e5lbryun' target=\"_blank\">electric-sweep-11</a></strong> to <a href='https://wandb.ai/adeakinwe-richkinwe-io/5-flowers-sweep' target=\"_blank\">Weights & Biases</a> (<a href='https://wandb.me/developer-guide' target=\"_blank\">docs</a>)<br>Sweep page: <a href='https://wandb.ai/adeakinwe-richkinwe-io/5-flowers-sweep/sweeps/qgsqn7e0' target=\"_blank\">https://wandb.ai/adeakinwe-richkinwe-io/5-flowers-sweep/sweeps/qgsqn7e0</a>"
            ]
          },
          "metadata": {}
        },
        {
          "output_type": "display_data",
          "data": {
            "text/plain": [
              "<IPython.core.display.HTML object>"
            ],
            "text/html": [
              " View project at <a href='https://wandb.ai/adeakinwe-richkinwe-io/5-flowers-sweep' target=\"_blank\">https://wandb.ai/adeakinwe-richkinwe-io/5-flowers-sweep</a>"
            ]
          },
          "metadata": {}
        },
        {
          "output_type": "display_data",
          "data": {
            "text/plain": [
              "<IPython.core.display.HTML object>"
            ],
            "text/html": [
              " View sweep at <a href='https://wandb.ai/adeakinwe-richkinwe-io/5-flowers-sweep/sweeps/qgsqn7e0' target=\"_blank\">https://wandb.ai/adeakinwe-richkinwe-io/5-flowers-sweep/sweeps/qgsqn7e0</a>"
            ]
          },
          "metadata": {}
        },
        {
          "output_type": "display_data",
          "data": {
            "text/plain": [
              "<IPython.core.display.HTML object>"
            ],
            "text/html": [
              " View run at <a href='https://wandb.ai/adeakinwe-richkinwe-io/5-flowers-sweep/runs/e5lbryun' target=\"_blank\">https://wandb.ai/adeakinwe-richkinwe-io/5-flowers-sweep/runs/e5lbryun</a>"
            ]
          },
          "metadata": {}
        },
        {
          "output_type": "display_data",
          "data": {
            "text/plain": [
              "<IPython.core.display.HTML object>"
            ],
            "text/html": []
          },
          "metadata": {}
        },
        {
          "output_type": "display_data",
          "data": {
            "text/plain": [
              "<IPython.core.display.HTML object>"
            ],
            "text/html": [
              " View run <strong style=\"color:#cdcd00\">electric-sweep-11</strong> at: <a href='https://wandb.ai/adeakinwe-richkinwe-io/5-flowers-sweep/runs/e5lbryun' target=\"_blank\">https://wandb.ai/adeakinwe-richkinwe-io/5-flowers-sweep/runs/e5lbryun</a><br> View project at: <a href='https://wandb.ai/adeakinwe-richkinwe-io/5-flowers-sweep' target=\"_blank\">https://wandb.ai/adeakinwe-richkinwe-io/5-flowers-sweep</a><br>Synced 5 W&B file(s), 0 media file(s), 0 artifact file(s) and 0 other file(s)"
            ]
          },
          "metadata": {}
        },
        {
          "output_type": "display_data",
          "data": {
            "text/plain": [
              "<IPython.core.display.HTML object>"
            ],
            "text/html": [
              "Find logs at: <code>./wandb/run-20250507_061556-e5lbryun/logs</code>"
            ]
          },
          "metadata": {}
        },
        {
          "output_type": "stream",
          "name": "stderr",
          "text": [
            "\u001b[34m\u001b[1mwandb\u001b[0m: Sweep Agent: Waiting for job.\n",
            "\u001b[34m\u001b[1mwandb\u001b[0m: Job received.\n",
            "\u001b[34m\u001b[1mwandb\u001b[0m: Agent Starting Run: fszgopky with config:\n",
            "\u001b[34m\u001b[1mwandb\u001b[0m: \tbatch_size: 8\n",
            "\u001b[34m\u001b[1mwandb\u001b[0m: \tepochs: 10\n",
            "\u001b[34m\u001b[1mwandb\u001b[0m: \thidden_nodes: 128\n",
            "\u001b[34m\u001b[1mwandb\u001b[0m: \timg_size: 224\n",
            "\u001b[34m\u001b[1mwandb\u001b[0m: \tlearning_rate: 0.0001\n"
          ]
        },
        {
          "output_type": "display_data",
          "data": {
            "text/plain": [
              "<IPython.core.display.HTML object>"
            ],
            "text/html": [
              "Tracking run with wandb version 0.19.10"
            ]
          },
          "metadata": {}
        },
        {
          "output_type": "display_data",
          "data": {
            "text/plain": [
              "<IPython.core.display.HTML object>"
            ],
            "text/html": [
              "Run data is saved locally in <code>/content/wandb/run-20250507_061611-fszgopky</code>"
            ]
          },
          "metadata": {}
        },
        {
          "output_type": "display_data",
          "data": {
            "text/plain": [
              "<IPython.core.display.HTML object>"
            ],
            "text/html": [
              "Syncing run <strong><a href='https://wandb.ai/adeakinwe-richkinwe-io/5-flowers-sweep/runs/fszgopky' target=\"_blank\">effortless-sweep-12</a></strong> to <a href='https://wandb.ai/adeakinwe-richkinwe-io/5-flowers-sweep' target=\"_blank\">Weights & Biases</a> (<a href='https://wandb.me/developer-guide' target=\"_blank\">docs</a>)<br>Sweep page: <a href='https://wandb.ai/adeakinwe-richkinwe-io/5-flowers-sweep/sweeps/qgsqn7e0' target=\"_blank\">https://wandb.ai/adeakinwe-richkinwe-io/5-flowers-sweep/sweeps/qgsqn7e0</a>"
            ]
          },
          "metadata": {}
        },
        {
          "output_type": "display_data",
          "data": {
            "text/plain": [
              "<IPython.core.display.HTML object>"
            ],
            "text/html": [
              " View project at <a href='https://wandb.ai/adeakinwe-richkinwe-io/5-flowers-sweep' target=\"_blank\">https://wandb.ai/adeakinwe-richkinwe-io/5-flowers-sweep</a>"
            ]
          },
          "metadata": {}
        },
        {
          "output_type": "display_data",
          "data": {
            "text/plain": [
              "<IPython.core.display.HTML object>"
            ],
            "text/html": [
              " View sweep at <a href='https://wandb.ai/adeakinwe-richkinwe-io/5-flowers-sweep/sweeps/qgsqn7e0' target=\"_blank\">https://wandb.ai/adeakinwe-richkinwe-io/5-flowers-sweep/sweeps/qgsqn7e0</a>"
            ]
          },
          "metadata": {}
        },
        {
          "output_type": "display_data",
          "data": {
            "text/plain": [
              "<IPython.core.display.HTML object>"
            ],
            "text/html": [
              " View run at <a href='https://wandb.ai/adeakinwe-richkinwe-io/5-flowers-sweep/runs/fszgopky' target=\"_blank\">https://wandb.ai/adeakinwe-richkinwe-io/5-flowers-sweep/runs/fszgopky</a>"
            ]
          },
          "metadata": {}
        },
        {
          "output_type": "display_data",
          "data": {
            "text/plain": [
              "<IPython.core.display.HTML object>"
            ],
            "text/html": []
          },
          "metadata": {}
        },
        {
          "output_type": "display_data",
          "data": {
            "text/plain": [
              "<IPython.core.display.HTML object>"
            ],
            "text/html": [
              " View run <strong style=\"color:#cdcd00\">effortless-sweep-12</strong> at: <a href='https://wandb.ai/adeakinwe-richkinwe-io/5-flowers-sweep/runs/fszgopky' target=\"_blank\">https://wandb.ai/adeakinwe-richkinwe-io/5-flowers-sweep/runs/fszgopky</a><br> View project at: <a href='https://wandb.ai/adeakinwe-richkinwe-io/5-flowers-sweep' target=\"_blank\">https://wandb.ai/adeakinwe-richkinwe-io/5-flowers-sweep</a><br>Synced 5 W&B file(s), 0 media file(s), 0 artifact file(s) and 0 other file(s)"
            ]
          },
          "metadata": {}
        },
        {
          "output_type": "display_data",
          "data": {
            "text/plain": [
              "<IPython.core.display.HTML object>"
            ],
            "text/html": [
              "Find logs at: <code>./wandb/run-20250507_061611-fszgopky/logs</code>"
            ]
          },
          "metadata": {}
        },
        {
          "output_type": "stream",
          "name": "stderr",
          "text": [
            "\u001b[34m\u001b[1mwandb\u001b[0m: Agent Starting Run: xtzi5xxx with config:\n",
            "\u001b[34m\u001b[1mwandb\u001b[0m: \tbatch_size: 8\n",
            "\u001b[34m\u001b[1mwandb\u001b[0m: \tepochs: 10\n",
            "\u001b[34m\u001b[1mwandb\u001b[0m: \thidden_nodes: 64\n",
            "\u001b[34m\u001b[1mwandb\u001b[0m: \timg_size: 16\n",
            "\u001b[34m\u001b[1mwandb\u001b[0m: \tlearning_rate: 0.001\n"
          ]
        },
        {
          "output_type": "display_data",
          "data": {
            "text/plain": [
              "<IPython.core.display.HTML object>"
            ],
            "text/html": [
              "Tracking run with wandb version 0.19.10"
            ]
          },
          "metadata": {}
        },
        {
          "output_type": "display_data",
          "data": {
            "text/plain": [
              "<IPython.core.display.HTML object>"
            ],
            "text/html": [
              "Run data is saved locally in <code>/content/wandb/run-20250507_061618-xtzi5xxx</code>"
            ]
          },
          "metadata": {}
        },
        {
          "output_type": "display_data",
          "data": {
            "text/plain": [
              "<IPython.core.display.HTML object>"
            ],
            "text/html": [
              "Syncing run <strong><a href='https://wandb.ai/adeakinwe-richkinwe-io/5-flowers-sweep/runs/xtzi5xxx' target=\"_blank\">woven-sweep-13</a></strong> to <a href='https://wandb.ai/adeakinwe-richkinwe-io/5-flowers-sweep' target=\"_blank\">Weights & Biases</a> (<a href='https://wandb.me/developer-guide' target=\"_blank\">docs</a>)<br>Sweep page: <a href='https://wandb.ai/adeakinwe-richkinwe-io/5-flowers-sweep/sweeps/qgsqn7e0' target=\"_blank\">https://wandb.ai/adeakinwe-richkinwe-io/5-flowers-sweep/sweeps/qgsqn7e0</a>"
            ]
          },
          "metadata": {}
        },
        {
          "output_type": "display_data",
          "data": {
            "text/plain": [
              "<IPython.core.display.HTML object>"
            ],
            "text/html": [
              " View project at <a href='https://wandb.ai/adeakinwe-richkinwe-io/5-flowers-sweep' target=\"_blank\">https://wandb.ai/adeakinwe-richkinwe-io/5-flowers-sweep</a>"
            ]
          },
          "metadata": {}
        },
        {
          "output_type": "display_data",
          "data": {
            "text/plain": [
              "<IPython.core.display.HTML object>"
            ],
            "text/html": [
              " View sweep at <a href='https://wandb.ai/adeakinwe-richkinwe-io/5-flowers-sweep/sweeps/qgsqn7e0' target=\"_blank\">https://wandb.ai/adeakinwe-richkinwe-io/5-flowers-sweep/sweeps/qgsqn7e0</a>"
            ]
          },
          "metadata": {}
        },
        {
          "output_type": "display_data",
          "data": {
            "text/plain": [
              "<IPython.core.display.HTML object>"
            ],
            "text/html": [
              " View run at <a href='https://wandb.ai/adeakinwe-richkinwe-io/5-flowers-sweep/runs/xtzi5xxx' target=\"_blank\">https://wandb.ai/adeakinwe-richkinwe-io/5-flowers-sweep/runs/xtzi5xxx</a>"
            ]
          },
          "metadata": {}
        },
        {
          "output_type": "display_data",
          "data": {
            "text/plain": [
              "<IPython.core.display.HTML object>"
            ],
            "text/html": []
          },
          "metadata": {}
        },
        {
          "output_type": "display_data",
          "data": {
            "text/plain": [
              "<IPython.core.display.HTML object>"
            ],
            "text/html": [
              " View run <strong style=\"color:#cdcd00\">woven-sweep-13</strong> at: <a href='https://wandb.ai/adeakinwe-richkinwe-io/5-flowers-sweep/runs/xtzi5xxx' target=\"_blank\">https://wandb.ai/adeakinwe-richkinwe-io/5-flowers-sweep/runs/xtzi5xxx</a><br> View project at: <a href='https://wandb.ai/adeakinwe-richkinwe-io/5-flowers-sweep' target=\"_blank\">https://wandb.ai/adeakinwe-richkinwe-io/5-flowers-sweep</a><br>Synced 5 W&B file(s), 0 media file(s), 0 artifact file(s) and 0 other file(s)"
            ]
          },
          "metadata": {}
        },
        {
          "output_type": "display_data",
          "data": {
            "text/plain": [
              "<IPython.core.display.HTML object>"
            ],
            "text/html": [
              "Find logs at: <code>./wandb/run-20250507_061618-xtzi5xxx/logs</code>"
            ]
          },
          "metadata": {}
        },
        {
          "output_type": "stream",
          "name": "stderr",
          "text": [
            "\u001b[34m\u001b[1mwandb\u001b[0m: Sweep Agent: Waiting for job.\n",
            "\u001b[34m\u001b[1mwandb\u001b[0m: Job received.\n",
            "\u001b[34m\u001b[1mwandb\u001b[0m: Agent Starting Run: ms2vzl96 with config:\n",
            "\u001b[34m\u001b[1mwandb\u001b[0m: \tbatch_size: 8\n",
            "\u001b[34m\u001b[1mwandb\u001b[0m: \tepochs: 10\n",
            "\u001b[34m\u001b[1mwandb\u001b[0m: \thidden_nodes: 64\n",
            "\u001b[34m\u001b[1mwandb\u001b[0m: \timg_size: 16\n",
            "\u001b[34m\u001b[1mwandb\u001b[0m: \tlearning_rate: 0.0001\n"
          ]
        },
        {
          "output_type": "display_data",
          "data": {
            "text/plain": [
              "<IPython.core.display.HTML object>"
            ],
            "text/html": [
              "Tracking run with wandb version 0.19.10"
            ]
          },
          "metadata": {}
        },
        {
          "output_type": "display_data",
          "data": {
            "text/plain": [
              "<IPython.core.display.HTML object>"
            ],
            "text/html": [
              "Run data is saved locally in <code>/content/wandb/run-20250507_061634-ms2vzl96</code>"
            ]
          },
          "metadata": {}
        },
        {
          "output_type": "display_data",
          "data": {
            "text/plain": [
              "<IPython.core.display.HTML object>"
            ],
            "text/html": [
              "Syncing run <strong><a href='https://wandb.ai/adeakinwe-richkinwe-io/5-flowers-sweep/runs/ms2vzl96' target=\"_blank\">true-sweep-14</a></strong> to <a href='https://wandb.ai/adeakinwe-richkinwe-io/5-flowers-sweep' target=\"_blank\">Weights & Biases</a> (<a href='https://wandb.me/developer-guide' target=\"_blank\">docs</a>)<br>Sweep page: <a href='https://wandb.ai/adeakinwe-richkinwe-io/5-flowers-sweep/sweeps/qgsqn7e0' target=\"_blank\">https://wandb.ai/adeakinwe-richkinwe-io/5-flowers-sweep/sweeps/qgsqn7e0</a>"
            ]
          },
          "metadata": {}
        },
        {
          "output_type": "display_data",
          "data": {
            "text/plain": [
              "<IPython.core.display.HTML object>"
            ],
            "text/html": [
              " View project at <a href='https://wandb.ai/adeakinwe-richkinwe-io/5-flowers-sweep' target=\"_blank\">https://wandb.ai/adeakinwe-richkinwe-io/5-flowers-sweep</a>"
            ]
          },
          "metadata": {}
        },
        {
          "output_type": "display_data",
          "data": {
            "text/plain": [
              "<IPython.core.display.HTML object>"
            ],
            "text/html": [
              " View sweep at <a href='https://wandb.ai/adeakinwe-richkinwe-io/5-flowers-sweep/sweeps/qgsqn7e0' target=\"_blank\">https://wandb.ai/adeakinwe-richkinwe-io/5-flowers-sweep/sweeps/qgsqn7e0</a>"
            ]
          },
          "metadata": {}
        },
        {
          "output_type": "display_data",
          "data": {
            "text/plain": [
              "<IPython.core.display.HTML object>"
            ],
            "text/html": [
              " View run at <a href='https://wandb.ai/adeakinwe-richkinwe-io/5-flowers-sweep/runs/ms2vzl96' target=\"_blank\">https://wandb.ai/adeakinwe-richkinwe-io/5-flowers-sweep/runs/ms2vzl96</a>"
            ]
          },
          "metadata": {}
        },
        {
          "output_type": "display_data",
          "data": {
            "text/plain": [
              "<IPython.core.display.HTML object>"
            ],
            "text/html": []
          },
          "metadata": {}
        },
        {
          "output_type": "display_data",
          "data": {
            "text/plain": [
              "<IPython.core.display.HTML object>"
            ],
            "text/html": [
              " View run <strong style=\"color:#cdcd00\">true-sweep-14</strong> at: <a href='https://wandb.ai/adeakinwe-richkinwe-io/5-flowers-sweep/runs/ms2vzl96' target=\"_blank\">https://wandb.ai/adeakinwe-richkinwe-io/5-flowers-sweep/runs/ms2vzl96</a><br> View project at: <a href='https://wandb.ai/adeakinwe-richkinwe-io/5-flowers-sweep' target=\"_blank\">https://wandb.ai/adeakinwe-richkinwe-io/5-flowers-sweep</a><br>Synced 5 W&B file(s), 0 media file(s), 0 artifact file(s) and 0 other file(s)"
            ]
          },
          "metadata": {}
        },
        {
          "output_type": "display_data",
          "data": {
            "text/plain": [
              "<IPython.core.display.HTML object>"
            ],
            "text/html": [
              "Find logs at: <code>./wandb/run-20250507_061634-ms2vzl96/logs</code>"
            ]
          },
          "metadata": {}
        },
        {
          "output_type": "stream",
          "name": "stderr",
          "text": [
            "\u001b[34m\u001b[1mwandb\u001b[0m: Sweep Agent: Waiting for job.\n",
            "\u001b[34m\u001b[1mwandb\u001b[0m: Job received.\n",
            "\u001b[34m\u001b[1mwandb\u001b[0m: Agent Starting Run: jh67ly1t with config:\n",
            "\u001b[34m\u001b[1mwandb\u001b[0m: \tbatch_size: 8\n",
            "\u001b[34m\u001b[1mwandb\u001b[0m: \tepochs: 10\n",
            "\u001b[34m\u001b[1mwandb\u001b[0m: \thidden_nodes: 64\n",
            "\u001b[34m\u001b[1mwandb\u001b[0m: \timg_size: 224\n",
            "\u001b[34m\u001b[1mwandb\u001b[0m: \tlearning_rate: 0.001\n"
          ]
        },
        {
          "output_type": "display_data",
          "data": {
            "text/plain": [
              "<IPython.core.display.HTML object>"
            ],
            "text/html": [
              "Tracking run with wandb version 0.19.10"
            ]
          },
          "metadata": {}
        },
        {
          "output_type": "display_data",
          "data": {
            "text/plain": [
              "<IPython.core.display.HTML object>"
            ],
            "text/html": [
              "Run data is saved locally in <code>/content/wandb/run-20250507_061649-jh67ly1t</code>"
            ]
          },
          "metadata": {}
        },
        {
          "output_type": "display_data",
          "data": {
            "text/plain": [
              "<IPython.core.display.HTML object>"
            ],
            "text/html": [
              "Syncing run <strong><a href='https://wandb.ai/adeakinwe-richkinwe-io/5-flowers-sweep/runs/jh67ly1t' target=\"_blank\">brisk-sweep-15</a></strong> to <a href='https://wandb.ai/adeakinwe-richkinwe-io/5-flowers-sweep' target=\"_blank\">Weights & Biases</a> (<a href='https://wandb.me/developer-guide' target=\"_blank\">docs</a>)<br>Sweep page: <a href='https://wandb.ai/adeakinwe-richkinwe-io/5-flowers-sweep/sweeps/qgsqn7e0' target=\"_blank\">https://wandb.ai/adeakinwe-richkinwe-io/5-flowers-sweep/sweeps/qgsqn7e0</a>"
            ]
          },
          "metadata": {}
        },
        {
          "output_type": "display_data",
          "data": {
            "text/plain": [
              "<IPython.core.display.HTML object>"
            ],
            "text/html": [
              " View project at <a href='https://wandb.ai/adeakinwe-richkinwe-io/5-flowers-sweep' target=\"_blank\">https://wandb.ai/adeakinwe-richkinwe-io/5-flowers-sweep</a>"
            ]
          },
          "metadata": {}
        },
        {
          "output_type": "display_data",
          "data": {
            "text/plain": [
              "<IPython.core.display.HTML object>"
            ],
            "text/html": [
              " View sweep at <a href='https://wandb.ai/adeakinwe-richkinwe-io/5-flowers-sweep/sweeps/qgsqn7e0' target=\"_blank\">https://wandb.ai/adeakinwe-richkinwe-io/5-flowers-sweep/sweeps/qgsqn7e0</a>"
            ]
          },
          "metadata": {}
        },
        {
          "output_type": "display_data",
          "data": {
            "text/plain": [
              "<IPython.core.display.HTML object>"
            ],
            "text/html": [
              " View run at <a href='https://wandb.ai/adeakinwe-richkinwe-io/5-flowers-sweep/runs/jh67ly1t' target=\"_blank\">https://wandb.ai/adeakinwe-richkinwe-io/5-flowers-sweep/runs/jh67ly1t</a>"
            ]
          },
          "metadata": {}
        },
        {
          "output_type": "display_data",
          "data": {
            "text/plain": [
              "<IPython.core.display.HTML object>"
            ],
            "text/html": []
          },
          "metadata": {}
        },
        {
          "output_type": "display_data",
          "data": {
            "text/plain": [
              "<IPython.core.display.HTML object>"
            ],
            "text/html": [
              " View run <strong style=\"color:#cdcd00\">brisk-sweep-15</strong> at: <a href='https://wandb.ai/adeakinwe-richkinwe-io/5-flowers-sweep/runs/jh67ly1t' target=\"_blank\">https://wandb.ai/adeakinwe-richkinwe-io/5-flowers-sweep/runs/jh67ly1t</a><br> View project at: <a href='https://wandb.ai/adeakinwe-richkinwe-io/5-flowers-sweep' target=\"_blank\">https://wandb.ai/adeakinwe-richkinwe-io/5-flowers-sweep</a><br>Synced 5 W&B file(s), 0 media file(s), 0 artifact file(s) and 0 other file(s)"
            ]
          },
          "metadata": {}
        },
        {
          "output_type": "display_data",
          "data": {
            "text/plain": [
              "<IPython.core.display.HTML object>"
            ],
            "text/html": [
              "Find logs at: <code>./wandb/run-20250507_061649-jh67ly1t/logs</code>"
            ]
          },
          "metadata": {}
        },
        {
          "output_type": "stream",
          "name": "stderr",
          "text": [
            "\u001b[34m\u001b[1mwandb\u001b[0m: Agent Starting Run: 3dwe6n20 with config:\n",
            "\u001b[34m\u001b[1mwandb\u001b[0m: \tbatch_size: 8\n",
            "\u001b[34m\u001b[1mwandb\u001b[0m: \tepochs: 10\n",
            "\u001b[34m\u001b[1mwandb\u001b[0m: \thidden_nodes: 64\n",
            "\u001b[34m\u001b[1mwandb\u001b[0m: \timg_size: 224\n",
            "\u001b[34m\u001b[1mwandb\u001b[0m: \tlearning_rate: 0.0001\n"
          ]
        },
        {
          "output_type": "display_data",
          "data": {
            "text/plain": [
              "<IPython.core.display.HTML object>"
            ],
            "text/html": [
              "Tracking run with wandb version 0.19.10"
            ]
          },
          "metadata": {}
        },
        {
          "output_type": "display_data",
          "data": {
            "text/plain": [
              "<IPython.core.display.HTML object>"
            ],
            "text/html": [
              "Run data is saved locally in <code>/content/wandb/run-20250507_061655-3dwe6n20</code>"
            ]
          },
          "metadata": {}
        },
        {
          "output_type": "display_data",
          "data": {
            "text/plain": [
              "<IPython.core.display.HTML object>"
            ],
            "text/html": [
              "Syncing run <strong><a href='https://wandb.ai/adeakinwe-richkinwe-io/5-flowers-sweep/runs/3dwe6n20' target=\"_blank\">icy-sweep-16</a></strong> to <a href='https://wandb.ai/adeakinwe-richkinwe-io/5-flowers-sweep' target=\"_blank\">Weights & Biases</a> (<a href='https://wandb.me/developer-guide' target=\"_blank\">docs</a>)<br>Sweep page: <a href='https://wandb.ai/adeakinwe-richkinwe-io/5-flowers-sweep/sweeps/qgsqn7e0' target=\"_blank\">https://wandb.ai/adeakinwe-richkinwe-io/5-flowers-sweep/sweeps/qgsqn7e0</a>"
            ]
          },
          "metadata": {}
        },
        {
          "output_type": "display_data",
          "data": {
            "text/plain": [
              "<IPython.core.display.HTML object>"
            ],
            "text/html": [
              " View project at <a href='https://wandb.ai/adeakinwe-richkinwe-io/5-flowers-sweep' target=\"_blank\">https://wandb.ai/adeakinwe-richkinwe-io/5-flowers-sweep</a>"
            ]
          },
          "metadata": {}
        },
        {
          "output_type": "display_data",
          "data": {
            "text/plain": [
              "<IPython.core.display.HTML object>"
            ],
            "text/html": [
              " View sweep at <a href='https://wandb.ai/adeakinwe-richkinwe-io/5-flowers-sweep/sweeps/qgsqn7e0' target=\"_blank\">https://wandb.ai/adeakinwe-richkinwe-io/5-flowers-sweep/sweeps/qgsqn7e0</a>"
            ]
          },
          "metadata": {}
        },
        {
          "output_type": "display_data",
          "data": {
            "text/plain": [
              "<IPython.core.display.HTML object>"
            ],
            "text/html": [
              " View run at <a href='https://wandb.ai/adeakinwe-richkinwe-io/5-flowers-sweep/runs/3dwe6n20' target=\"_blank\">https://wandb.ai/adeakinwe-richkinwe-io/5-flowers-sweep/runs/3dwe6n20</a>"
            ]
          },
          "metadata": {}
        },
        {
          "output_type": "display_data",
          "data": {
            "text/plain": [
              "<IPython.core.display.HTML object>"
            ],
            "text/html": []
          },
          "metadata": {}
        },
        {
          "output_type": "display_data",
          "data": {
            "text/plain": [
              "<IPython.core.display.HTML object>"
            ],
            "text/html": [
              " View run <strong style=\"color:#cdcd00\">icy-sweep-16</strong> at: <a href='https://wandb.ai/adeakinwe-richkinwe-io/5-flowers-sweep/runs/3dwe6n20' target=\"_blank\">https://wandb.ai/adeakinwe-richkinwe-io/5-flowers-sweep/runs/3dwe6n20</a><br> View project at: <a href='https://wandb.ai/adeakinwe-richkinwe-io/5-flowers-sweep' target=\"_blank\">https://wandb.ai/adeakinwe-richkinwe-io/5-flowers-sweep</a><br>Synced 5 W&B file(s), 0 media file(s), 0 artifact file(s) and 0 other file(s)"
            ]
          },
          "metadata": {}
        },
        {
          "output_type": "display_data",
          "data": {
            "text/plain": [
              "<IPython.core.display.HTML object>"
            ],
            "text/html": [
              "Find logs at: <code>./wandb/run-20250507_061655-3dwe6n20/logs</code>"
            ]
          },
          "metadata": {}
        },
        {
          "output_type": "stream",
          "name": "stderr",
          "text": [
            "\u001b[34m\u001b[1mwandb\u001b[0m: Sweep Agent: Waiting for job.\n",
            "\u001b[34m\u001b[1mwandb\u001b[0m: Job received.\n",
            "\u001b[34m\u001b[1mwandb\u001b[0m: Agent Starting Run: opefhxfj with config:\n",
            "\u001b[34m\u001b[1mwandb\u001b[0m: \tbatch_size: 16\n",
            "\u001b[34m\u001b[1mwandb\u001b[0m: \tepochs: 5\n",
            "\u001b[34m\u001b[1mwandb\u001b[0m: \thidden_nodes: 128\n",
            "\u001b[34m\u001b[1mwandb\u001b[0m: \timg_size: 16\n",
            "\u001b[34m\u001b[1mwandb\u001b[0m: \tlearning_rate: 0.001\n"
          ]
        },
        {
          "output_type": "display_data",
          "data": {
            "text/plain": [
              "<IPython.core.display.HTML object>"
            ],
            "text/html": [
              "Tracking run with wandb version 0.19.10"
            ]
          },
          "metadata": {}
        },
        {
          "output_type": "display_data",
          "data": {
            "text/plain": [
              "<IPython.core.display.HTML object>"
            ],
            "text/html": [
              "Run data is saved locally in <code>/content/wandb/run-20250507_061710-opefhxfj</code>"
            ]
          },
          "metadata": {}
        },
        {
          "output_type": "display_data",
          "data": {
            "text/plain": [
              "<IPython.core.display.HTML object>"
            ],
            "text/html": [
              "Syncing run <strong><a href='https://wandb.ai/adeakinwe-richkinwe-io/5-flowers-sweep/runs/opefhxfj' target=\"_blank\">stellar-sweep-17</a></strong> to <a href='https://wandb.ai/adeakinwe-richkinwe-io/5-flowers-sweep' target=\"_blank\">Weights & Biases</a> (<a href='https://wandb.me/developer-guide' target=\"_blank\">docs</a>)<br>Sweep page: <a href='https://wandb.ai/adeakinwe-richkinwe-io/5-flowers-sweep/sweeps/qgsqn7e0' target=\"_blank\">https://wandb.ai/adeakinwe-richkinwe-io/5-flowers-sweep/sweeps/qgsqn7e0</a>"
            ]
          },
          "metadata": {}
        },
        {
          "output_type": "display_data",
          "data": {
            "text/plain": [
              "<IPython.core.display.HTML object>"
            ],
            "text/html": [
              " View project at <a href='https://wandb.ai/adeakinwe-richkinwe-io/5-flowers-sweep' target=\"_blank\">https://wandb.ai/adeakinwe-richkinwe-io/5-flowers-sweep</a>"
            ]
          },
          "metadata": {}
        },
        {
          "output_type": "display_data",
          "data": {
            "text/plain": [
              "<IPython.core.display.HTML object>"
            ],
            "text/html": [
              " View sweep at <a href='https://wandb.ai/adeakinwe-richkinwe-io/5-flowers-sweep/sweeps/qgsqn7e0' target=\"_blank\">https://wandb.ai/adeakinwe-richkinwe-io/5-flowers-sweep/sweeps/qgsqn7e0</a>"
            ]
          },
          "metadata": {}
        },
        {
          "output_type": "display_data",
          "data": {
            "text/plain": [
              "<IPython.core.display.HTML object>"
            ],
            "text/html": [
              " View run at <a href='https://wandb.ai/adeakinwe-richkinwe-io/5-flowers-sweep/runs/opefhxfj' target=\"_blank\">https://wandb.ai/adeakinwe-richkinwe-io/5-flowers-sweep/runs/opefhxfj</a>"
            ]
          },
          "metadata": {}
        },
        {
          "output_type": "display_data",
          "data": {
            "text/plain": [
              "<IPython.core.display.HTML object>"
            ],
            "text/html": []
          },
          "metadata": {}
        },
        {
          "output_type": "display_data",
          "data": {
            "text/plain": [
              "<IPython.core.display.HTML object>"
            ],
            "text/html": [
              " View run <strong style=\"color:#cdcd00\">stellar-sweep-17</strong> at: <a href='https://wandb.ai/adeakinwe-richkinwe-io/5-flowers-sweep/runs/opefhxfj' target=\"_blank\">https://wandb.ai/adeakinwe-richkinwe-io/5-flowers-sweep/runs/opefhxfj</a><br> View project at: <a href='https://wandb.ai/adeakinwe-richkinwe-io/5-flowers-sweep' target=\"_blank\">https://wandb.ai/adeakinwe-richkinwe-io/5-flowers-sweep</a><br>Synced 5 W&B file(s), 0 media file(s), 0 artifact file(s) and 0 other file(s)"
            ]
          },
          "metadata": {}
        },
        {
          "output_type": "display_data",
          "data": {
            "text/plain": [
              "<IPython.core.display.HTML object>"
            ],
            "text/html": [
              "Find logs at: <code>./wandb/run-20250507_061710-opefhxfj/logs</code>"
            ]
          },
          "metadata": {}
        },
        {
          "output_type": "stream",
          "name": "stderr",
          "text": [
            "\u001b[34m\u001b[1mwandb\u001b[0m: Agent Starting Run: 22pf7xqs with config:\n",
            "\u001b[34m\u001b[1mwandb\u001b[0m: \tbatch_size: 16\n",
            "\u001b[34m\u001b[1mwandb\u001b[0m: \tepochs: 5\n",
            "\u001b[34m\u001b[1mwandb\u001b[0m: \thidden_nodes: 128\n",
            "\u001b[34m\u001b[1mwandb\u001b[0m: \timg_size: 16\n",
            "\u001b[34m\u001b[1mwandb\u001b[0m: \tlearning_rate: 0.0001\n"
          ]
        },
        {
          "output_type": "display_data",
          "data": {
            "text/plain": [
              "<IPython.core.display.HTML object>"
            ],
            "text/html": [
              "Tracking run with wandb version 0.19.10"
            ]
          },
          "metadata": {}
        },
        {
          "output_type": "display_data",
          "data": {
            "text/plain": [
              "<IPython.core.display.HTML object>"
            ],
            "text/html": [
              "Run data is saved locally in <code>/content/wandb/run-20250507_061716-22pf7xqs</code>"
            ]
          },
          "metadata": {}
        },
        {
          "output_type": "display_data",
          "data": {
            "text/plain": [
              "<IPython.core.display.HTML object>"
            ],
            "text/html": [
              "Syncing run <strong><a href='https://wandb.ai/adeakinwe-richkinwe-io/5-flowers-sweep/runs/22pf7xqs' target=\"_blank\">faithful-sweep-18</a></strong> to <a href='https://wandb.ai/adeakinwe-richkinwe-io/5-flowers-sweep' target=\"_blank\">Weights & Biases</a> (<a href='https://wandb.me/developer-guide' target=\"_blank\">docs</a>)<br>Sweep page: <a href='https://wandb.ai/adeakinwe-richkinwe-io/5-flowers-sweep/sweeps/qgsqn7e0' target=\"_blank\">https://wandb.ai/adeakinwe-richkinwe-io/5-flowers-sweep/sweeps/qgsqn7e0</a>"
            ]
          },
          "metadata": {}
        },
        {
          "output_type": "display_data",
          "data": {
            "text/plain": [
              "<IPython.core.display.HTML object>"
            ],
            "text/html": [
              " View project at <a href='https://wandb.ai/adeakinwe-richkinwe-io/5-flowers-sweep' target=\"_blank\">https://wandb.ai/adeakinwe-richkinwe-io/5-flowers-sweep</a>"
            ]
          },
          "metadata": {}
        },
        {
          "output_type": "display_data",
          "data": {
            "text/plain": [
              "<IPython.core.display.HTML object>"
            ],
            "text/html": [
              " View sweep at <a href='https://wandb.ai/adeakinwe-richkinwe-io/5-flowers-sweep/sweeps/qgsqn7e0' target=\"_blank\">https://wandb.ai/adeakinwe-richkinwe-io/5-flowers-sweep/sweeps/qgsqn7e0</a>"
            ]
          },
          "metadata": {}
        },
        {
          "output_type": "display_data",
          "data": {
            "text/plain": [
              "<IPython.core.display.HTML object>"
            ],
            "text/html": [
              " View run at <a href='https://wandb.ai/adeakinwe-richkinwe-io/5-flowers-sweep/runs/22pf7xqs' target=\"_blank\">https://wandb.ai/adeakinwe-richkinwe-io/5-flowers-sweep/runs/22pf7xqs</a>"
            ]
          },
          "metadata": {}
        },
        {
          "output_type": "display_data",
          "data": {
            "text/plain": [
              "<IPython.core.display.HTML object>"
            ],
            "text/html": []
          },
          "metadata": {}
        },
        {
          "output_type": "display_data",
          "data": {
            "text/plain": [
              "<IPython.core.display.HTML object>"
            ],
            "text/html": [
              " View run <strong style=\"color:#cdcd00\">faithful-sweep-18</strong> at: <a href='https://wandb.ai/adeakinwe-richkinwe-io/5-flowers-sweep/runs/22pf7xqs' target=\"_blank\">https://wandb.ai/adeakinwe-richkinwe-io/5-flowers-sweep/runs/22pf7xqs</a><br> View project at: <a href='https://wandb.ai/adeakinwe-richkinwe-io/5-flowers-sweep' target=\"_blank\">https://wandb.ai/adeakinwe-richkinwe-io/5-flowers-sweep</a><br>Synced 5 W&B file(s), 0 media file(s), 0 artifact file(s) and 0 other file(s)"
            ]
          },
          "metadata": {}
        },
        {
          "output_type": "display_data",
          "data": {
            "text/plain": [
              "<IPython.core.display.HTML object>"
            ],
            "text/html": [
              "Find logs at: <code>./wandb/run-20250507_061716-22pf7xqs/logs</code>"
            ]
          },
          "metadata": {}
        },
        {
          "output_type": "stream",
          "name": "stderr",
          "text": [
            "\u001b[34m\u001b[1mwandb\u001b[0m: Sweep Agent: Waiting for job.\n",
            "\u001b[34m\u001b[1mwandb\u001b[0m: Job received.\n",
            "\u001b[34m\u001b[1mwandb\u001b[0m: Agent Starting Run: v2engvj5 with config:\n",
            "\u001b[34m\u001b[1mwandb\u001b[0m: \tbatch_size: 16\n",
            "\u001b[34m\u001b[1mwandb\u001b[0m: \tepochs: 5\n",
            "\u001b[34m\u001b[1mwandb\u001b[0m: \thidden_nodes: 128\n",
            "\u001b[34m\u001b[1mwandb\u001b[0m: \timg_size: 224\n",
            "\u001b[34m\u001b[1mwandb\u001b[0m: \tlearning_rate: 0.001\n"
          ]
        },
        {
          "output_type": "display_data",
          "data": {
            "text/plain": [
              "<IPython.core.display.HTML object>"
            ],
            "text/html": [
              "Tracking run with wandb version 0.19.10"
            ]
          },
          "metadata": {}
        },
        {
          "output_type": "display_data",
          "data": {
            "text/plain": [
              "<IPython.core.display.HTML object>"
            ],
            "text/html": [
              "Run data is saved locally in <code>/content/wandb/run-20250507_061731-v2engvj5</code>"
            ]
          },
          "metadata": {}
        },
        {
          "output_type": "display_data",
          "data": {
            "text/plain": [
              "<IPython.core.display.HTML object>"
            ],
            "text/html": [
              "Syncing run <strong><a href='https://wandb.ai/adeakinwe-richkinwe-io/5-flowers-sweep/runs/v2engvj5' target=\"_blank\">stellar-sweep-19</a></strong> to <a href='https://wandb.ai/adeakinwe-richkinwe-io/5-flowers-sweep' target=\"_blank\">Weights & Biases</a> (<a href='https://wandb.me/developer-guide' target=\"_blank\">docs</a>)<br>Sweep page: <a href='https://wandb.ai/adeakinwe-richkinwe-io/5-flowers-sweep/sweeps/qgsqn7e0' target=\"_blank\">https://wandb.ai/adeakinwe-richkinwe-io/5-flowers-sweep/sweeps/qgsqn7e0</a>"
            ]
          },
          "metadata": {}
        },
        {
          "output_type": "display_data",
          "data": {
            "text/plain": [
              "<IPython.core.display.HTML object>"
            ],
            "text/html": [
              " View project at <a href='https://wandb.ai/adeakinwe-richkinwe-io/5-flowers-sweep' target=\"_blank\">https://wandb.ai/adeakinwe-richkinwe-io/5-flowers-sweep</a>"
            ]
          },
          "metadata": {}
        },
        {
          "output_type": "display_data",
          "data": {
            "text/plain": [
              "<IPython.core.display.HTML object>"
            ],
            "text/html": [
              " View sweep at <a href='https://wandb.ai/adeakinwe-richkinwe-io/5-flowers-sweep/sweeps/qgsqn7e0' target=\"_blank\">https://wandb.ai/adeakinwe-richkinwe-io/5-flowers-sweep/sweeps/qgsqn7e0</a>"
            ]
          },
          "metadata": {}
        },
        {
          "output_type": "display_data",
          "data": {
            "text/plain": [
              "<IPython.core.display.HTML object>"
            ],
            "text/html": [
              " View run at <a href='https://wandb.ai/adeakinwe-richkinwe-io/5-flowers-sweep/runs/v2engvj5' target=\"_blank\">https://wandb.ai/adeakinwe-richkinwe-io/5-flowers-sweep/runs/v2engvj5</a>"
            ]
          },
          "metadata": {}
        },
        {
          "output_type": "display_data",
          "data": {
            "text/plain": [
              "<IPython.core.display.HTML object>"
            ],
            "text/html": []
          },
          "metadata": {}
        },
        {
          "output_type": "display_data",
          "data": {
            "text/plain": [
              "<IPython.core.display.HTML object>"
            ],
            "text/html": [
              " View run <strong style=\"color:#cdcd00\">stellar-sweep-19</strong> at: <a href='https://wandb.ai/adeakinwe-richkinwe-io/5-flowers-sweep/runs/v2engvj5' target=\"_blank\">https://wandb.ai/adeakinwe-richkinwe-io/5-flowers-sweep/runs/v2engvj5</a><br> View project at: <a href='https://wandb.ai/adeakinwe-richkinwe-io/5-flowers-sweep' target=\"_blank\">https://wandb.ai/adeakinwe-richkinwe-io/5-flowers-sweep</a><br>Synced 5 W&B file(s), 0 media file(s), 0 artifact file(s) and 0 other file(s)"
            ]
          },
          "metadata": {}
        },
        {
          "output_type": "display_data",
          "data": {
            "text/plain": [
              "<IPython.core.display.HTML object>"
            ],
            "text/html": [
              "Find logs at: <code>./wandb/run-20250507_061731-v2engvj5/logs</code>"
            ]
          },
          "metadata": {}
        },
        {
          "output_type": "stream",
          "name": "stderr",
          "text": [
            "\u001b[34m\u001b[1mwandb\u001b[0m: Agent Starting Run: ov9e15hr with config:\n",
            "\u001b[34m\u001b[1mwandb\u001b[0m: \tbatch_size: 16\n",
            "\u001b[34m\u001b[1mwandb\u001b[0m: \tepochs: 5\n",
            "\u001b[34m\u001b[1mwandb\u001b[0m: \thidden_nodes: 128\n",
            "\u001b[34m\u001b[1mwandb\u001b[0m: \timg_size: 224\n",
            "\u001b[34m\u001b[1mwandb\u001b[0m: \tlearning_rate: 0.0001\n"
          ]
        },
        {
          "output_type": "display_data",
          "data": {
            "text/plain": [
              "<IPython.core.display.HTML object>"
            ],
            "text/html": [
              "Tracking run with wandb version 0.19.10"
            ]
          },
          "metadata": {}
        },
        {
          "output_type": "display_data",
          "data": {
            "text/plain": [
              "<IPython.core.display.HTML object>"
            ],
            "text/html": [
              "Run data is saved locally in <code>/content/wandb/run-20250507_061737-ov9e15hr</code>"
            ]
          },
          "metadata": {}
        },
        {
          "output_type": "display_data",
          "data": {
            "text/plain": [
              "<IPython.core.display.HTML object>"
            ],
            "text/html": [
              "Syncing run <strong><a href='https://wandb.ai/adeakinwe-richkinwe-io/5-flowers-sweep/runs/ov9e15hr' target=\"_blank\">light-sweep-20</a></strong> to <a href='https://wandb.ai/adeakinwe-richkinwe-io/5-flowers-sweep' target=\"_blank\">Weights & Biases</a> (<a href='https://wandb.me/developer-guide' target=\"_blank\">docs</a>)<br>Sweep page: <a href='https://wandb.ai/adeakinwe-richkinwe-io/5-flowers-sweep/sweeps/qgsqn7e0' target=\"_blank\">https://wandb.ai/adeakinwe-richkinwe-io/5-flowers-sweep/sweeps/qgsqn7e0</a>"
            ]
          },
          "metadata": {}
        },
        {
          "output_type": "display_data",
          "data": {
            "text/plain": [
              "<IPython.core.display.HTML object>"
            ],
            "text/html": [
              " View project at <a href='https://wandb.ai/adeakinwe-richkinwe-io/5-flowers-sweep' target=\"_blank\">https://wandb.ai/adeakinwe-richkinwe-io/5-flowers-sweep</a>"
            ]
          },
          "metadata": {}
        },
        {
          "output_type": "display_data",
          "data": {
            "text/plain": [
              "<IPython.core.display.HTML object>"
            ],
            "text/html": [
              " View sweep at <a href='https://wandb.ai/adeakinwe-richkinwe-io/5-flowers-sweep/sweeps/qgsqn7e0' target=\"_blank\">https://wandb.ai/adeakinwe-richkinwe-io/5-flowers-sweep/sweeps/qgsqn7e0</a>"
            ]
          },
          "metadata": {}
        },
        {
          "output_type": "display_data",
          "data": {
            "text/plain": [
              "<IPython.core.display.HTML object>"
            ],
            "text/html": [
              " View run at <a href='https://wandb.ai/adeakinwe-richkinwe-io/5-flowers-sweep/runs/ov9e15hr' target=\"_blank\">https://wandb.ai/adeakinwe-richkinwe-io/5-flowers-sweep/runs/ov9e15hr</a>"
            ]
          },
          "metadata": {}
        },
        {
          "output_type": "display_data",
          "data": {
            "text/plain": [
              "<IPython.core.display.HTML object>"
            ],
            "text/html": []
          },
          "metadata": {}
        },
        {
          "output_type": "display_data",
          "data": {
            "text/plain": [
              "<IPython.core.display.HTML object>"
            ],
            "text/html": [
              " View run <strong style=\"color:#cdcd00\">light-sweep-20</strong> at: <a href='https://wandb.ai/adeakinwe-richkinwe-io/5-flowers-sweep/runs/ov9e15hr' target=\"_blank\">https://wandb.ai/adeakinwe-richkinwe-io/5-flowers-sweep/runs/ov9e15hr</a><br> View project at: <a href='https://wandb.ai/adeakinwe-richkinwe-io/5-flowers-sweep' target=\"_blank\">https://wandb.ai/adeakinwe-richkinwe-io/5-flowers-sweep</a><br>Synced 5 W&B file(s), 0 media file(s), 0 artifact file(s) and 0 other file(s)"
            ]
          },
          "metadata": {}
        },
        {
          "output_type": "display_data",
          "data": {
            "text/plain": [
              "<IPython.core.display.HTML object>"
            ],
            "text/html": [
              "Find logs at: <code>./wandb/run-20250507_061737-ov9e15hr/logs</code>"
            ]
          },
          "metadata": {}
        },
        {
          "output_type": "stream",
          "name": "stderr",
          "text": [
            "\u001b[34m\u001b[1mwandb\u001b[0m: Sweep Agent: Waiting for job.\n",
            "\u001b[34m\u001b[1mwandb\u001b[0m: Job received.\n",
            "\u001b[34m\u001b[1mwandb\u001b[0m: Agent Starting Run: b4ffov14 with config:\n",
            "\u001b[34m\u001b[1mwandb\u001b[0m: \tbatch_size: 16\n",
            "\u001b[34m\u001b[1mwandb\u001b[0m: \tepochs: 5\n",
            "\u001b[34m\u001b[1mwandb\u001b[0m: \thidden_nodes: 64\n",
            "\u001b[34m\u001b[1mwandb\u001b[0m: \timg_size: 16\n",
            "\u001b[34m\u001b[1mwandb\u001b[0m: \tlearning_rate: 0.001\n"
          ]
        },
        {
          "output_type": "display_data",
          "data": {
            "text/plain": [
              "<IPython.core.display.HTML object>"
            ],
            "text/html": [
              "Tracking run with wandb version 0.19.10"
            ]
          },
          "metadata": {}
        },
        {
          "output_type": "display_data",
          "data": {
            "text/plain": [
              "<IPython.core.display.HTML object>"
            ],
            "text/html": [
              "Run data is saved locally in <code>/content/wandb/run-20250507_061752-b4ffov14</code>"
            ]
          },
          "metadata": {}
        },
        {
          "output_type": "display_data",
          "data": {
            "text/plain": [
              "<IPython.core.display.HTML object>"
            ],
            "text/html": [
              "Syncing run <strong><a href='https://wandb.ai/adeakinwe-richkinwe-io/5-flowers-sweep/runs/b4ffov14' target=\"_blank\">chocolate-sweep-21</a></strong> to <a href='https://wandb.ai/adeakinwe-richkinwe-io/5-flowers-sweep' target=\"_blank\">Weights & Biases</a> (<a href='https://wandb.me/developer-guide' target=\"_blank\">docs</a>)<br>Sweep page: <a href='https://wandb.ai/adeakinwe-richkinwe-io/5-flowers-sweep/sweeps/qgsqn7e0' target=\"_blank\">https://wandb.ai/adeakinwe-richkinwe-io/5-flowers-sweep/sweeps/qgsqn7e0</a>"
            ]
          },
          "metadata": {}
        },
        {
          "output_type": "display_data",
          "data": {
            "text/plain": [
              "<IPython.core.display.HTML object>"
            ],
            "text/html": [
              " View project at <a href='https://wandb.ai/adeakinwe-richkinwe-io/5-flowers-sweep' target=\"_blank\">https://wandb.ai/adeakinwe-richkinwe-io/5-flowers-sweep</a>"
            ]
          },
          "metadata": {}
        },
        {
          "output_type": "display_data",
          "data": {
            "text/plain": [
              "<IPython.core.display.HTML object>"
            ],
            "text/html": [
              " View sweep at <a href='https://wandb.ai/adeakinwe-richkinwe-io/5-flowers-sweep/sweeps/qgsqn7e0' target=\"_blank\">https://wandb.ai/adeakinwe-richkinwe-io/5-flowers-sweep/sweeps/qgsqn7e0</a>"
            ]
          },
          "metadata": {}
        },
        {
          "output_type": "display_data",
          "data": {
            "text/plain": [
              "<IPython.core.display.HTML object>"
            ],
            "text/html": [
              " View run at <a href='https://wandb.ai/adeakinwe-richkinwe-io/5-flowers-sweep/runs/b4ffov14' target=\"_blank\">https://wandb.ai/adeakinwe-richkinwe-io/5-flowers-sweep/runs/b4ffov14</a>"
            ]
          },
          "metadata": {}
        },
        {
          "output_type": "display_data",
          "data": {
            "text/plain": [
              "<IPython.core.display.HTML object>"
            ],
            "text/html": []
          },
          "metadata": {}
        },
        {
          "output_type": "display_data",
          "data": {
            "text/plain": [
              "<IPython.core.display.HTML object>"
            ],
            "text/html": [
              " View run <strong style=\"color:#cdcd00\">chocolate-sweep-21</strong> at: <a href='https://wandb.ai/adeakinwe-richkinwe-io/5-flowers-sweep/runs/b4ffov14' target=\"_blank\">https://wandb.ai/adeakinwe-richkinwe-io/5-flowers-sweep/runs/b4ffov14</a><br> View project at: <a href='https://wandb.ai/adeakinwe-richkinwe-io/5-flowers-sweep' target=\"_blank\">https://wandb.ai/adeakinwe-richkinwe-io/5-flowers-sweep</a><br>Synced 5 W&B file(s), 0 media file(s), 0 artifact file(s) and 0 other file(s)"
            ]
          },
          "metadata": {}
        },
        {
          "output_type": "display_data",
          "data": {
            "text/plain": [
              "<IPython.core.display.HTML object>"
            ],
            "text/html": [
              "Find logs at: <code>./wandb/run-20250507_061752-b4ffov14/logs</code>"
            ]
          },
          "metadata": {}
        },
        {
          "output_type": "stream",
          "name": "stderr",
          "text": [
            "\u001b[34m\u001b[1mwandb\u001b[0m: Agent Starting Run: ipv7qfha with config:\n",
            "\u001b[34m\u001b[1mwandb\u001b[0m: \tbatch_size: 16\n",
            "\u001b[34m\u001b[1mwandb\u001b[0m: \tepochs: 5\n",
            "\u001b[34m\u001b[1mwandb\u001b[0m: \thidden_nodes: 64\n",
            "\u001b[34m\u001b[1mwandb\u001b[0m: \timg_size: 16\n",
            "\u001b[34m\u001b[1mwandb\u001b[0m: \tlearning_rate: 0.0001\n"
          ]
        },
        {
          "output_type": "display_data",
          "data": {
            "text/plain": [
              "<IPython.core.display.HTML object>"
            ],
            "text/html": [
              "Tracking run with wandb version 0.19.10"
            ]
          },
          "metadata": {}
        },
        {
          "output_type": "display_data",
          "data": {
            "text/plain": [
              "<IPython.core.display.HTML object>"
            ],
            "text/html": [
              "Run data is saved locally in <code>/content/wandb/run-20250507_061759-ipv7qfha</code>"
            ]
          },
          "metadata": {}
        },
        {
          "output_type": "display_data",
          "data": {
            "text/plain": [
              "<IPython.core.display.HTML object>"
            ],
            "text/html": [
              "Syncing run <strong><a href='https://wandb.ai/adeakinwe-richkinwe-io/5-flowers-sweep/runs/ipv7qfha' target=\"_blank\">rare-sweep-22</a></strong> to <a href='https://wandb.ai/adeakinwe-richkinwe-io/5-flowers-sweep' target=\"_blank\">Weights & Biases</a> (<a href='https://wandb.me/developer-guide' target=\"_blank\">docs</a>)<br>Sweep page: <a href='https://wandb.ai/adeakinwe-richkinwe-io/5-flowers-sweep/sweeps/qgsqn7e0' target=\"_blank\">https://wandb.ai/adeakinwe-richkinwe-io/5-flowers-sweep/sweeps/qgsqn7e0</a>"
            ]
          },
          "metadata": {}
        },
        {
          "output_type": "display_data",
          "data": {
            "text/plain": [
              "<IPython.core.display.HTML object>"
            ],
            "text/html": [
              " View project at <a href='https://wandb.ai/adeakinwe-richkinwe-io/5-flowers-sweep' target=\"_blank\">https://wandb.ai/adeakinwe-richkinwe-io/5-flowers-sweep</a>"
            ]
          },
          "metadata": {}
        },
        {
          "output_type": "display_data",
          "data": {
            "text/plain": [
              "<IPython.core.display.HTML object>"
            ],
            "text/html": [
              " View sweep at <a href='https://wandb.ai/adeakinwe-richkinwe-io/5-flowers-sweep/sweeps/qgsqn7e0' target=\"_blank\">https://wandb.ai/adeakinwe-richkinwe-io/5-flowers-sweep/sweeps/qgsqn7e0</a>"
            ]
          },
          "metadata": {}
        },
        {
          "output_type": "display_data",
          "data": {
            "text/plain": [
              "<IPython.core.display.HTML object>"
            ],
            "text/html": [
              " View run at <a href='https://wandb.ai/adeakinwe-richkinwe-io/5-flowers-sweep/runs/ipv7qfha' target=\"_blank\">https://wandb.ai/adeakinwe-richkinwe-io/5-flowers-sweep/runs/ipv7qfha</a>"
            ]
          },
          "metadata": {}
        },
        {
          "output_type": "display_data",
          "data": {
            "text/plain": [
              "<IPython.core.display.HTML object>"
            ],
            "text/html": []
          },
          "metadata": {}
        },
        {
          "output_type": "display_data",
          "data": {
            "text/plain": [
              "<IPython.core.display.HTML object>"
            ],
            "text/html": [
              " View run <strong style=\"color:#cdcd00\">rare-sweep-22</strong> at: <a href='https://wandb.ai/adeakinwe-richkinwe-io/5-flowers-sweep/runs/ipv7qfha' target=\"_blank\">https://wandb.ai/adeakinwe-richkinwe-io/5-flowers-sweep/runs/ipv7qfha</a><br> View project at: <a href='https://wandb.ai/adeakinwe-richkinwe-io/5-flowers-sweep' target=\"_blank\">https://wandb.ai/adeakinwe-richkinwe-io/5-flowers-sweep</a><br>Synced 5 W&B file(s), 0 media file(s), 0 artifact file(s) and 0 other file(s)"
            ]
          },
          "metadata": {}
        },
        {
          "output_type": "display_data",
          "data": {
            "text/plain": [
              "<IPython.core.display.HTML object>"
            ],
            "text/html": [
              "Find logs at: <code>./wandb/run-20250507_061759-ipv7qfha/logs</code>"
            ]
          },
          "metadata": {}
        },
        {
          "output_type": "stream",
          "name": "stderr",
          "text": [
            "\u001b[34m\u001b[1mwandb\u001b[0m: Sweep Agent: Waiting for job.\n",
            "\u001b[34m\u001b[1mwandb\u001b[0m: Job received.\n",
            "\u001b[34m\u001b[1mwandb\u001b[0m: Agent Starting Run: 0ir1p2ve with config:\n",
            "\u001b[34m\u001b[1mwandb\u001b[0m: \tbatch_size: 16\n",
            "\u001b[34m\u001b[1mwandb\u001b[0m: \tepochs: 5\n",
            "\u001b[34m\u001b[1mwandb\u001b[0m: \thidden_nodes: 64\n",
            "\u001b[34m\u001b[1mwandb\u001b[0m: \timg_size: 224\n",
            "\u001b[34m\u001b[1mwandb\u001b[0m: \tlearning_rate: 0.001\n"
          ]
        },
        {
          "output_type": "display_data",
          "data": {
            "text/plain": [
              "<IPython.core.display.HTML object>"
            ],
            "text/html": [
              "Tracking run with wandb version 0.19.10"
            ]
          },
          "metadata": {}
        },
        {
          "output_type": "display_data",
          "data": {
            "text/plain": [
              "<IPython.core.display.HTML object>"
            ],
            "text/html": [
              "Run data is saved locally in <code>/content/wandb/run-20250507_061814-0ir1p2ve</code>"
            ]
          },
          "metadata": {}
        },
        {
          "output_type": "display_data",
          "data": {
            "text/plain": [
              "<IPython.core.display.HTML object>"
            ],
            "text/html": [
              "Syncing run <strong><a href='https://wandb.ai/adeakinwe-richkinwe-io/5-flowers-sweep/runs/0ir1p2ve' target=\"_blank\">rich-sweep-23</a></strong> to <a href='https://wandb.ai/adeakinwe-richkinwe-io/5-flowers-sweep' target=\"_blank\">Weights & Biases</a> (<a href='https://wandb.me/developer-guide' target=\"_blank\">docs</a>)<br>Sweep page: <a href='https://wandb.ai/adeakinwe-richkinwe-io/5-flowers-sweep/sweeps/qgsqn7e0' target=\"_blank\">https://wandb.ai/adeakinwe-richkinwe-io/5-flowers-sweep/sweeps/qgsqn7e0</a>"
            ]
          },
          "metadata": {}
        },
        {
          "output_type": "display_data",
          "data": {
            "text/plain": [
              "<IPython.core.display.HTML object>"
            ],
            "text/html": [
              " View project at <a href='https://wandb.ai/adeakinwe-richkinwe-io/5-flowers-sweep' target=\"_blank\">https://wandb.ai/adeakinwe-richkinwe-io/5-flowers-sweep</a>"
            ]
          },
          "metadata": {}
        },
        {
          "output_type": "display_data",
          "data": {
            "text/plain": [
              "<IPython.core.display.HTML object>"
            ],
            "text/html": [
              " View sweep at <a href='https://wandb.ai/adeakinwe-richkinwe-io/5-flowers-sweep/sweeps/qgsqn7e0' target=\"_blank\">https://wandb.ai/adeakinwe-richkinwe-io/5-flowers-sweep/sweeps/qgsqn7e0</a>"
            ]
          },
          "metadata": {}
        },
        {
          "output_type": "display_data",
          "data": {
            "text/plain": [
              "<IPython.core.display.HTML object>"
            ],
            "text/html": [
              " View run at <a href='https://wandb.ai/adeakinwe-richkinwe-io/5-flowers-sweep/runs/0ir1p2ve' target=\"_blank\">https://wandb.ai/adeakinwe-richkinwe-io/5-flowers-sweep/runs/0ir1p2ve</a>"
            ]
          },
          "metadata": {}
        },
        {
          "output_type": "display_data",
          "data": {
            "text/plain": [
              "<IPython.core.display.HTML object>"
            ],
            "text/html": []
          },
          "metadata": {}
        },
        {
          "output_type": "display_data",
          "data": {
            "text/plain": [
              "<IPython.core.display.HTML object>"
            ],
            "text/html": [
              " View run <strong style=\"color:#cdcd00\">rich-sweep-23</strong> at: <a href='https://wandb.ai/adeakinwe-richkinwe-io/5-flowers-sweep/runs/0ir1p2ve' target=\"_blank\">https://wandb.ai/adeakinwe-richkinwe-io/5-flowers-sweep/runs/0ir1p2ve</a><br> View project at: <a href='https://wandb.ai/adeakinwe-richkinwe-io/5-flowers-sweep' target=\"_blank\">https://wandb.ai/adeakinwe-richkinwe-io/5-flowers-sweep</a><br>Synced 5 W&B file(s), 0 media file(s), 0 artifact file(s) and 0 other file(s)"
            ]
          },
          "metadata": {}
        },
        {
          "output_type": "display_data",
          "data": {
            "text/plain": [
              "<IPython.core.display.HTML object>"
            ],
            "text/html": [
              "Find logs at: <code>./wandb/run-20250507_061814-0ir1p2ve/logs</code>"
            ]
          },
          "metadata": {}
        },
        {
          "output_type": "stream",
          "name": "stderr",
          "text": [
            "\u001b[34m\u001b[1mwandb\u001b[0m: Agent Starting Run: ere2ph2y with config:\n",
            "\u001b[34m\u001b[1mwandb\u001b[0m: \tbatch_size: 16\n",
            "\u001b[34m\u001b[1mwandb\u001b[0m: \tepochs: 5\n",
            "\u001b[34m\u001b[1mwandb\u001b[0m: \thidden_nodes: 64\n",
            "\u001b[34m\u001b[1mwandb\u001b[0m: \timg_size: 224\n",
            "\u001b[34m\u001b[1mwandb\u001b[0m: \tlearning_rate: 0.0001\n"
          ]
        },
        {
          "output_type": "display_data",
          "data": {
            "text/plain": [
              "<IPython.core.display.HTML object>"
            ],
            "text/html": [
              "Tracking run with wandb version 0.19.10"
            ]
          },
          "metadata": {}
        },
        {
          "output_type": "display_data",
          "data": {
            "text/plain": [
              "<IPython.core.display.HTML object>"
            ],
            "text/html": [
              "Run data is saved locally in <code>/content/wandb/run-20250507_061820-ere2ph2y</code>"
            ]
          },
          "metadata": {}
        },
        {
          "output_type": "display_data",
          "data": {
            "text/plain": [
              "<IPython.core.display.HTML object>"
            ],
            "text/html": [
              "Syncing run <strong><a href='https://wandb.ai/adeakinwe-richkinwe-io/5-flowers-sweep/runs/ere2ph2y' target=\"_blank\">leafy-sweep-24</a></strong> to <a href='https://wandb.ai/adeakinwe-richkinwe-io/5-flowers-sweep' target=\"_blank\">Weights & Biases</a> (<a href='https://wandb.me/developer-guide' target=\"_blank\">docs</a>)<br>Sweep page: <a href='https://wandb.ai/adeakinwe-richkinwe-io/5-flowers-sweep/sweeps/qgsqn7e0' target=\"_blank\">https://wandb.ai/adeakinwe-richkinwe-io/5-flowers-sweep/sweeps/qgsqn7e0</a>"
            ]
          },
          "metadata": {}
        },
        {
          "output_type": "display_data",
          "data": {
            "text/plain": [
              "<IPython.core.display.HTML object>"
            ],
            "text/html": [
              " View project at <a href='https://wandb.ai/adeakinwe-richkinwe-io/5-flowers-sweep' target=\"_blank\">https://wandb.ai/adeakinwe-richkinwe-io/5-flowers-sweep</a>"
            ]
          },
          "metadata": {}
        },
        {
          "output_type": "display_data",
          "data": {
            "text/plain": [
              "<IPython.core.display.HTML object>"
            ],
            "text/html": [
              " View sweep at <a href='https://wandb.ai/adeakinwe-richkinwe-io/5-flowers-sweep/sweeps/qgsqn7e0' target=\"_blank\">https://wandb.ai/adeakinwe-richkinwe-io/5-flowers-sweep/sweeps/qgsqn7e0</a>"
            ]
          },
          "metadata": {}
        },
        {
          "output_type": "display_data",
          "data": {
            "text/plain": [
              "<IPython.core.display.HTML object>"
            ],
            "text/html": [
              " View run at <a href='https://wandb.ai/adeakinwe-richkinwe-io/5-flowers-sweep/runs/ere2ph2y' target=\"_blank\">https://wandb.ai/adeakinwe-richkinwe-io/5-flowers-sweep/runs/ere2ph2y</a>"
            ]
          },
          "metadata": {}
        },
        {
          "output_type": "display_data",
          "data": {
            "text/plain": [
              "<IPython.core.display.HTML object>"
            ],
            "text/html": []
          },
          "metadata": {}
        },
        {
          "output_type": "display_data",
          "data": {
            "text/plain": [
              "<IPython.core.display.HTML object>"
            ],
            "text/html": [
              " View run <strong style=\"color:#cdcd00\">leafy-sweep-24</strong> at: <a href='https://wandb.ai/adeakinwe-richkinwe-io/5-flowers-sweep/runs/ere2ph2y' target=\"_blank\">https://wandb.ai/adeakinwe-richkinwe-io/5-flowers-sweep/runs/ere2ph2y</a><br> View project at: <a href='https://wandb.ai/adeakinwe-richkinwe-io/5-flowers-sweep' target=\"_blank\">https://wandb.ai/adeakinwe-richkinwe-io/5-flowers-sweep</a><br>Synced 5 W&B file(s), 0 media file(s), 0 artifact file(s) and 0 other file(s)"
            ]
          },
          "metadata": {}
        },
        {
          "output_type": "display_data",
          "data": {
            "text/plain": [
              "<IPython.core.display.HTML object>"
            ],
            "text/html": [
              "Find logs at: <code>./wandb/run-20250507_061820-ere2ph2y/logs</code>"
            ]
          },
          "metadata": {}
        },
        {
          "output_type": "stream",
          "name": "stderr",
          "text": [
            "\u001b[34m\u001b[1mwandb\u001b[0m: Sweep Agent: Waiting for job.\n",
            "\u001b[34m\u001b[1mwandb\u001b[0m: Job received.\n",
            "\u001b[34m\u001b[1mwandb\u001b[0m: Agent Starting Run: l6odq2xe with config:\n",
            "\u001b[34m\u001b[1mwandb\u001b[0m: \tbatch_size: 16\n",
            "\u001b[34m\u001b[1mwandb\u001b[0m: \tepochs: 10\n",
            "\u001b[34m\u001b[1mwandb\u001b[0m: \thidden_nodes: 128\n",
            "\u001b[34m\u001b[1mwandb\u001b[0m: \timg_size: 16\n",
            "\u001b[34m\u001b[1mwandb\u001b[0m: \tlearning_rate: 0.001\n"
          ]
        },
        {
          "output_type": "display_data",
          "data": {
            "text/plain": [
              "<IPython.core.display.HTML object>"
            ],
            "text/html": [
              "Tracking run with wandb version 0.19.10"
            ]
          },
          "metadata": {}
        },
        {
          "output_type": "display_data",
          "data": {
            "text/plain": [
              "<IPython.core.display.HTML object>"
            ],
            "text/html": [
              "Run data is saved locally in <code>/content/wandb/run-20250507_061835-l6odq2xe</code>"
            ]
          },
          "metadata": {}
        },
        {
          "output_type": "display_data",
          "data": {
            "text/plain": [
              "<IPython.core.display.HTML object>"
            ],
            "text/html": [
              "Syncing run <strong><a href='https://wandb.ai/adeakinwe-richkinwe-io/5-flowers-sweep/runs/l6odq2xe' target=\"_blank\">ethereal-sweep-25</a></strong> to <a href='https://wandb.ai/adeakinwe-richkinwe-io/5-flowers-sweep' target=\"_blank\">Weights & Biases</a> (<a href='https://wandb.me/developer-guide' target=\"_blank\">docs</a>)<br>Sweep page: <a href='https://wandb.ai/adeakinwe-richkinwe-io/5-flowers-sweep/sweeps/qgsqn7e0' target=\"_blank\">https://wandb.ai/adeakinwe-richkinwe-io/5-flowers-sweep/sweeps/qgsqn7e0</a>"
            ]
          },
          "metadata": {}
        },
        {
          "output_type": "display_data",
          "data": {
            "text/plain": [
              "<IPython.core.display.HTML object>"
            ],
            "text/html": [
              " View project at <a href='https://wandb.ai/adeakinwe-richkinwe-io/5-flowers-sweep' target=\"_blank\">https://wandb.ai/adeakinwe-richkinwe-io/5-flowers-sweep</a>"
            ]
          },
          "metadata": {}
        },
        {
          "output_type": "display_data",
          "data": {
            "text/plain": [
              "<IPython.core.display.HTML object>"
            ],
            "text/html": [
              " View sweep at <a href='https://wandb.ai/adeakinwe-richkinwe-io/5-flowers-sweep/sweeps/qgsqn7e0' target=\"_blank\">https://wandb.ai/adeakinwe-richkinwe-io/5-flowers-sweep/sweeps/qgsqn7e0</a>"
            ]
          },
          "metadata": {}
        },
        {
          "output_type": "display_data",
          "data": {
            "text/plain": [
              "<IPython.core.display.HTML object>"
            ],
            "text/html": [
              " View run at <a href='https://wandb.ai/adeakinwe-richkinwe-io/5-flowers-sweep/runs/l6odq2xe' target=\"_blank\">https://wandb.ai/adeakinwe-richkinwe-io/5-flowers-sweep/runs/l6odq2xe</a>"
            ]
          },
          "metadata": {}
        },
        {
          "output_type": "display_data",
          "data": {
            "text/plain": [
              "<IPython.core.display.HTML object>"
            ],
            "text/html": []
          },
          "metadata": {}
        },
        {
          "output_type": "display_data",
          "data": {
            "text/plain": [
              "<IPython.core.display.HTML object>"
            ],
            "text/html": [
              " View run <strong style=\"color:#cdcd00\">ethereal-sweep-25</strong> at: <a href='https://wandb.ai/adeakinwe-richkinwe-io/5-flowers-sweep/runs/l6odq2xe' target=\"_blank\">https://wandb.ai/adeakinwe-richkinwe-io/5-flowers-sweep/runs/l6odq2xe</a><br> View project at: <a href='https://wandb.ai/adeakinwe-richkinwe-io/5-flowers-sweep' target=\"_blank\">https://wandb.ai/adeakinwe-richkinwe-io/5-flowers-sweep</a><br>Synced 5 W&B file(s), 0 media file(s), 0 artifact file(s) and 0 other file(s)"
            ]
          },
          "metadata": {}
        },
        {
          "output_type": "display_data",
          "data": {
            "text/plain": [
              "<IPython.core.display.HTML object>"
            ],
            "text/html": [
              "Find logs at: <code>./wandb/run-20250507_061835-l6odq2xe/logs</code>"
            ]
          },
          "metadata": {}
        },
        {
          "output_type": "stream",
          "name": "stderr",
          "text": [
            "\u001b[34m\u001b[1mwandb\u001b[0m: Agent Starting Run: cxqja3uf with config:\n",
            "\u001b[34m\u001b[1mwandb\u001b[0m: \tbatch_size: 16\n",
            "\u001b[34m\u001b[1mwandb\u001b[0m: \tepochs: 10\n",
            "\u001b[34m\u001b[1mwandb\u001b[0m: \thidden_nodes: 128\n",
            "\u001b[34m\u001b[1mwandb\u001b[0m: \timg_size: 16\n",
            "\u001b[34m\u001b[1mwandb\u001b[0m: \tlearning_rate: 0.0001\n"
          ]
        },
        {
          "output_type": "display_data",
          "data": {
            "text/plain": [
              "<IPython.core.display.HTML object>"
            ],
            "text/html": [
              "Tracking run with wandb version 0.19.10"
            ]
          },
          "metadata": {}
        },
        {
          "output_type": "display_data",
          "data": {
            "text/plain": [
              "<IPython.core.display.HTML object>"
            ],
            "text/html": [
              "Run data is saved locally in <code>/content/wandb/run-20250507_061841-cxqja3uf</code>"
            ]
          },
          "metadata": {}
        },
        {
          "output_type": "display_data",
          "data": {
            "text/plain": [
              "<IPython.core.display.HTML object>"
            ],
            "text/html": [
              "Syncing run <strong><a href='https://wandb.ai/adeakinwe-richkinwe-io/5-flowers-sweep/runs/cxqja3uf' target=\"_blank\">pleasant-sweep-26</a></strong> to <a href='https://wandb.ai/adeakinwe-richkinwe-io/5-flowers-sweep' target=\"_blank\">Weights & Biases</a> (<a href='https://wandb.me/developer-guide' target=\"_blank\">docs</a>)<br>Sweep page: <a href='https://wandb.ai/adeakinwe-richkinwe-io/5-flowers-sweep/sweeps/qgsqn7e0' target=\"_blank\">https://wandb.ai/adeakinwe-richkinwe-io/5-flowers-sweep/sweeps/qgsqn7e0</a>"
            ]
          },
          "metadata": {}
        },
        {
          "output_type": "display_data",
          "data": {
            "text/plain": [
              "<IPython.core.display.HTML object>"
            ],
            "text/html": [
              " View project at <a href='https://wandb.ai/adeakinwe-richkinwe-io/5-flowers-sweep' target=\"_blank\">https://wandb.ai/adeakinwe-richkinwe-io/5-flowers-sweep</a>"
            ]
          },
          "metadata": {}
        },
        {
          "output_type": "display_data",
          "data": {
            "text/plain": [
              "<IPython.core.display.HTML object>"
            ],
            "text/html": [
              " View sweep at <a href='https://wandb.ai/adeakinwe-richkinwe-io/5-flowers-sweep/sweeps/qgsqn7e0' target=\"_blank\">https://wandb.ai/adeakinwe-richkinwe-io/5-flowers-sweep/sweeps/qgsqn7e0</a>"
            ]
          },
          "metadata": {}
        },
        {
          "output_type": "display_data",
          "data": {
            "text/plain": [
              "<IPython.core.display.HTML object>"
            ],
            "text/html": [
              " View run at <a href='https://wandb.ai/adeakinwe-richkinwe-io/5-flowers-sweep/runs/cxqja3uf' target=\"_blank\">https://wandb.ai/adeakinwe-richkinwe-io/5-flowers-sweep/runs/cxqja3uf</a>"
            ]
          },
          "metadata": {}
        },
        {
          "output_type": "display_data",
          "data": {
            "text/plain": [
              "<IPython.core.display.HTML object>"
            ],
            "text/html": []
          },
          "metadata": {}
        },
        {
          "output_type": "display_data",
          "data": {
            "text/plain": [
              "<IPython.core.display.HTML object>"
            ],
            "text/html": [
              " View run <strong style=\"color:#cdcd00\">pleasant-sweep-26</strong> at: <a href='https://wandb.ai/adeakinwe-richkinwe-io/5-flowers-sweep/runs/cxqja3uf' target=\"_blank\">https://wandb.ai/adeakinwe-richkinwe-io/5-flowers-sweep/runs/cxqja3uf</a><br> View project at: <a href='https://wandb.ai/adeakinwe-richkinwe-io/5-flowers-sweep' target=\"_blank\">https://wandb.ai/adeakinwe-richkinwe-io/5-flowers-sweep</a><br>Synced 5 W&B file(s), 0 media file(s), 0 artifact file(s) and 0 other file(s)"
            ]
          },
          "metadata": {}
        },
        {
          "output_type": "display_data",
          "data": {
            "text/plain": [
              "<IPython.core.display.HTML object>"
            ],
            "text/html": [
              "Find logs at: <code>./wandb/run-20250507_061841-cxqja3uf/logs</code>"
            ]
          },
          "metadata": {}
        },
        {
          "output_type": "stream",
          "name": "stderr",
          "text": [
            "\u001b[34m\u001b[1mwandb\u001b[0m: Agent Starting Run: cll8f0z1 with config:\n",
            "\u001b[34m\u001b[1mwandb\u001b[0m: \tbatch_size: 16\n",
            "\u001b[34m\u001b[1mwandb\u001b[0m: \tepochs: 10\n",
            "\u001b[34m\u001b[1mwandb\u001b[0m: \thidden_nodes: 128\n",
            "\u001b[34m\u001b[1mwandb\u001b[0m: \timg_size: 224\n",
            "\u001b[34m\u001b[1mwandb\u001b[0m: \tlearning_rate: 0.001\n"
          ]
        },
        {
          "output_type": "display_data",
          "data": {
            "text/plain": [
              "<IPython.core.display.HTML object>"
            ],
            "text/html": [
              "Tracking run with wandb version 0.19.10"
            ]
          },
          "metadata": {}
        },
        {
          "output_type": "display_data",
          "data": {
            "text/plain": [
              "<IPython.core.display.HTML object>"
            ],
            "text/html": [
              "Run data is saved locally in <code>/content/wandb/run-20250507_061851-cll8f0z1</code>"
            ]
          },
          "metadata": {}
        },
        {
          "output_type": "display_data",
          "data": {
            "text/plain": [
              "<IPython.core.display.HTML object>"
            ],
            "text/html": [
              "Syncing run <strong><a href='https://wandb.ai/adeakinwe-richkinwe-io/5-flowers-sweep/runs/cll8f0z1' target=\"_blank\">misunderstood-sweep-27</a></strong> to <a href='https://wandb.ai/adeakinwe-richkinwe-io/5-flowers-sweep' target=\"_blank\">Weights & Biases</a> (<a href='https://wandb.me/developer-guide' target=\"_blank\">docs</a>)<br>Sweep page: <a href='https://wandb.ai/adeakinwe-richkinwe-io/5-flowers-sweep/sweeps/qgsqn7e0' target=\"_blank\">https://wandb.ai/adeakinwe-richkinwe-io/5-flowers-sweep/sweeps/qgsqn7e0</a>"
            ]
          },
          "metadata": {}
        },
        {
          "output_type": "display_data",
          "data": {
            "text/plain": [
              "<IPython.core.display.HTML object>"
            ],
            "text/html": [
              " View project at <a href='https://wandb.ai/adeakinwe-richkinwe-io/5-flowers-sweep' target=\"_blank\">https://wandb.ai/adeakinwe-richkinwe-io/5-flowers-sweep</a>"
            ]
          },
          "metadata": {}
        },
        {
          "output_type": "display_data",
          "data": {
            "text/plain": [
              "<IPython.core.display.HTML object>"
            ],
            "text/html": [
              " View sweep at <a href='https://wandb.ai/adeakinwe-richkinwe-io/5-flowers-sweep/sweeps/qgsqn7e0' target=\"_blank\">https://wandb.ai/adeakinwe-richkinwe-io/5-flowers-sweep/sweeps/qgsqn7e0</a>"
            ]
          },
          "metadata": {}
        },
        {
          "output_type": "display_data",
          "data": {
            "text/plain": [
              "<IPython.core.display.HTML object>"
            ],
            "text/html": [
              " View run at <a href='https://wandb.ai/adeakinwe-richkinwe-io/5-flowers-sweep/runs/cll8f0z1' target=\"_blank\">https://wandb.ai/adeakinwe-richkinwe-io/5-flowers-sweep/runs/cll8f0z1</a>"
            ]
          },
          "metadata": {}
        },
        {
          "output_type": "display_data",
          "data": {
            "text/plain": [
              "<IPython.core.display.HTML object>"
            ],
            "text/html": []
          },
          "metadata": {}
        },
        {
          "output_type": "display_data",
          "data": {
            "text/plain": [
              "<IPython.core.display.HTML object>"
            ],
            "text/html": [
              " View run <strong style=\"color:#cdcd00\">misunderstood-sweep-27</strong> at: <a href='https://wandb.ai/adeakinwe-richkinwe-io/5-flowers-sweep/runs/cll8f0z1' target=\"_blank\">https://wandb.ai/adeakinwe-richkinwe-io/5-flowers-sweep/runs/cll8f0z1</a><br> View project at: <a href='https://wandb.ai/adeakinwe-richkinwe-io/5-flowers-sweep' target=\"_blank\">https://wandb.ai/adeakinwe-richkinwe-io/5-flowers-sweep</a><br>Synced 5 W&B file(s), 0 media file(s), 0 artifact file(s) and 0 other file(s)"
            ]
          },
          "metadata": {}
        },
        {
          "output_type": "display_data",
          "data": {
            "text/plain": [
              "<IPython.core.display.HTML object>"
            ],
            "text/html": [
              "Find logs at: <code>./wandb/run-20250507_061851-cll8f0z1/logs</code>"
            ]
          },
          "metadata": {}
        },
        {
          "output_type": "stream",
          "name": "stderr",
          "text": [
            "\u001b[34m\u001b[1mwandb\u001b[0m: Agent Starting Run: gnn3t7r6 with config:\n",
            "\u001b[34m\u001b[1mwandb\u001b[0m: \tbatch_size: 16\n",
            "\u001b[34m\u001b[1mwandb\u001b[0m: \tepochs: 10\n",
            "\u001b[34m\u001b[1mwandb\u001b[0m: \thidden_nodes: 128\n",
            "\u001b[34m\u001b[1mwandb\u001b[0m: \timg_size: 224\n",
            "\u001b[34m\u001b[1mwandb\u001b[0m: \tlearning_rate: 0.0001\n"
          ]
        },
        {
          "output_type": "display_data",
          "data": {
            "text/plain": [
              "<IPython.core.display.HTML object>"
            ],
            "text/html": [
              "Tracking run with wandb version 0.19.10"
            ]
          },
          "metadata": {}
        },
        {
          "output_type": "display_data",
          "data": {
            "text/plain": [
              "<IPython.core.display.HTML object>"
            ],
            "text/html": [
              "Run data is saved locally in <code>/content/wandb/run-20250507_061857-gnn3t7r6</code>"
            ]
          },
          "metadata": {}
        },
        {
          "output_type": "display_data",
          "data": {
            "text/plain": [
              "<IPython.core.display.HTML object>"
            ],
            "text/html": [
              "Syncing run <strong><a href='https://wandb.ai/adeakinwe-richkinwe-io/5-flowers-sweep/runs/gnn3t7r6' target=\"_blank\">logical-sweep-28</a></strong> to <a href='https://wandb.ai/adeakinwe-richkinwe-io/5-flowers-sweep' target=\"_blank\">Weights & Biases</a> (<a href='https://wandb.me/developer-guide' target=\"_blank\">docs</a>)<br>Sweep page: <a href='https://wandb.ai/adeakinwe-richkinwe-io/5-flowers-sweep/sweeps/qgsqn7e0' target=\"_blank\">https://wandb.ai/adeakinwe-richkinwe-io/5-flowers-sweep/sweeps/qgsqn7e0</a>"
            ]
          },
          "metadata": {}
        },
        {
          "output_type": "display_data",
          "data": {
            "text/plain": [
              "<IPython.core.display.HTML object>"
            ],
            "text/html": [
              " View project at <a href='https://wandb.ai/adeakinwe-richkinwe-io/5-flowers-sweep' target=\"_blank\">https://wandb.ai/adeakinwe-richkinwe-io/5-flowers-sweep</a>"
            ]
          },
          "metadata": {}
        },
        {
          "output_type": "display_data",
          "data": {
            "text/plain": [
              "<IPython.core.display.HTML object>"
            ],
            "text/html": [
              " View sweep at <a href='https://wandb.ai/adeakinwe-richkinwe-io/5-flowers-sweep/sweeps/qgsqn7e0' target=\"_blank\">https://wandb.ai/adeakinwe-richkinwe-io/5-flowers-sweep/sweeps/qgsqn7e0</a>"
            ]
          },
          "metadata": {}
        },
        {
          "output_type": "display_data",
          "data": {
            "text/plain": [
              "<IPython.core.display.HTML object>"
            ],
            "text/html": [
              " View run at <a href='https://wandb.ai/adeakinwe-richkinwe-io/5-flowers-sweep/runs/gnn3t7r6' target=\"_blank\">https://wandb.ai/adeakinwe-richkinwe-io/5-flowers-sweep/runs/gnn3t7r6</a>"
            ]
          },
          "metadata": {}
        },
        {
          "output_type": "display_data",
          "data": {
            "text/plain": [
              "<IPython.core.display.HTML object>"
            ],
            "text/html": []
          },
          "metadata": {}
        },
        {
          "output_type": "display_data",
          "data": {
            "text/plain": [
              "<IPython.core.display.HTML object>"
            ],
            "text/html": [
              " View run <strong style=\"color:#cdcd00\">logical-sweep-28</strong> at: <a href='https://wandb.ai/adeakinwe-richkinwe-io/5-flowers-sweep/runs/gnn3t7r6' target=\"_blank\">https://wandb.ai/adeakinwe-richkinwe-io/5-flowers-sweep/runs/gnn3t7r6</a><br> View project at: <a href='https://wandb.ai/adeakinwe-richkinwe-io/5-flowers-sweep' target=\"_blank\">https://wandb.ai/adeakinwe-richkinwe-io/5-flowers-sweep</a><br>Synced 5 W&B file(s), 0 media file(s), 0 artifact file(s) and 0 other file(s)"
            ]
          },
          "metadata": {}
        },
        {
          "output_type": "display_data",
          "data": {
            "text/plain": [
              "<IPython.core.display.HTML object>"
            ],
            "text/html": [
              "Find logs at: <code>./wandb/run-20250507_061857-gnn3t7r6/logs</code>"
            ]
          },
          "metadata": {}
        },
        {
          "output_type": "stream",
          "name": "stderr",
          "text": [
            "\u001b[34m\u001b[1mwandb\u001b[0m: Sweep Agent: Waiting for job.\n",
            "\u001b[34m\u001b[1mwandb\u001b[0m: Job received.\n",
            "\u001b[34m\u001b[1mwandb\u001b[0m: Agent Starting Run: lvjtxasw with config:\n",
            "\u001b[34m\u001b[1mwandb\u001b[0m: \tbatch_size: 16\n",
            "\u001b[34m\u001b[1mwandb\u001b[0m: \tepochs: 10\n",
            "\u001b[34m\u001b[1mwandb\u001b[0m: \thidden_nodes: 64\n",
            "\u001b[34m\u001b[1mwandb\u001b[0m: \timg_size: 16\n",
            "\u001b[34m\u001b[1mwandb\u001b[0m: \tlearning_rate: 0.001\n"
          ]
        },
        {
          "output_type": "display_data",
          "data": {
            "text/plain": [
              "<IPython.core.display.HTML object>"
            ],
            "text/html": [
              "Tracking run with wandb version 0.19.10"
            ]
          },
          "metadata": {}
        },
        {
          "output_type": "display_data",
          "data": {
            "text/plain": [
              "<IPython.core.display.HTML object>"
            ],
            "text/html": [
              "Run data is saved locally in <code>/content/wandb/run-20250507_061912-lvjtxasw</code>"
            ]
          },
          "metadata": {}
        },
        {
          "output_type": "display_data",
          "data": {
            "text/plain": [
              "<IPython.core.display.HTML object>"
            ],
            "text/html": [
              "Syncing run <strong><a href='https://wandb.ai/adeakinwe-richkinwe-io/5-flowers-sweep/runs/lvjtxasw' target=\"_blank\">frosty-sweep-29</a></strong> to <a href='https://wandb.ai/adeakinwe-richkinwe-io/5-flowers-sweep' target=\"_blank\">Weights & Biases</a> (<a href='https://wandb.me/developer-guide' target=\"_blank\">docs</a>)<br>Sweep page: <a href='https://wandb.ai/adeakinwe-richkinwe-io/5-flowers-sweep/sweeps/qgsqn7e0' target=\"_blank\">https://wandb.ai/adeakinwe-richkinwe-io/5-flowers-sweep/sweeps/qgsqn7e0</a>"
            ]
          },
          "metadata": {}
        },
        {
          "output_type": "display_data",
          "data": {
            "text/plain": [
              "<IPython.core.display.HTML object>"
            ],
            "text/html": [
              " View project at <a href='https://wandb.ai/adeakinwe-richkinwe-io/5-flowers-sweep' target=\"_blank\">https://wandb.ai/adeakinwe-richkinwe-io/5-flowers-sweep</a>"
            ]
          },
          "metadata": {}
        },
        {
          "output_type": "display_data",
          "data": {
            "text/plain": [
              "<IPython.core.display.HTML object>"
            ],
            "text/html": [
              " View sweep at <a href='https://wandb.ai/adeakinwe-richkinwe-io/5-flowers-sweep/sweeps/qgsqn7e0' target=\"_blank\">https://wandb.ai/adeakinwe-richkinwe-io/5-flowers-sweep/sweeps/qgsqn7e0</a>"
            ]
          },
          "metadata": {}
        },
        {
          "output_type": "display_data",
          "data": {
            "text/plain": [
              "<IPython.core.display.HTML object>"
            ],
            "text/html": [
              " View run at <a href='https://wandb.ai/adeakinwe-richkinwe-io/5-flowers-sweep/runs/lvjtxasw' target=\"_blank\">https://wandb.ai/adeakinwe-richkinwe-io/5-flowers-sweep/runs/lvjtxasw</a>"
            ]
          },
          "metadata": {}
        },
        {
          "output_type": "display_data",
          "data": {
            "text/plain": [
              "<IPython.core.display.HTML object>"
            ],
            "text/html": []
          },
          "metadata": {}
        },
        {
          "output_type": "display_data",
          "data": {
            "text/plain": [
              "<IPython.core.display.HTML object>"
            ],
            "text/html": [
              " View run <strong style=\"color:#cdcd00\">frosty-sweep-29</strong> at: <a href='https://wandb.ai/adeakinwe-richkinwe-io/5-flowers-sweep/runs/lvjtxasw' target=\"_blank\">https://wandb.ai/adeakinwe-richkinwe-io/5-flowers-sweep/runs/lvjtxasw</a><br> View project at: <a href='https://wandb.ai/adeakinwe-richkinwe-io/5-flowers-sweep' target=\"_blank\">https://wandb.ai/adeakinwe-richkinwe-io/5-flowers-sweep</a><br>Synced 5 W&B file(s), 0 media file(s), 0 artifact file(s) and 0 other file(s)"
            ]
          },
          "metadata": {}
        },
        {
          "output_type": "display_data",
          "data": {
            "text/plain": [
              "<IPython.core.display.HTML object>"
            ],
            "text/html": [
              "Find logs at: <code>./wandb/run-20250507_061912-lvjtxasw/logs</code>"
            ]
          },
          "metadata": {}
        },
        {
          "output_type": "stream",
          "name": "stderr",
          "text": [
            "\u001b[34m\u001b[1mwandb\u001b[0m: Agent Starting Run: 2w9gwin2 with config:\n",
            "\u001b[34m\u001b[1mwandb\u001b[0m: \tbatch_size: 16\n",
            "\u001b[34m\u001b[1mwandb\u001b[0m: \tepochs: 10\n",
            "\u001b[34m\u001b[1mwandb\u001b[0m: \thidden_nodes: 64\n",
            "\u001b[34m\u001b[1mwandb\u001b[0m: \timg_size: 16\n",
            "\u001b[34m\u001b[1mwandb\u001b[0m: \tlearning_rate: 0.0001\n"
          ]
        },
        {
          "output_type": "display_data",
          "data": {
            "text/plain": [
              "<IPython.core.display.HTML object>"
            ],
            "text/html": [
              "Tracking run with wandb version 0.19.10"
            ]
          },
          "metadata": {}
        },
        {
          "output_type": "display_data",
          "data": {
            "text/plain": [
              "<IPython.core.display.HTML object>"
            ],
            "text/html": [
              "Run data is saved locally in <code>/content/wandb/run-20250507_061918-2w9gwin2</code>"
            ]
          },
          "metadata": {}
        },
        {
          "output_type": "display_data",
          "data": {
            "text/plain": [
              "<IPython.core.display.HTML object>"
            ],
            "text/html": [
              "Syncing run <strong><a href='https://wandb.ai/adeakinwe-richkinwe-io/5-flowers-sweep/runs/2w9gwin2' target=\"_blank\">light-sweep-30</a></strong> to <a href='https://wandb.ai/adeakinwe-richkinwe-io/5-flowers-sweep' target=\"_blank\">Weights & Biases</a> (<a href='https://wandb.me/developer-guide' target=\"_blank\">docs</a>)<br>Sweep page: <a href='https://wandb.ai/adeakinwe-richkinwe-io/5-flowers-sweep/sweeps/qgsqn7e0' target=\"_blank\">https://wandb.ai/adeakinwe-richkinwe-io/5-flowers-sweep/sweeps/qgsqn7e0</a>"
            ]
          },
          "metadata": {}
        },
        {
          "output_type": "display_data",
          "data": {
            "text/plain": [
              "<IPython.core.display.HTML object>"
            ],
            "text/html": [
              " View project at <a href='https://wandb.ai/adeakinwe-richkinwe-io/5-flowers-sweep' target=\"_blank\">https://wandb.ai/adeakinwe-richkinwe-io/5-flowers-sweep</a>"
            ]
          },
          "metadata": {}
        },
        {
          "output_type": "display_data",
          "data": {
            "text/plain": [
              "<IPython.core.display.HTML object>"
            ],
            "text/html": [
              " View sweep at <a href='https://wandb.ai/adeakinwe-richkinwe-io/5-flowers-sweep/sweeps/qgsqn7e0' target=\"_blank\">https://wandb.ai/adeakinwe-richkinwe-io/5-flowers-sweep/sweeps/qgsqn7e0</a>"
            ]
          },
          "metadata": {}
        },
        {
          "output_type": "display_data",
          "data": {
            "text/plain": [
              "<IPython.core.display.HTML object>"
            ],
            "text/html": [
              " View run at <a href='https://wandb.ai/adeakinwe-richkinwe-io/5-flowers-sweep/runs/2w9gwin2' target=\"_blank\">https://wandb.ai/adeakinwe-richkinwe-io/5-flowers-sweep/runs/2w9gwin2</a>"
            ]
          },
          "metadata": {}
        },
        {
          "output_type": "display_data",
          "data": {
            "text/plain": [
              "<IPython.core.display.HTML object>"
            ],
            "text/html": []
          },
          "metadata": {}
        },
        {
          "output_type": "display_data",
          "data": {
            "text/plain": [
              "<IPython.core.display.HTML object>"
            ],
            "text/html": [
              " View run <strong style=\"color:#cdcd00\">light-sweep-30</strong> at: <a href='https://wandb.ai/adeakinwe-richkinwe-io/5-flowers-sweep/runs/2w9gwin2' target=\"_blank\">https://wandb.ai/adeakinwe-richkinwe-io/5-flowers-sweep/runs/2w9gwin2</a><br> View project at: <a href='https://wandb.ai/adeakinwe-richkinwe-io/5-flowers-sweep' target=\"_blank\">https://wandb.ai/adeakinwe-richkinwe-io/5-flowers-sweep</a><br>Synced 5 W&B file(s), 0 media file(s), 0 artifact file(s) and 0 other file(s)"
            ]
          },
          "metadata": {}
        },
        {
          "output_type": "display_data",
          "data": {
            "text/plain": [
              "<IPython.core.display.HTML object>"
            ],
            "text/html": [
              "Find logs at: <code>./wandb/run-20250507_061918-2w9gwin2/logs</code>"
            ]
          },
          "metadata": {}
        },
        {
          "output_type": "stream",
          "name": "stderr",
          "text": [
            "\u001b[34m\u001b[1mwandb\u001b[0m: Sweep Agent: Waiting for job.\n",
            "\u001b[34m\u001b[1mwandb\u001b[0m: Job received.\n",
            "\u001b[34m\u001b[1mwandb\u001b[0m: Agent Starting Run: 9qek7n0q with config:\n",
            "\u001b[34m\u001b[1mwandb\u001b[0m: \tbatch_size: 16\n",
            "\u001b[34m\u001b[1mwandb\u001b[0m: \tepochs: 10\n",
            "\u001b[34m\u001b[1mwandb\u001b[0m: \thidden_nodes: 64\n",
            "\u001b[34m\u001b[1mwandb\u001b[0m: \timg_size: 224\n",
            "\u001b[34m\u001b[1mwandb\u001b[0m: \tlearning_rate: 0.001\n"
          ]
        },
        {
          "output_type": "display_data",
          "data": {
            "text/plain": [
              "<IPython.core.display.HTML object>"
            ],
            "text/html": [
              "Tracking run with wandb version 0.19.10"
            ]
          },
          "metadata": {}
        },
        {
          "output_type": "display_data",
          "data": {
            "text/plain": [
              "<IPython.core.display.HTML object>"
            ],
            "text/html": [
              "Run data is saved locally in <code>/content/wandb/run-20250507_061934-9qek7n0q</code>"
            ]
          },
          "metadata": {}
        },
        {
          "output_type": "display_data",
          "data": {
            "text/plain": [
              "<IPython.core.display.HTML object>"
            ],
            "text/html": [
              "Syncing run <strong><a href='https://wandb.ai/adeakinwe-richkinwe-io/5-flowers-sweep/runs/9qek7n0q' target=\"_blank\">playful-sweep-31</a></strong> to <a href='https://wandb.ai/adeakinwe-richkinwe-io/5-flowers-sweep' target=\"_blank\">Weights & Biases</a> (<a href='https://wandb.me/developer-guide' target=\"_blank\">docs</a>)<br>Sweep page: <a href='https://wandb.ai/adeakinwe-richkinwe-io/5-flowers-sweep/sweeps/qgsqn7e0' target=\"_blank\">https://wandb.ai/adeakinwe-richkinwe-io/5-flowers-sweep/sweeps/qgsqn7e0</a>"
            ]
          },
          "metadata": {}
        },
        {
          "output_type": "display_data",
          "data": {
            "text/plain": [
              "<IPython.core.display.HTML object>"
            ],
            "text/html": [
              " View project at <a href='https://wandb.ai/adeakinwe-richkinwe-io/5-flowers-sweep' target=\"_blank\">https://wandb.ai/adeakinwe-richkinwe-io/5-flowers-sweep</a>"
            ]
          },
          "metadata": {}
        },
        {
          "output_type": "display_data",
          "data": {
            "text/plain": [
              "<IPython.core.display.HTML object>"
            ],
            "text/html": [
              " View sweep at <a href='https://wandb.ai/adeakinwe-richkinwe-io/5-flowers-sweep/sweeps/qgsqn7e0' target=\"_blank\">https://wandb.ai/adeakinwe-richkinwe-io/5-flowers-sweep/sweeps/qgsqn7e0</a>"
            ]
          },
          "metadata": {}
        },
        {
          "output_type": "display_data",
          "data": {
            "text/plain": [
              "<IPython.core.display.HTML object>"
            ],
            "text/html": [
              " View run at <a href='https://wandb.ai/adeakinwe-richkinwe-io/5-flowers-sweep/runs/9qek7n0q' target=\"_blank\">https://wandb.ai/adeakinwe-richkinwe-io/5-flowers-sweep/runs/9qek7n0q</a>"
            ]
          },
          "metadata": {}
        },
        {
          "output_type": "display_data",
          "data": {
            "text/plain": [
              "<IPython.core.display.HTML object>"
            ],
            "text/html": []
          },
          "metadata": {}
        },
        {
          "output_type": "display_data",
          "data": {
            "text/plain": [
              "<IPython.core.display.HTML object>"
            ],
            "text/html": [
              " View run <strong style=\"color:#cdcd00\">playful-sweep-31</strong> at: <a href='https://wandb.ai/adeakinwe-richkinwe-io/5-flowers-sweep/runs/9qek7n0q' target=\"_blank\">https://wandb.ai/adeakinwe-richkinwe-io/5-flowers-sweep/runs/9qek7n0q</a><br> View project at: <a href='https://wandb.ai/adeakinwe-richkinwe-io/5-flowers-sweep' target=\"_blank\">https://wandb.ai/adeakinwe-richkinwe-io/5-flowers-sweep</a><br>Synced 5 W&B file(s), 0 media file(s), 0 artifact file(s) and 0 other file(s)"
            ]
          },
          "metadata": {}
        },
        {
          "output_type": "display_data",
          "data": {
            "text/plain": [
              "<IPython.core.display.HTML object>"
            ],
            "text/html": [
              "Find logs at: <code>./wandb/run-20250507_061934-9qek7n0q/logs</code>"
            ]
          },
          "metadata": {}
        },
        {
          "output_type": "stream",
          "name": "stderr",
          "text": [
            "\u001b[34m\u001b[1mwandb\u001b[0m: Agent Starting Run: bya9ogl3 with config:\n",
            "\u001b[34m\u001b[1mwandb\u001b[0m: \tbatch_size: 16\n",
            "\u001b[34m\u001b[1mwandb\u001b[0m: \tepochs: 10\n",
            "\u001b[34m\u001b[1mwandb\u001b[0m: \thidden_nodes: 64\n",
            "\u001b[34m\u001b[1mwandb\u001b[0m: \timg_size: 224\n",
            "\u001b[34m\u001b[1mwandb\u001b[0m: \tlearning_rate: 0.0001\n"
          ]
        },
        {
          "output_type": "display_data",
          "data": {
            "text/plain": [
              "<IPython.core.display.HTML object>"
            ],
            "text/html": [
              "Tracking run with wandb version 0.19.10"
            ]
          },
          "metadata": {}
        },
        {
          "output_type": "display_data",
          "data": {
            "text/plain": [
              "<IPython.core.display.HTML object>"
            ],
            "text/html": [
              "Run data is saved locally in <code>/content/wandb/run-20250507_061940-bya9ogl3</code>"
            ]
          },
          "metadata": {}
        },
        {
          "output_type": "display_data",
          "data": {
            "text/plain": [
              "<IPython.core.display.HTML object>"
            ],
            "text/html": [
              "Syncing run <strong><a href='https://wandb.ai/adeakinwe-richkinwe-io/5-flowers-sweep/runs/bya9ogl3' target=\"_blank\">vague-sweep-32</a></strong> to <a href='https://wandb.ai/adeakinwe-richkinwe-io/5-flowers-sweep' target=\"_blank\">Weights & Biases</a> (<a href='https://wandb.me/developer-guide' target=\"_blank\">docs</a>)<br>Sweep page: <a href='https://wandb.ai/adeakinwe-richkinwe-io/5-flowers-sweep/sweeps/qgsqn7e0' target=\"_blank\">https://wandb.ai/adeakinwe-richkinwe-io/5-flowers-sweep/sweeps/qgsqn7e0</a>"
            ]
          },
          "metadata": {}
        },
        {
          "output_type": "display_data",
          "data": {
            "text/plain": [
              "<IPython.core.display.HTML object>"
            ],
            "text/html": [
              " View project at <a href='https://wandb.ai/adeakinwe-richkinwe-io/5-flowers-sweep' target=\"_blank\">https://wandb.ai/adeakinwe-richkinwe-io/5-flowers-sweep</a>"
            ]
          },
          "metadata": {}
        },
        {
          "output_type": "display_data",
          "data": {
            "text/plain": [
              "<IPython.core.display.HTML object>"
            ],
            "text/html": [
              " View sweep at <a href='https://wandb.ai/adeakinwe-richkinwe-io/5-flowers-sweep/sweeps/qgsqn7e0' target=\"_blank\">https://wandb.ai/adeakinwe-richkinwe-io/5-flowers-sweep/sweeps/qgsqn7e0</a>"
            ]
          },
          "metadata": {}
        },
        {
          "output_type": "display_data",
          "data": {
            "text/plain": [
              "<IPython.core.display.HTML object>"
            ],
            "text/html": [
              " View run at <a href='https://wandb.ai/adeakinwe-richkinwe-io/5-flowers-sweep/runs/bya9ogl3' target=\"_blank\">https://wandb.ai/adeakinwe-richkinwe-io/5-flowers-sweep/runs/bya9ogl3</a>"
            ]
          },
          "metadata": {}
        },
        {
          "output_type": "display_data",
          "data": {
            "text/plain": [
              "<IPython.core.display.HTML object>"
            ],
            "text/html": []
          },
          "metadata": {}
        },
        {
          "output_type": "display_data",
          "data": {
            "text/plain": [
              "<IPython.core.display.HTML object>"
            ],
            "text/html": [
              " View run <strong style=\"color:#cdcd00\">vague-sweep-32</strong> at: <a href='https://wandb.ai/adeakinwe-richkinwe-io/5-flowers-sweep/runs/bya9ogl3' target=\"_blank\">https://wandb.ai/adeakinwe-richkinwe-io/5-flowers-sweep/runs/bya9ogl3</a><br> View project at: <a href='https://wandb.ai/adeakinwe-richkinwe-io/5-flowers-sweep' target=\"_blank\">https://wandb.ai/adeakinwe-richkinwe-io/5-flowers-sweep</a><br>Synced 5 W&B file(s), 0 media file(s), 0 artifact file(s) and 0 other file(s)"
            ]
          },
          "metadata": {}
        },
        {
          "output_type": "display_data",
          "data": {
            "text/plain": [
              "<IPython.core.display.HTML object>"
            ],
            "text/html": [
              "Find logs at: <code>./wandb/run-20250507_061940-bya9ogl3/logs</code>"
            ]
          },
          "metadata": {}
        },
        {
          "output_type": "stream",
          "name": "stderr",
          "text": [
            "\u001b[34m\u001b[1mwandb\u001b[0m: Sweep Agent: Waiting for job.\n",
            "\u001b[34m\u001b[1mwandb\u001b[0m: Sweep Agent: Exiting.\n"
          ]
        }
      ]
    }
  ]
}