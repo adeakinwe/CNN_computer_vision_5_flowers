{
  "cells": [
    {
      "cell_type": "markdown",
      "metadata": {
        "id": "view-in-github",
        "colab_type": "text"
      },
      "source": [
        "<a href=\"https://colab.research.google.com/github/adeakinwe/computer_vision/blob/main/ResNet_PyTorch_5_flowers.ipynb\" target=\"_parent\"><img src=\"https://colab.research.google.com/assets/colab-badge.svg\" alt=\"Open In Colab\"/></a>"
      ]
    },
    {
      "cell_type": "code",
      "source": [
        "from google.colab import drive\n",
        "drive.mount('/content/drive')"
      ],
      "metadata": {
        "colab": {
          "base_uri": "https://localhost:8080/"
        },
        "id": "ekVzSW8Bb_Ze",
        "outputId": "a9e60171-b35b-4b0e-f448-dc21ac7db83c"
      },
      "execution_count": 1,
      "outputs": [
        {
          "output_type": "stream",
          "name": "stdout",
          "text": [
            "Mounted at /content/drive\n"
          ]
        }
      ]
    },
    {
      "cell_type": "code",
      "source": [
        "import torch\n",
        "import torch.nn as nn\n",
        "import torch.optim as optim\n",
        "import torchvision\n",
        "import torchvision.transforms as transforms\n",
        "from torchvision import datasets, transforms, models\n",
        "from torch.utils.data import DataLoader\n",
        "from torchvision import models\n",
        "from torchsummary import summary\n",
        "import wandb\n",
        "import os"
      ],
      "metadata": {
        "id": "HUjjD6MRYJmr"
      },
      "execution_count": 2,
      "outputs": []
    },
    {
      "cell_type": "code",
      "source": [
        "# =======================\n",
        "# STEP 0: Initialize wandb\n",
        "# =======================\n",
        "wandb.init(project=\"ResNet-5flowers-Classifier\", config={\n",
        "    \"epochs\": 10,\n",
        "    \"batch_size\": 16,\n",
        "    \"learning_rate\": 0.001,\n",
        "    \"architecture\": \"ResNet\",\n",
        "    \"pretrained\": True,\n",
        "    \"input_size\": 224\n",
        "})\n",
        "\n",
        "# Shortcut to config values\n",
        "config = wandb.config"
      ],
      "metadata": {
        "colab": {
          "base_uri": "https://localhost:8080/",
          "height": 260
        },
        "id": "zxVl69yfYLO3",
        "outputId": "ee4cd2e2-b9bb-410c-aa73-384ca4d8ebaf"
      },
      "execution_count": 3,
      "outputs": [
        {
          "output_type": "display_data",
          "data": {
            "text/plain": [
              "<IPython.core.display.Javascript object>"
            ],
            "application/javascript": [
              "\n",
              "        window._wandbApiKey = new Promise((resolve, reject) => {\n",
              "            function loadScript(url) {\n",
              "            return new Promise(function(resolve, reject) {\n",
              "                let newScript = document.createElement(\"script\");\n",
              "                newScript.onerror = reject;\n",
              "                newScript.onload = resolve;\n",
              "                document.body.appendChild(newScript);\n",
              "                newScript.src = url;\n",
              "            });\n",
              "            }\n",
              "            loadScript(\"https://cdn.jsdelivr.net/npm/postmate/build/postmate.min.js\").then(() => {\n",
              "            const iframe = document.createElement('iframe')\n",
              "            iframe.style.cssText = \"width:0;height:0;border:none\"\n",
              "            document.body.appendChild(iframe)\n",
              "            const handshake = new Postmate({\n",
              "                container: iframe,\n",
              "                url: 'https://wandb.ai/authorize'\n",
              "            });\n",
              "            const timeout = setTimeout(() => reject(\"Couldn't auto authenticate\"), 5000)\n",
              "            handshake.then(function(child) {\n",
              "                child.on('authorize', data => {\n",
              "                    clearTimeout(timeout)\n",
              "                    resolve(data)\n",
              "                });\n",
              "            });\n",
              "            })\n",
              "        });\n",
              "    "
            ]
          },
          "metadata": {}
        },
        {
          "output_type": "stream",
          "name": "stderr",
          "text": [
            "\u001b[34m\u001b[1mwandb\u001b[0m: Logging into wandb.ai. (Learn how to deploy a W&B server locally: https://wandb.me/wandb-server)\n",
            "\u001b[34m\u001b[1mwandb\u001b[0m: You can find your API key in your browser here: https://wandb.ai/authorize?ref=models\n",
            "wandb: Paste an API key from your profile and hit enter:"
          ]
        },
        {
          "name": "stdout",
          "output_type": "stream",
          "text": [
            " ··········\n"
          ]
        },
        {
          "output_type": "stream",
          "name": "stderr",
          "text": [
            "\u001b[34m\u001b[1mwandb\u001b[0m: \u001b[33mWARNING\u001b[0m If you're specifying your api key in code, ensure this code is not shared publicly.\n",
            "\u001b[34m\u001b[1mwandb\u001b[0m: \u001b[33mWARNING\u001b[0m Consider setting the WANDB_API_KEY environment variable, or running `wandb login` from the command line.\n",
            "\u001b[34m\u001b[1mwandb\u001b[0m: No netrc file found, creating one.\n",
            "\u001b[34m\u001b[1mwandb\u001b[0m: Appending key for api.wandb.ai to your netrc file: /root/.netrc\n",
            "\u001b[34m\u001b[1mwandb\u001b[0m: Currently logged in as: \u001b[33madeakinwe\u001b[0m (\u001b[33madeakinwe-richkinwe-io\u001b[0m) to \u001b[32mhttps://api.wandb.ai\u001b[0m. Use \u001b[1m`wandb login --relogin`\u001b[0m to force relogin\n"
          ]
        },
        {
          "output_type": "display_data",
          "data": {
            "text/plain": [
              "<IPython.core.display.HTML object>"
            ],
            "text/html": [
              "Tracking run with wandb version 0.21.0"
            ]
          },
          "metadata": {}
        },
        {
          "output_type": "display_data",
          "data": {
            "text/plain": [
              "<IPython.core.display.HTML object>"
            ],
            "text/html": [
              "Run data is saved locally in <code>/content/wandb/run-20250713_134000-nglxqbtk</code>"
            ]
          },
          "metadata": {}
        },
        {
          "output_type": "display_data",
          "data": {
            "text/plain": [
              "<IPython.core.display.HTML object>"
            ],
            "text/html": [
              "Syncing run <strong><a href='https://wandb.ai/adeakinwe-richkinwe-io/ResNet-5flowers-Classifier/runs/nglxqbtk' target=\"_blank\">lucky-wood-1</a></strong> to <a href='https://wandb.ai/adeakinwe-richkinwe-io/ResNet-5flowers-Classifier' target=\"_blank\">Weights & Biases</a> (<a href='https://wandb.me/developer-guide' target=\"_blank\">docs</a>)<br>"
            ]
          },
          "metadata": {}
        },
        {
          "output_type": "display_data",
          "data": {
            "text/plain": [
              "<IPython.core.display.HTML object>"
            ],
            "text/html": [
              " View project at <a href='https://wandb.ai/adeakinwe-richkinwe-io/ResNet-5flowers-Classifier' target=\"_blank\">https://wandb.ai/adeakinwe-richkinwe-io/ResNet-5flowers-Classifier</a>"
            ]
          },
          "metadata": {}
        },
        {
          "output_type": "display_data",
          "data": {
            "text/plain": [
              "<IPython.core.display.HTML object>"
            ],
            "text/html": [
              " View run at <a href='https://wandb.ai/adeakinwe-richkinwe-io/ResNet-5flowers-Classifier/runs/nglxqbtk' target=\"_blank\">https://wandb.ai/adeakinwe-richkinwe-io/ResNet-5flowers-Classifier/runs/nglxqbtk</a>"
            ]
          },
          "metadata": {}
        }
      ]
    },
    {
      "cell_type": "code",
      "source": [
        "# =======================\n",
        "# STEP 1: Data Preparation\n",
        "# =======================\n",
        "\n",
        "# Transforms for training and validation\n",
        "data_transforms = {\n",
        "    'train': transforms.Compose([\n",
        "        transforms.Resize((224, 224)),\n",
        "        transforms.RandomHorizontalFlip(),\n",
        "        transforms.ToTensor(),\n",
        "        transforms.Normalize([0.485, 0.456, 0.406],\n",
        "                             [0.229, 0.224, 0.225])\n",
        "    ]),\n",
        "    'val': transforms.Compose([\n",
        "        transforms.Resize((224, 224)),\n",
        "        transforms.ToTensor(),\n",
        "        transforms.Normalize([0.485, 0.456, 0.406],\n",
        "                             [0.229, 0.224, 0.225])\n",
        "    ]),\n",
        "}\n",
        "\n",
        "train_dir = \"/content/drive/MyDrive/5flowersdata/flowers/train\"\n",
        "val_dir = \"/content/drive/MyDrive/5flowersdata/flowers/val\"\n",
        "\n",
        "train_dataset = datasets.ImageFolder(root=train_dir, transform=data_transforms['train'])\n",
        "val_dataset = datasets.ImageFolder(root=val_dir, transform=data_transforms['val'])\n",
        "\n",
        "train_loader = DataLoader(train_dataset, batch_size=config.batch_size, shuffle=True)\n",
        "val_loader = DataLoader(val_dataset, batch_size=config.batch_size)"
      ],
      "metadata": {
        "id": "Ti4rs4tkYMos"
      },
      "execution_count": 4,
      "outputs": []
    },
    {
      "cell_type": "code",
      "source": [
        "# ===========================\n",
        "# STEP 2: Load Pretrained Model\n",
        "# ===========================\n",
        "from torchvision.models import ResNet50_Weights\n",
        "\n",
        "model = models.resnet50(weights=ResNet50_Weights.DEFAULT)\n",
        "\n",
        "# Change the final conv layer to match 5 flower classes\n",
        "model.fc = nn.Linear(model.fc.in_features, 5)\n",
        "\n",
        "# Freeze all layers\n",
        "for param in model.parameters():\n",
        "    param.requires_grad = False\n",
        "\n",
        "# Unfreeze only final conv layer\n",
        "for param in model.fc.parameters():\n",
        "    param.requires_grad = True\n",
        "\n",
        "# Move model to device\n",
        "device = torch.device(\"cuda\" if torch.cuda.is_available() else \"cpu\")\n",
        "model = model.to(device)\n",
        "\n",
        "# Watch the model's weights and gradients\n",
        "wandb.watch(model, log=\"all\", log_freq=10)"
      ],
      "metadata": {
        "id": "Uu1_CDgvYOEW"
      },
      "execution_count": 7,
      "outputs": []
    },
    {
      "cell_type": "code",
      "source": [
        "# ===================\n",
        "# STEP 3: Loss & Optimizer\n",
        "# ===================\n",
        "\n",
        "criterion = nn.CrossEntropyLoss()\n",
        "optimizer = optim.Adam(model.parameters(), lr=config.learning_rate)"
      ],
      "metadata": {
        "id": "mxiVbXfxYPiW"
      },
      "execution_count": 8,
      "outputs": []
    },
    {
      "cell_type": "code",
      "execution_count": 9,
      "metadata": {
        "id": "_g-opvZQESck"
      },
      "outputs": [],
      "source": [
        "def train_model(model, criterion, optimizer, train_loader, val_loader, epochs=10):\n",
        "    for epoch in range(epochs):\n",
        "        model.train()\n",
        "        train_correct = 0\n",
        "        train_total = 0\n",
        "        running_loss = 0.0\n",
        "\n",
        "        print(f\"\\nEpoch {epoch + 1}/{epochs}\")\n",
        "        print(\"-\" * 30)\n",
        "\n",
        "        for i, (images, labels) in enumerate(train_loader):\n",
        "            images, labels = images.to(device), labels.to(device)\n",
        "\n",
        "            optimizer.zero_grad()\n",
        "            outputs = model(images)\n",
        "            loss = criterion(outputs, labels)\n",
        "            loss.backward()\n",
        "            optimizer.step()\n",
        "\n",
        "            running_loss += loss.item()\n",
        "            _, preds = torch.max(outputs, 1)\n",
        "            batch_correct = (preds == labels).sum().item()\n",
        "            train_correct += batch_correct\n",
        "            train_total += labels.size(0)\n",
        "\n",
        "            # Print every 10 batches\n",
        "            if (i + 1) % 10 == 0:\n",
        "                batch_acc = batch_correct / labels.size(0)\n",
        "                print(f\"[Batch {i+1}/{len(train_loader)}] Loss: {loss.item():.4f}, Batch Acc: {batch_acc:.4f}\")\n",
        "\n",
        "        train_acc = train_correct / train_total\n",
        "        wandb.log({\"epoch\": epoch + 1, \"train_loss\": running_loss, \"train_accuracy\": train_acc})\n",
        "        print(f\"Epoch {epoch+1} Summary - Loss: {running_loss:.4f}, Train Accuracy: {train_acc:.4f}\")\n",
        "\n",
        "        # Validation\n",
        "        model.eval()\n",
        "        val_correct = 0\n",
        "        val_total = 0\n",
        "        with torch.no_grad():\n",
        "            for images, labels in val_loader:\n",
        "                images, labels = images.to(device), labels.to(device)\n",
        "                outputs = model(images)\n",
        "                _, preds = torch.max(outputs, 1)\n",
        "                val_correct += (preds == labels).sum().item()\n",
        "                val_total += labels.size(0)\n",
        "\n",
        "        val_acc = val_correct / val_total\n",
        "        wandb.log({\"epoch\": epoch + 1, \"val_accuracy\": val_acc})\n",
        "        print(f\"Validation Accuracy: {val_acc:.4f}\")\n"
      ]
    },
    {
      "cell_type": "code",
      "source": [
        "# ===================\n",
        "# Train the model\n",
        "# ===================\n",
        "train_model(model, criterion, optimizer, train_loader, val_loader, epochs=config.epochs)"
      ],
      "metadata": {
        "colab": {
          "base_uri": "https://localhost:8080/"
        },
        "id": "cTczSawNYSrI",
        "outputId": "30759a74-8df6-4701-9947-66cc38d67c2a"
      },
      "execution_count": 10,
      "outputs": [
        {
          "output_type": "stream",
          "name": "stdout",
          "text": [
            "\n",
            "Epoch 1/10\n",
            "------------------------------\n",
            "[Batch 10/251] Loss: 1.5143, Batch Acc: 0.2500\n",
            "[Batch 20/251] Loss: 1.1344, Batch Acc: 0.8750\n",
            "[Batch 30/251] Loss: 1.2264, Batch Acc: 0.5000\n",
            "[Batch 40/251] Loss: 0.8879, Batch Acc: 0.9375\n",
            "[Batch 50/251] Loss: 0.7416, Batch Acc: 0.8750\n",
            "[Batch 60/251] Loss: 0.6870, Batch Acc: 0.9375\n",
            "[Batch 70/251] Loss: 0.7399, Batch Acc: 0.7500\n",
            "[Batch 80/251] Loss: 0.7800, Batch Acc: 0.8125\n",
            "[Batch 90/251] Loss: 0.6725, Batch Acc: 0.9375\n",
            "[Batch 100/251] Loss: 0.6570, Batch Acc: 0.8125\n",
            "[Batch 110/251] Loss: 0.6516, Batch Acc: 1.0000\n",
            "[Batch 120/251] Loss: 0.5362, Batch Acc: 0.8750\n",
            "[Batch 130/251] Loss: 0.5933, Batch Acc: 0.8125\n",
            "[Batch 140/251] Loss: 0.7275, Batch Acc: 0.8750\n",
            "[Batch 150/251] Loss: 0.4352, Batch Acc: 0.9375\n",
            "[Batch 160/251] Loss: 0.4781, Batch Acc: 0.8750\n",
            "[Batch 170/251] Loss: 0.6568, Batch Acc: 0.8125\n",
            "[Batch 180/251] Loss: 0.3903, Batch Acc: 0.9375\n",
            "[Batch 190/251] Loss: 0.7440, Batch Acc: 0.8125\n",
            "[Batch 200/251] Loss: 0.4333, Batch Acc: 0.9375\n",
            "[Batch 210/251] Loss: 0.3521, Batch Acc: 0.9375\n",
            "[Batch 220/251] Loss: 0.8136, Batch Acc: 0.6250\n",
            "[Batch 230/251] Loss: 0.4510, Batch Acc: 0.9375\n",
            "[Batch 240/251] Loss: 0.5243, Batch Acc: 0.8125\n",
            "[Batch 250/251] Loss: 0.8813, Batch Acc: 0.6250\n",
            "Epoch 1 Summary - Loss: 191.8287, Train Accuracy: 0.7897\n",
            "Validation Accuracy: 0.8724\n",
            "\n",
            "Epoch 2/10\n",
            "------------------------------\n",
            "[Batch 10/251] Loss: 0.6194, Batch Acc: 0.8125\n",
            "[Batch 20/251] Loss: 0.5105, Batch Acc: 0.9375\n",
            "[Batch 30/251] Loss: 0.4020, Batch Acc: 1.0000\n",
            "[Batch 40/251] Loss: 0.3914, Batch Acc: 0.8750\n",
            "[Batch 50/251] Loss: 0.3771, Batch Acc: 1.0000\n",
            "[Batch 60/251] Loss: 0.3842, Batch Acc: 0.8750\n",
            "[Batch 70/251] Loss: 0.5614, Batch Acc: 0.8125\n",
            "[Batch 80/251] Loss: 0.4551, Batch Acc: 0.8750\n",
            "[Batch 90/251] Loss: 0.3311, Batch Acc: 0.9375\n",
            "[Batch 100/251] Loss: 0.1589, Batch Acc: 1.0000\n",
            "[Batch 110/251] Loss: 0.2983, Batch Acc: 0.9375\n",
            "[Batch 120/251] Loss: 0.3359, Batch Acc: 1.0000\n",
            "[Batch 130/251] Loss: 0.3728, Batch Acc: 0.9375\n",
            "[Batch 140/251] Loss: 0.1971, Batch Acc: 1.0000\n",
            "[Batch 150/251] Loss: 0.4238, Batch Acc: 0.8750\n",
            "[Batch 160/251] Loss: 0.4688, Batch Acc: 0.8125\n",
            "[Batch 170/251] Loss: 0.1926, Batch Acc: 1.0000\n",
            "[Batch 180/251] Loss: 0.2433, Batch Acc: 0.9375\n",
            "[Batch 190/251] Loss: 0.4662, Batch Acc: 0.8125\n",
            "[Batch 200/251] Loss: 0.3354, Batch Acc: 1.0000\n",
            "[Batch 210/251] Loss: 0.3686, Batch Acc: 0.8750\n",
            "[Batch 220/251] Loss: 0.4159, Batch Acc: 0.8750\n",
            "[Batch 230/251] Loss: 0.5140, Batch Acc: 0.8750\n",
            "[Batch 240/251] Loss: 0.2554, Batch Acc: 0.8750\n",
            "[Batch 250/251] Loss: 0.2443, Batch Acc: 1.0000\n",
            "Epoch 2 Summary - Loss: 105.4762, Train Accuracy: 0.8810\n",
            "Validation Accuracy: 0.8932\n",
            "\n",
            "Epoch 3/10\n",
            "------------------------------\n",
            "[Batch 10/251] Loss: 0.2891, Batch Acc: 0.9375\n",
            "[Batch 20/251] Loss: 0.5553, Batch Acc: 0.8125\n",
            "[Batch 30/251] Loss: 0.2148, Batch Acc: 0.9375\n",
            "[Batch 40/251] Loss: 0.5376, Batch Acc: 0.8750\n",
            "[Batch 50/251] Loss: 0.2386, Batch Acc: 0.9375\n",
            "[Batch 60/251] Loss: 0.2639, Batch Acc: 0.9375\n",
            "[Batch 70/251] Loss: 0.3740, Batch Acc: 0.8125\n",
            "[Batch 80/251] Loss: 0.3472, Batch Acc: 0.9375\n",
            "[Batch 90/251] Loss: 0.3779, Batch Acc: 0.9375\n",
            "[Batch 100/251] Loss: 0.2568, Batch Acc: 0.9375\n",
            "[Batch 110/251] Loss: 0.3020, Batch Acc: 0.9375\n",
            "[Batch 120/251] Loss: 0.6049, Batch Acc: 0.8125\n",
            "[Batch 130/251] Loss: 0.5870, Batch Acc: 0.8125\n",
            "[Batch 140/251] Loss: 0.5068, Batch Acc: 0.8125\n",
            "[Batch 150/251] Loss: 0.1895, Batch Acc: 0.9375\n",
            "[Batch 160/251] Loss: 0.3107, Batch Acc: 0.9375\n",
            "[Batch 170/251] Loss: 0.4427, Batch Acc: 0.8125\n",
            "[Batch 180/251] Loss: 0.3707, Batch Acc: 0.9375\n",
            "[Batch 190/251] Loss: 0.4630, Batch Acc: 0.9375\n",
            "[Batch 200/251] Loss: 0.4446, Batch Acc: 0.8750\n",
            "[Batch 210/251] Loss: 0.4236, Batch Acc: 0.8125\n",
            "[Batch 220/251] Loss: 0.2835, Batch Acc: 0.9375\n",
            "[Batch 230/251] Loss: 0.2181, Batch Acc: 0.9375\n",
            "[Batch 240/251] Loss: 0.1798, Batch Acc: 1.0000\n",
            "[Batch 250/251] Loss: 0.3716, Batch Acc: 0.8125\n",
            "Epoch 3 Summary - Loss: 85.6543, Train Accuracy: 0.9014\n",
            "Validation Accuracy: 0.9120\n",
            "\n",
            "Epoch 4/10\n",
            "------------------------------\n",
            "[Batch 10/251] Loss: 0.5484, Batch Acc: 0.8125\n",
            "[Batch 20/251] Loss: 0.4845, Batch Acc: 0.8125\n",
            "[Batch 30/251] Loss: 0.2027, Batch Acc: 0.9375\n",
            "[Batch 40/251] Loss: 0.3431, Batch Acc: 0.8750\n",
            "[Batch 50/251] Loss: 0.2385, Batch Acc: 0.9375\n",
            "[Batch 60/251] Loss: 0.4350, Batch Acc: 0.8750\n",
            "[Batch 70/251] Loss: 0.1464, Batch Acc: 0.9375\n",
            "[Batch 80/251] Loss: 0.1811, Batch Acc: 1.0000\n",
            "[Batch 90/251] Loss: 0.9159, Batch Acc: 0.6875\n",
            "[Batch 100/251] Loss: 0.3592, Batch Acc: 0.8750\n",
            "[Batch 110/251] Loss: 0.4614, Batch Acc: 0.8125\n",
            "[Batch 120/251] Loss: 0.5093, Batch Acc: 0.8125\n",
            "[Batch 130/251] Loss: 0.4483, Batch Acc: 0.9375\n",
            "[Batch 140/251] Loss: 0.2332, Batch Acc: 1.0000\n",
            "[Batch 150/251] Loss: 0.8049, Batch Acc: 0.8125\n",
            "[Batch 160/251] Loss: 0.2496, Batch Acc: 0.9375\n",
            "[Batch 170/251] Loss: 0.2938, Batch Acc: 0.9375\n",
            "[Batch 180/251] Loss: 0.3113, Batch Acc: 0.9375\n",
            "[Batch 190/251] Loss: 0.3277, Batch Acc: 0.8750\n",
            "[Batch 200/251] Loss: 0.1627, Batch Acc: 1.0000\n",
            "[Batch 210/251] Loss: 0.1053, Batch Acc: 1.0000\n",
            "[Batch 220/251] Loss: 0.1178, Batch Acc: 1.0000\n",
            "[Batch 230/251] Loss: 0.5155, Batch Acc: 0.7500\n",
            "[Batch 240/251] Loss: 0.3282, Batch Acc: 0.9375\n",
            "[Batch 250/251] Loss: 0.9191, Batch Acc: 0.7500\n",
            "Epoch 4 Summary - Loss: 74.0906, Train Accuracy: 0.9147\n",
            "Validation Accuracy: 0.9060\n",
            "\n",
            "Epoch 5/10\n",
            "------------------------------\n",
            "[Batch 10/251] Loss: 0.2733, Batch Acc: 1.0000\n",
            "[Batch 20/251] Loss: 0.1786, Batch Acc: 1.0000\n",
            "[Batch 30/251] Loss: 0.4558, Batch Acc: 0.7500\n",
            "[Batch 40/251] Loss: 0.1902, Batch Acc: 1.0000\n",
            "[Batch 50/251] Loss: 0.1033, Batch Acc: 1.0000\n",
            "[Batch 60/251] Loss: 0.3058, Batch Acc: 0.8750\n",
            "[Batch 70/251] Loss: 0.3461, Batch Acc: 0.8750\n",
            "[Batch 80/251] Loss: 0.1774, Batch Acc: 0.9375\n",
            "[Batch 90/251] Loss: 0.2910, Batch Acc: 0.9375\n",
            "[Batch 100/251] Loss: 0.4129, Batch Acc: 0.8750\n",
            "[Batch 110/251] Loss: 0.1528, Batch Acc: 1.0000\n",
            "[Batch 120/251] Loss: 0.1878, Batch Acc: 1.0000\n",
            "[Batch 130/251] Loss: 0.1906, Batch Acc: 1.0000\n",
            "[Batch 140/251] Loss: 0.1855, Batch Acc: 1.0000\n",
            "[Batch 150/251] Loss: 0.1875, Batch Acc: 0.9375\n",
            "[Batch 160/251] Loss: 0.4256, Batch Acc: 0.8750\n",
            "[Batch 170/251] Loss: 0.0805, Batch Acc: 1.0000\n",
            "[Batch 180/251] Loss: 0.2390, Batch Acc: 0.9375\n",
            "[Batch 190/251] Loss: 0.1932, Batch Acc: 0.9375\n",
            "[Batch 200/251] Loss: 0.1529, Batch Acc: 1.0000\n",
            "[Batch 210/251] Loss: 0.1877, Batch Acc: 0.9375\n",
            "[Batch 220/251] Loss: 0.2745, Batch Acc: 0.9375\n",
            "[Batch 230/251] Loss: 0.2192, Batch Acc: 0.9375\n",
            "[Batch 240/251] Loss: 0.1144, Batch Acc: 1.0000\n",
            "[Batch 250/251] Loss: 0.5235, Batch Acc: 0.8125\n",
            "Epoch 5 Summary - Loss: 66.8626, Train Accuracy: 0.9197\n",
            "Validation Accuracy: 0.9228\n",
            "\n",
            "Epoch 6/10\n",
            "------------------------------\n",
            "[Batch 10/251] Loss: 0.2108, Batch Acc: 0.9375\n",
            "[Batch 20/251] Loss: 0.6055, Batch Acc: 0.8125\n",
            "[Batch 30/251] Loss: 0.0678, Batch Acc: 1.0000\n",
            "[Batch 40/251] Loss: 0.0820, Batch Acc: 1.0000\n",
            "[Batch 50/251] Loss: 0.2279, Batch Acc: 1.0000\n",
            "[Batch 60/251] Loss: 0.1344, Batch Acc: 0.9375\n",
            "[Batch 70/251] Loss: 0.2556, Batch Acc: 0.9375\n",
            "[Batch 80/251] Loss: 0.1561, Batch Acc: 0.9375\n",
            "[Batch 90/251] Loss: 0.3740, Batch Acc: 0.8750\n",
            "[Batch 100/251] Loss: 0.1878, Batch Acc: 0.9375\n",
            "[Batch 110/251] Loss: 0.1933, Batch Acc: 1.0000\n",
            "[Batch 120/251] Loss: 0.2248, Batch Acc: 0.9375\n",
            "[Batch 130/251] Loss: 0.0935, Batch Acc: 1.0000\n",
            "[Batch 140/251] Loss: 0.3752, Batch Acc: 0.9375\n",
            "[Batch 150/251] Loss: 0.1996, Batch Acc: 1.0000\n",
            "[Batch 160/251] Loss: 0.3128, Batch Acc: 0.9375\n",
            "[Batch 170/251] Loss: 0.4434, Batch Acc: 0.9375\n",
            "[Batch 180/251] Loss: 0.1680, Batch Acc: 0.9375\n",
            "[Batch 190/251] Loss: 0.1614, Batch Acc: 1.0000\n",
            "[Batch 200/251] Loss: 0.1070, Batch Acc: 0.9375\n",
            "[Batch 210/251] Loss: 0.1860, Batch Acc: 0.9375\n",
            "[Batch 220/251] Loss: 0.1083, Batch Acc: 1.0000\n",
            "[Batch 230/251] Loss: 0.2705, Batch Acc: 0.9375\n",
            "[Batch 240/251] Loss: 0.1336, Batch Acc: 1.0000\n",
            "[Batch 250/251] Loss: 0.2544, Batch Acc: 0.9375\n",
            "Epoch 6 Summary - Loss: 59.0272, Train Accuracy: 0.9334\n",
            "Validation Accuracy: 0.9199\n",
            "\n",
            "Epoch 7/10\n",
            "------------------------------\n",
            "[Batch 10/251] Loss: 0.3509, Batch Acc: 0.8750\n",
            "[Batch 20/251] Loss: 0.2389, Batch Acc: 0.9375\n",
            "[Batch 30/251] Loss: 0.2370, Batch Acc: 0.9375\n",
            "[Batch 40/251] Loss: 0.3321, Batch Acc: 0.8750\n",
            "[Batch 50/251] Loss: 0.2693, Batch Acc: 0.9375\n",
            "[Batch 60/251] Loss: 0.1742, Batch Acc: 1.0000\n",
            "[Batch 70/251] Loss: 0.1430, Batch Acc: 1.0000\n",
            "[Batch 80/251] Loss: 0.2121, Batch Acc: 0.9375\n",
            "[Batch 90/251] Loss: 0.3038, Batch Acc: 0.9375\n",
            "[Batch 100/251] Loss: 0.1561, Batch Acc: 1.0000\n",
            "[Batch 110/251] Loss: 0.1939, Batch Acc: 0.9375\n",
            "[Batch 120/251] Loss: 0.1128, Batch Acc: 1.0000\n",
            "[Batch 130/251] Loss: 0.2251, Batch Acc: 1.0000\n",
            "[Batch 140/251] Loss: 0.2161, Batch Acc: 0.9375\n",
            "[Batch 150/251] Loss: 0.3462, Batch Acc: 0.9375\n",
            "[Batch 160/251] Loss: 0.1073, Batch Acc: 1.0000\n",
            "[Batch 170/251] Loss: 0.1951, Batch Acc: 0.9375\n",
            "[Batch 180/251] Loss: 0.1524, Batch Acc: 0.9375\n",
            "[Batch 190/251] Loss: 0.1907, Batch Acc: 0.9375\n",
            "[Batch 200/251] Loss: 0.2634, Batch Acc: 0.8750\n",
            "[Batch 210/251] Loss: 0.3720, Batch Acc: 0.8750\n",
            "[Batch 220/251] Loss: 0.2051, Batch Acc: 0.9375\n",
            "[Batch 230/251] Loss: 0.2532, Batch Acc: 0.8750\n",
            "[Batch 240/251] Loss: 0.2751, Batch Acc: 0.9375\n",
            "[Batch 250/251] Loss: 0.1611, Batch Acc: 0.9375\n",
            "Epoch 7 Summary - Loss: 53.9290, Train Accuracy: 0.9396\n",
            "Validation Accuracy: 0.9288\n",
            "\n",
            "Epoch 8/10\n",
            "------------------------------\n",
            "[Batch 10/251] Loss: 0.2019, Batch Acc: 0.9375\n",
            "[Batch 20/251] Loss: 0.2246, Batch Acc: 0.9375\n",
            "[Batch 30/251] Loss: 0.1022, Batch Acc: 1.0000\n",
            "[Batch 40/251] Loss: 0.2803, Batch Acc: 0.9375\n",
            "[Batch 50/251] Loss: 0.2592, Batch Acc: 0.8750\n",
            "[Batch 60/251] Loss: 0.1839, Batch Acc: 1.0000\n",
            "[Batch 70/251] Loss: 0.3871, Batch Acc: 0.8125\n",
            "[Batch 80/251] Loss: 0.1200, Batch Acc: 1.0000\n",
            "[Batch 90/251] Loss: 0.1092, Batch Acc: 1.0000\n",
            "[Batch 100/251] Loss: 0.4202, Batch Acc: 0.8750\n",
            "[Batch 110/251] Loss: 0.1004, Batch Acc: 1.0000\n",
            "[Batch 120/251] Loss: 0.1279, Batch Acc: 1.0000\n",
            "[Batch 130/251] Loss: 0.4907, Batch Acc: 0.8750\n",
            "[Batch 140/251] Loss: 0.2930, Batch Acc: 1.0000\n",
            "[Batch 150/251] Loss: 0.4511, Batch Acc: 0.8750\n",
            "[Batch 160/251] Loss: 0.1552, Batch Acc: 1.0000\n",
            "[Batch 170/251] Loss: 0.1365, Batch Acc: 0.9375\n",
            "[Batch 180/251] Loss: 0.1580, Batch Acc: 1.0000\n",
            "[Batch 190/251] Loss: 0.1806, Batch Acc: 0.9375\n",
            "[Batch 200/251] Loss: 0.1178, Batch Acc: 1.0000\n",
            "[Batch 210/251] Loss: 0.2534, Batch Acc: 0.9375\n",
            "[Batch 220/251] Loss: 0.1623, Batch Acc: 0.9375\n",
            "[Batch 230/251] Loss: 0.2079, Batch Acc: 0.9375\n",
            "[Batch 240/251] Loss: 0.2375, Batch Acc: 0.8750\n",
            "[Batch 250/251] Loss: 0.1825, Batch Acc: 1.0000\n",
            "Epoch 8 Summary - Loss: 52.2220, Train Accuracy: 0.9441\n",
            "Validation Accuracy: 0.9308\n",
            "\n",
            "Epoch 9/10\n",
            "------------------------------\n",
            "[Batch 10/251] Loss: 0.2104, Batch Acc: 0.8750\n",
            "[Batch 20/251] Loss: 0.1041, Batch Acc: 1.0000\n",
            "[Batch 30/251] Loss: 0.1938, Batch Acc: 0.8750\n",
            "[Batch 40/251] Loss: 0.3282, Batch Acc: 0.8750\n",
            "[Batch 50/251] Loss: 0.2106, Batch Acc: 1.0000\n",
            "[Batch 60/251] Loss: 0.0697, Batch Acc: 1.0000\n",
            "[Batch 70/251] Loss: 0.0750, Batch Acc: 1.0000\n",
            "[Batch 80/251] Loss: 0.2842, Batch Acc: 0.9375\n",
            "[Batch 90/251] Loss: 0.1415, Batch Acc: 1.0000\n",
            "[Batch 100/251] Loss: 0.4715, Batch Acc: 0.8750\n",
            "[Batch 110/251] Loss: 0.2922, Batch Acc: 0.8750\n",
            "[Batch 120/251] Loss: 0.0675, Batch Acc: 1.0000\n",
            "[Batch 130/251] Loss: 0.1033, Batch Acc: 1.0000\n",
            "[Batch 140/251] Loss: 0.1937, Batch Acc: 0.9375\n",
            "[Batch 150/251] Loss: 0.2526, Batch Acc: 0.8750\n",
            "[Batch 160/251] Loss: 0.5769, Batch Acc: 0.8750\n",
            "[Batch 170/251] Loss: 0.4273, Batch Acc: 0.7500\n",
            "[Batch 180/251] Loss: 0.2624, Batch Acc: 0.8750\n",
            "[Batch 190/251] Loss: 0.1506, Batch Acc: 0.9375\n",
            "[Batch 200/251] Loss: 0.2245, Batch Acc: 0.8750\n",
            "[Batch 210/251] Loss: 0.3299, Batch Acc: 0.7500\n",
            "[Batch 220/251] Loss: 0.2626, Batch Acc: 0.8750\n",
            "[Batch 230/251] Loss: 0.0807, Batch Acc: 1.0000\n",
            "[Batch 240/251] Loss: 0.2031, Batch Acc: 0.9375\n",
            "[Batch 250/251] Loss: 0.1639, Batch Acc: 1.0000\n",
            "Epoch 9 Summary - Loss: 49.8308, Train Accuracy: 0.9409\n",
            "Validation Accuracy: 0.9327\n",
            "\n",
            "Epoch 10/10\n",
            "------------------------------\n",
            "[Batch 10/251] Loss: 0.2216, Batch Acc: 0.8750\n",
            "[Batch 20/251] Loss: 0.0598, Batch Acc: 1.0000\n",
            "[Batch 30/251] Loss: 0.1199, Batch Acc: 1.0000\n",
            "[Batch 40/251] Loss: 0.0651, Batch Acc: 1.0000\n",
            "[Batch 50/251] Loss: 0.1785, Batch Acc: 0.9375\n",
            "[Batch 60/251] Loss: 0.2527, Batch Acc: 0.9375\n",
            "[Batch 70/251] Loss: 0.2564, Batch Acc: 0.9375\n",
            "[Batch 80/251] Loss: 0.0721, Batch Acc: 1.0000\n",
            "[Batch 90/251] Loss: 0.0902, Batch Acc: 1.0000\n",
            "[Batch 100/251] Loss: 0.1730, Batch Acc: 0.9375\n",
            "[Batch 110/251] Loss: 0.0815, Batch Acc: 1.0000\n",
            "[Batch 120/251] Loss: 0.2569, Batch Acc: 0.9375\n",
            "[Batch 130/251] Loss: 0.1678, Batch Acc: 0.9375\n",
            "[Batch 140/251] Loss: 0.0337, Batch Acc: 1.0000\n",
            "[Batch 150/251] Loss: 0.1616, Batch Acc: 0.8750\n",
            "[Batch 160/251] Loss: 0.2151, Batch Acc: 0.9375\n",
            "[Batch 170/251] Loss: 0.1263, Batch Acc: 1.0000\n",
            "[Batch 180/251] Loss: 0.1029, Batch Acc: 1.0000\n",
            "[Batch 190/251] Loss: 0.1750, Batch Acc: 0.9375\n",
            "[Batch 200/251] Loss: 0.2599, Batch Acc: 0.8125\n",
            "[Batch 210/251] Loss: 0.1008, Batch Acc: 1.0000\n",
            "[Batch 220/251] Loss: 0.1241, Batch Acc: 1.0000\n",
            "[Batch 230/251] Loss: 0.2371, Batch Acc: 0.8750\n",
            "[Batch 240/251] Loss: 0.1140, Batch Acc: 1.0000\n",
            "[Batch 250/251] Loss: 0.2066, Batch Acc: 0.8750\n",
            "Epoch 10 Summary - Loss: 45.5938, Train Accuracy: 0.9479\n",
            "Validation Accuracy: 0.9407\n"
          ]
        }
      ]
    }
  ],
  "metadata": {
    "colab": {
      "provenance": [],
      "gpuType": "T4",
      "include_colab_link": true
    },
    "kernelspec": {
      "display_name": "Python 3",
      "name": "python3"
    },
    "language_info": {
      "name": "python"
    },
    "accelerator": "GPU"
  },
  "nbformat": 4,
  "nbformat_minor": 0
}