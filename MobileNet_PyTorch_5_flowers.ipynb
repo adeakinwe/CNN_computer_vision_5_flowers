{
  "cells": [
    {
      "cell_type": "markdown",
      "metadata": {
        "id": "view-in-github",
        "colab_type": "text"
      },
      "source": [
        "<a href=\"https://colab.research.google.com/github/adeakinwe/computer_vision/blob/main/MobileNet_PyTorch_5_flowers.ipynb\" target=\"_parent\"><img src=\"https://colab.research.google.com/assets/colab-badge.svg\" alt=\"Open In Colab\"/></a>"
      ]
    },
    {
      "cell_type": "code",
      "source": [
        "from google.colab import drive\n",
        "drive.mount('/content/drive')"
      ],
      "metadata": {
        "colab": {
          "base_uri": "https://localhost:8080/"
        },
        "id": "ekVzSW8Bb_Ze",
        "outputId": "82ec1fed-6043-4325-e9ee-66da34d1e541"
      },
      "execution_count": 1,
      "outputs": [
        {
          "output_type": "stream",
          "name": "stdout",
          "text": [
            "Mounted at /content/drive\n"
          ]
        }
      ]
    },
    {
      "cell_type": "code",
      "source": [
        "import torch\n",
        "import torch.nn as nn\n",
        "import torch.optim as optim\n",
        "import torchvision\n",
        "import torchvision.transforms as transforms\n",
        "from torchvision import datasets, transforms, models\n",
        "from torch.utils.data import DataLoader\n",
        "from torchvision import models\n",
        "from torchsummary import summary\n",
        "import wandb\n",
        "import os"
      ],
      "metadata": {
        "id": "HUjjD6MRYJmr"
      },
      "execution_count": 2,
      "outputs": []
    },
    {
      "cell_type": "code",
      "source": [
        "# =======================\n",
        "# STEP 0: Initialize wandb\n",
        "# =======================\n",
        "wandb.init(project=\"MobileNet-5flowers-Classifier\", config={\n",
        "    \"epochs\": 10,\n",
        "    \"batch_size\": 16,\n",
        "    \"learning_rate\": 0.001,\n",
        "    \"architecture\": \"MobileNet\",\n",
        "    \"pretrained\": True,\n",
        "    \"input_size\": 224\n",
        "})\n",
        "\n",
        "# Shortcut to config values\n",
        "config = wandb.config"
      ],
      "metadata": {
        "colab": {
          "base_uri": "https://localhost:8080/",
          "height": 260
        },
        "id": "zxVl69yfYLO3",
        "outputId": "45ecb9fe-5b9d-460e-b5f4-e091ca805642"
      },
      "execution_count": 3,
      "outputs": [
        {
          "output_type": "display_data",
          "data": {
            "text/plain": [
              "<IPython.core.display.Javascript object>"
            ],
            "application/javascript": [
              "\n",
              "        window._wandbApiKey = new Promise((resolve, reject) => {\n",
              "            function loadScript(url) {\n",
              "            return new Promise(function(resolve, reject) {\n",
              "                let newScript = document.createElement(\"script\");\n",
              "                newScript.onerror = reject;\n",
              "                newScript.onload = resolve;\n",
              "                document.body.appendChild(newScript);\n",
              "                newScript.src = url;\n",
              "            });\n",
              "            }\n",
              "            loadScript(\"https://cdn.jsdelivr.net/npm/postmate/build/postmate.min.js\").then(() => {\n",
              "            const iframe = document.createElement('iframe')\n",
              "            iframe.style.cssText = \"width:0;height:0;border:none\"\n",
              "            document.body.appendChild(iframe)\n",
              "            const handshake = new Postmate({\n",
              "                container: iframe,\n",
              "                url: 'https://wandb.ai/authorize'\n",
              "            });\n",
              "            const timeout = setTimeout(() => reject(\"Couldn't auto authenticate\"), 5000)\n",
              "            handshake.then(function(child) {\n",
              "                child.on('authorize', data => {\n",
              "                    clearTimeout(timeout)\n",
              "                    resolve(data)\n",
              "                });\n",
              "            });\n",
              "            })\n",
              "        });\n",
              "    "
            ]
          },
          "metadata": {}
        },
        {
          "output_type": "stream",
          "name": "stderr",
          "text": [
            "\u001b[34m\u001b[1mwandb\u001b[0m: Logging into wandb.ai. (Learn how to deploy a W&B server locally: https://wandb.me/wandb-server)\n",
            "\u001b[34m\u001b[1mwandb\u001b[0m: You can find your API key in your browser here: https://wandb.ai/authorize?ref=models\n",
            "wandb: Paste an API key from your profile and hit enter:"
          ]
        },
        {
          "name": "stdout",
          "output_type": "stream",
          "text": [
            " ··········\n"
          ]
        },
        {
          "output_type": "stream",
          "name": "stderr",
          "text": [
            "\u001b[34m\u001b[1mwandb\u001b[0m: \u001b[33mWARNING\u001b[0m If you're specifying your api key in code, ensure this code is not shared publicly.\n",
            "\u001b[34m\u001b[1mwandb\u001b[0m: \u001b[33mWARNING\u001b[0m Consider setting the WANDB_API_KEY environment variable, or running `wandb login` from the command line.\n",
            "\u001b[34m\u001b[1mwandb\u001b[0m: No netrc file found, creating one.\n",
            "\u001b[34m\u001b[1mwandb\u001b[0m: Appending key for api.wandb.ai to your netrc file: /root/.netrc\n",
            "\u001b[34m\u001b[1mwandb\u001b[0m: Currently logged in as: \u001b[33madeakinwe\u001b[0m (\u001b[33madeakinwe-richkinwe-io\u001b[0m) to \u001b[32mhttps://api.wandb.ai\u001b[0m. Use \u001b[1m`wandb login --relogin`\u001b[0m to force relogin\n"
          ]
        },
        {
          "output_type": "display_data",
          "data": {
            "text/plain": [
              "<IPython.core.display.HTML object>"
            ],
            "text/html": [
              "Tracking run with wandb version 0.21.0"
            ]
          },
          "metadata": {}
        },
        {
          "output_type": "display_data",
          "data": {
            "text/plain": [
              "<IPython.core.display.HTML object>"
            ],
            "text/html": [
              "Run data is saved locally in <code>/content/wandb/run-20250809_063207-r0nckok5</code>"
            ]
          },
          "metadata": {}
        },
        {
          "output_type": "display_data",
          "data": {
            "text/plain": [
              "<IPython.core.display.HTML object>"
            ],
            "text/html": [
              "Syncing run <strong><a href='https://wandb.ai/adeakinwe-richkinwe-io/MobileNet-5flowers-Classifier/runs/r0nckok5' target=\"_blank\">crimson-star-2</a></strong> to <a href='https://wandb.ai/adeakinwe-richkinwe-io/MobileNet-5flowers-Classifier' target=\"_blank\">Weights & Biases</a> (<a href='https://wandb.me/developer-guide' target=\"_blank\">docs</a>)<br>"
            ]
          },
          "metadata": {}
        },
        {
          "output_type": "display_data",
          "data": {
            "text/plain": [
              "<IPython.core.display.HTML object>"
            ],
            "text/html": [
              " View project at <a href='https://wandb.ai/adeakinwe-richkinwe-io/MobileNet-5flowers-Classifier' target=\"_blank\">https://wandb.ai/adeakinwe-richkinwe-io/MobileNet-5flowers-Classifier</a>"
            ]
          },
          "metadata": {}
        },
        {
          "output_type": "display_data",
          "data": {
            "text/plain": [
              "<IPython.core.display.HTML object>"
            ],
            "text/html": [
              " View run at <a href='https://wandb.ai/adeakinwe-richkinwe-io/MobileNet-5flowers-Classifier/runs/r0nckok5' target=\"_blank\">https://wandb.ai/adeakinwe-richkinwe-io/MobileNet-5flowers-Classifier/runs/r0nckok5</a>"
            ]
          },
          "metadata": {}
        }
      ]
    },
    {
      "cell_type": "code",
      "source": [
        "# =======================\n",
        "# STEP 1: Data Preparation\n",
        "# =======================\n",
        "\n",
        "# Transforms for training and validation\n",
        "data_transforms = {\n",
        "    'train': transforms.Compose([\n",
        "        transforms.Resize((224, 224)),\n",
        "        transforms.RandomHorizontalFlip(),\n",
        "        transforms.ToTensor(),\n",
        "        transforms.Normalize([0.485, 0.456, 0.406],\n",
        "                             [0.229, 0.224, 0.225])\n",
        "    ]),\n",
        "    'val': transforms.Compose([\n",
        "        transforms.Resize((224, 224)),\n",
        "        transforms.ToTensor(),\n",
        "        transforms.Normalize([0.485, 0.456, 0.406],\n",
        "                             [0.229, 0.224, 0.225])\n",
        "    ]),\n",
        "}\n",
        "\n",
        "train_dir = \"/content/drive/MyDrive/5flowersdata/flowers/train\"\n",
        "val_dir = \"/content/drive/MyDrive/5flowersdata/flowers/val\"\n",
        "\n",
        "train_dataset = datasets.ImageFolder(root=train_dir, transform=data_transforms['train'])\n",
        "val_dataset = datasets.ImageFolder(root=val_dir, transform=data_transforms['val'])\n",
        "\n",
        "train_loader = DataLoader(train_dataset, batch_size=config.batch_size, shuffle=True)\n",
        "val_loader = DataLoader(val_dataset, batch_size=config.batch_size)"
      ],
      "metadata": {
        "id": "Ti4rs4tkYMos"
      },
      "execution_count": 4,
      "outputs": []
    },
    {
      "cell_type": "code",
      "source": [
        "# ===========================\n",
        "# STEP 2: Load Pretrained Model\n",
        "# ===========================\n",
        "from torchvision.models import MobileNet_V2_Weights\n",
        "\n",
        "model = models.mobilenet_v2(weights=MobileNet_V2_Weights.DEFAULT)\n",
        "\n",
        "# Change the final conv layer to match 5 flower classes\n",
        "model.classifier[1] = nn.Linear(model.last_channel, 5)\n",
        "\n",
        "# Freeze all layers\n",
        "for param in model.parameters():\n",
        "    param.requires_grad = False\n",
        "\n",
        "# Unfreeze only final conv layer\n",
        "for param in model.classifier[1].parameters():\n",
        "    param.requires_grad = True\n",
        "\n",
        "# Move model to device\n",
        "device = torch.device(\"cuda\" if torch.cuda.is_available() else \"cpu\")\n",
        "model = model.to(device)\n",
        "\n",
        "# Watch the model's weights and gradients\n",
        "wandb.watch(model, log=\"all\", log_freq=10)"
      ],
      "metadata": {
        "id": "Uu1_CDgvYOEW",
        "colab": {
          "base_uri": "https://localhost:8080/"
        },
        "outputId": "21995ef9-8756-486a-c887-caab91e4ccc3"
      },
      "execution_count": 5,
      "outputs": [
        {
          "output_type": "stream",
          "name": "stderr",
          "text": [
            "Downloading: \"https://download.pytorch.org/models/mobilenet_v2-7ebf99e0.pth\" to /root/.cache/torch/hub/checkpoints/mobilenet_v2-7ebf99e0.pth\n",
            "100%|██████████| 13.6M/13.6M [00:00<00:00, 81.7MB/s]\n"
          ]
        }
      ]
    },
    {
      "cell_type": "code",
      "source": [
        "# ===================\n",
        "# STEP 3: Loss & Optimizer\n",
        "# ===================\n",
        "\n",
        "criterion = nn.CrossEntropyLoss()\n",
        "optimizer = optim.Adam(model.parameters(), lr=config.learning_rate)"
      ],
      "metadata": {
        "id": "mxiVbXfxYPiW"
      },
      "execution_count": 6,
      "outputs": []
    },
    {
      "cell_type": "code",
      "execution_count": 7,
      "metadata": {
        "id": "_g-opvZQESck"
      },
      "outputs": [],
      "source": [
        "def train_model(model, criterion, optimizer, train_loader, val_loader, epochs=10):\n",
        "    for epoch in range(epochs):\n",
        "        model.train()\n",
        "        train_correct = 0\n",
        "        train_total = 0\n",
        "        running_loss = 0.0\n",
        "\n",
        "        print(f\"\\nEpoch {epoch + 1}/{epochs}\")\n",
        "        print(\"-\" * 30)\n",
        "\n",
        "        for i, (images, labels) in enumerate(train_loader):\n",
        "            images, labels = images.to(device), labels.to(device)\n",
        "\n",
        "            optimizer.zero_grad()\n",
        "            outputs = model(images)\n",
        "            loss = criterion(outputs, labels)\n",
        "            loss.backward()\n",
        "            optimizer.step()\n",
        "\n",
        "            running_loss += loss.item()\n",
        "            _, preds = torch.max(outputs, 1)\n",
        "            batch_correct = (preds == labels).sum().item()\n",
        "            train_correct += batch_correct\n",
        "            train_total += labels.size(0)\n",
        "\n",
        "            # Print every 10 batches\n",
        "            if (i + 1) % 10 == 0:\n",
        "                batch_acc = batch_correct / labels.size(0)\n",
        "                print(f\"[Batch {i+1}/{len(train_loader)}] Loss: {loss.item():.4f}, Batch Acc: {batch_acc:.4f}\")\n",
        "\n",
        "        train_acc = train_correct / train_total\n",
        "        wandb.log({\"epoch\": epoch + 1, \"train_loss\": running_loss, \"train_accuracy\": train_acc})\n",
        "        print(f\"Epoch {epoch+1} Summary - Loss: {running_loss:.4f}, Train Accuracy: {train_acc:.4f}\")\n",
        "\n",
        "        # Validation\n",
        "        model.eval()\n",
        "        val_correct = 0\n",
        "        val_total = 0\n",
        "        with torch.no_grad():\n",
        "            for images, labels in val_loader:\n",
        "                images, labels = images.to(device), labels.to(device)\n",
        "                outputs = model(images)\n",
        "                _, preds = torch.max(outputs, 1)\n",
        "                val_correct += (preds == labels).sum().item()\n",
        "                val_total += labels.size(0)\n",
        "\n",
        "        val_acc = val_correct / val_total\n",
        "        wandb.log({\"epoch\": epoch + 1, \"val_accuracy\": val_acc})\n",
        "        print(f\"Validation Accuracy: {val_acc:.4f}\")\n"
      ]
    },
    {
      "cell_type": "code",
      "source": [
        "# ===================\n",
        "# Train the model\n",
        "# ===================\n",
        "train_model(model, criterion, optimizer, train_loader, val_loader, epochs=config.epochs)"
      ],
      "metadata": {
        "colab": {
          "base_uri": "https://localhost:8080/"
        },
        "id": "cTczSawNYSrI",
        "outputId": "64f35904-e716-4c7a-e839-bac30f5b5608"
      },
      "execution_count": 8,
      "outputs": [
        {
          "output_type": "stream",
          "name": "stdout",
          "text": [
            "\n",
            "Epoch 1/10\n",
            "------------------------------\n",
            "[Batch 10/251] Loss: 1.4975, Batch Acc: 0.4375\n",
            "[Batch 20/251] Loss: 1.2354, Batch Acc: 0.5000\n",
            "[Batch 30/251] Loss: 1.0661, Batch Acc: 0.7500\n",
            "[Batch 40/251] Loss: 1.0859, Batch Acc: 0.8125\n",
            "[Batch 50/251] Loss: 0.9656, Batch Acc: 0.7500\n",
            "[Batch 60/251] Loss: 0.7918, Batch Acc: 0.7500\n",
            "[Batch 70/251] Loss: 1.0748, Batch Acc: 0.6250\n",
            "[Batch 80/251] Loss: 0.5678, Batch Acc: 1.0000\n",
            "[Batch 90/251] Loss: 1.2821, Batch Acc: 0.5625\n",
            "[Batch 100/251] Loss: 0.7194, Batch Acc: 0.8125\n",
            "[Batch 110/251] Loss: 0.6123, Batch Acc: 0.8750\n",
            "[Batch 120/251] Loss: 0.8114, Batch Acc: 0.6875\n",
            "[Batch 130/251] Loss: 0.7395, Batch Acc: 0.6875\n",
            "[Batch 140/251] Loss: 0.6331, Batch Acc: 0.8750\n",
            "[Batch 150/251] Loss: 0.5688, Batch Acc: 0.8750\n",
            "[Batch 160/251] Loss: 0.5154, Batch Acc: 0.9375\n",
            "[Batch 170/251] Loss: 0.6613, Batch Acc: 0.8125\n",
            "[Batch 180/251] Loss: 0.5156, Batch Acc: 0.8750\n",
            "[Batch 190/251] Loss: 0.6512, Batch Acc: 0.8125\n",
            "[Batch 200/251] Loss: 0.7676, Batch Acc: 0.6250\n",
            "[Batch 210/251] Loss: 0.3235, Batch Acc: 0.9375\n",
            "[Batch 220/251] Loss: 0.4271, Batch Acc: 0.9375\n",
            "[Batch 230/251] Loss: 0.4488, Batch Acc: 0.9375\n",
            "[Batch 240/251] Loss: 0.4012, Batch Acc: 1.0000\n",
            "[Batch 250/251] Loss: 0.7059, Batch Acc: 0.6250\n",
            "Epoch 1 Summary - Loss: 202.0589, Train Accuracy: 0.7493\n",
            "Validation Accuracy: 0.8625\n",
            "\n",
            "Epoch 2/10\n",
            "------------------------------\n",
            "[Batch 10/251] Loss: 0.4005, Batch Acc: 0.8750\n",
            "[Batch 20/251] Loss: 0.4992, Batch Acc: 0.8750\n",
            "[Batch 30/251] Loss: 0.4480, Batch Acc: 0.8750\n",
            "[Batch 40/251] Loss: 0.3848, Batch Acc: 0.8125\n",
            "[Batch 50/251] Loss: 0.2794, Batch Acc: 0.9375\n",
            "[Batch 60/251] Loss: 0.4338, Batch Acc: 0.8750\n",
            "[Batch 70/251] Loss: 0.3913, Batch Acc: 1.0000\n",
            "[Batch 80/251] Loss: 0.4261, Batch Acc: 0.8750\n",
            "[Batch 90/251] Loss: 0.3934, Batch Acc: 0.8750\n",
            "[Batch 100/251] Loss: 0.6401, Batch Acc: 0.8125\n",
            "[Batch 110/251] Loss: 0.8071, Batch Acc: 0.7500\n",
            "[Batch 120/251] Loss: 0.3559, Batch Acc: 0.8750\n",
            "[Batch 130/251] Loss: 0.4363, Batch Acc: 0.8125\n",
            "[Batch 140/251] Loss: 0.4152, Batch Acc: 0.8750\n",
            "[Batch 150/251] Loss: 0.4105, Batch Acc: 0.9375\n",
            "[Batch 160/251] Loss: 0.3984, Batch Acc: 0.9375\n",
            "[Batch 170/251] Loss: 0.3801, Batch Acc: 0.9375\n",
            "[Batch 180/251] Loss: 0.5078, Batch Acc: 0.8125\n",
            "[Batch 190/251] Loss: 0.4784, Batch Acc: 0.7500\n",
            "[Batch 200/251] Loss: 0.2364, Batch Acc: 0.9375\n",
            "[Batch 210/251] Loss: 0.3787, Batch Acc: 0.8750\n",
            "[Batch 220/251] Loss: 0.7658, Batch Acc: 0.7500\n",
            "[Batch 230/251] Loss: 0.7416, Batch Acc: 0.6875\n",
            "[Batch 240/251] Loss: 0.8500, Batch Acc: 0.6875\n",
            "[Batch 250/251] Loss: 0.1915, Batch Acc: 1.0000\n",
            "Epoch 2 Summary - Loss: 124.3192, Train Accuracy: 0.8436\n",
            "Validation Accuracy: 0.8744\n",
            "\n",
            "Epoch 3/10\n",
            "------------------------------\n",
            "[Batch 10/251] Loss: 0.2912, Batch Acc: 0.9375\n",
            "[Batch 20/251] Loss: 0.6022, Batch Acc: 0.8750\n",
            "[Batch 30/251] Loss: 0.3798, Batch Acc: 0.9375\n",
            "[Batch 40/251] Loss: 0.5927, Batch Acc: 0.7500\n",
            "[Batch 50/251] Loss: 0.5245, Batch Acc: 0.8125\n",
            "[Batch 60/251] Loss: 0.1882, Batch Acc: 1.0000\n",
            "[Batch 70/251] Loss: 0.6582, Batch Acc: 0.8125\n",
            "[Batch 80/251] Loss: 0.1629, Batch Acc: 1.0000\n",
            "[Batch 90/251] Loss: 0.2666, Batch Acc: 0.9375\n",
            "[Batch 100/251] Loss: 0.5896, Batch Acc: 0.8125\n",
            "[Batch 110/251] Loss: 0.5555, Batch Acc: 0.8125\n",
            "[Batch 120/251] Loss: 0.5252, Batch Acc: 0.8750\n",
            "[Batch 130/251] Loss: 0.4937, Batch Acc: 0.8750\n",
            "[Batch 140/251] Loss: 0.3355, Batch Acc: 0.8750\n",
            "[Batch 150/251] Loss: 0.3702, Batch Acc: 0.9375\n",
            "[Batch 160/251] Loss: 0.5069, Batch Acc: 0.7500\n",
            "[Batch 170/251] Loss: 0.5138, Batch Acc: 0.8750\n",
            "[Batch 180/251] Loss: 0.4232, Batch Acc: 0.9375\n",
            "[Batch 190/251] Loss: 0.4405, Batch Acc: 0.9375\n",
            "[Batch 200/251] Loss: 0.5951, Batch Acc: 0.8125\n",
            "[Batch 210/251] Loss: 0.2122, Batch Acc: 1.0000\n",
            "[Batch 220/251] Loss: 0.5635, Batch Acc: 0.8125\n",
            "[Batch 230/251] Loss: 0.2701, Batch Acc: 1.0000\n",
            "[Batch 240/251] Loss: 0.2197, Batch Acc: 1.0000\n",
            "[Batch 250/251] Loss: 0.6202, Batch Acc: 0.8125\n",
            "Epoch 3 Summary - Loss: 105.9338, Train Accuracy: 0.8648\n",
            "Validation Accuracy: 0.8734\n",
            "\n",
            "Epoch 4/10\n",
            "------------------------------\n",
            "[Batch 10/251] Loss: 0.2814, Batch Acc: 0.9375\n",
            "[Batch 20/251] Loss: 0.3486, Batch Acc: 0.9375\n",
            "[Batch 30/251] Loss: 0.3407, Batch Acc: 0.8750\n",
            "[Batch 40/251] Loss: 0.3488, Batch Acc: 0.9375\n",
            "[Batch 50/251] Loss: 0.4808, Batch Acc: 0.8125\n",
            "[Batch 60/251] Loss: 0.6850, Batch Acc: 0.6875\n",
            "[Batch 70/251] Loss: 0.1065, Batch Acc: 1.0000\n",
            "[Batch 80/251] Loss: 0.3359, Batch Acc: 0.9375\n",
            "[Batch 90/251] Loss: 0.3776, Batch Acc: 0.8125\n",
            "[Batch 100/251] Loss: 0.3929, Batch Acc: 0.8125\n",
            "[Batch 110/251] Loss: 0.3297, Batch Acc: 0.8125\n",
            "[Batch 120/251] Loss: 0.2642, Batch Acc: 0.9375\n",
            "[Batch 130/251] Loss: 0.2758, Batch Acc: 0.9375\n",
            "[Batch 140/251] Loss: 0.5770, Batch Acc: 0.7500\n",
            "[Batch 150/251] Loss: 0.5218, Batch Acc: 0.8750\n",
            "[Batch 160/251] Loss: 0.6386, Batch Acc: 0.7500\n",
            "[Batch 170/251] Loss: 0.2857, Batch Acc: 0.9375\n",
            "[Batch 180/251] Loss: 0.7453, Batch Acc: 0.6250\n",
            "[Batch 190/251] Loss: 0.2075, Batch Acc: 1.0000\n",
            "[Batch 200/251] Loss: 0.1671, Batch Acc: 0.9375\n",
            "[Batch 210/251] Loss: 0.2882, Batch Acc: 0.8750\n",
            "[Batch 220/251] Loss: 0.2904, Batch Acc: 0.9375\n",
            "[Batch 230/251] Loss: 0.4641, Batch Acc: 0.8125\n",
            "[Batch 240/251] Loss: 0.4332, Batch Acc: 0.8125\n",
            "[Batch 250/251] Loss: 0.3243, Batch Acc: 0.8750\n",
            "Epoch 4 Summary - Loss: 97.3719, Train Accuracy: 0.8653\n",
            "Validation Accuracy: 0.8813\n",
            "\n",
            "Epoch 5/10\n",
            "------------------------------\n",
            "[Batch 10/251] Loss: 0.2967, Batch Acc: 1.0000\n",
            "[Batch 20/251] Loss: 0.1577, Batch Acc: 1.0000\n",
            "[Batch 30/251] Loss: 0.4533, Batch Acc: 0.7500\n",
            "[Batch 40/251] Loss: 0.3379, Batch Acc: 0.8125\n",
            "[Batch 50/251] Loss: 0.4805, Batch Acc: 0.7500\n",
            "[Batch 60/251] Loss: 0.1753, Batch Acc: 1.0000\n",
            "[Batch 70/251] Loss: 0.1692, Batch Acc: 0.9375\n",
            "[Batch 80/251] Loss: 0.1595, Batch Acc: 0.9375\n",
            "[Batch 90/251] Loss: 0.3504, Batch Acc: 0.9375\n",
            "[Batch 100/251] Loss: 0.3286, Batch Acc: 0.8750\n",
            "[Batch 110/251] Loss: 0.2796, Batch Acc: 0.9375\n",
            "[Batch 120/251] Loss: 0.2575, Batch Acc: 0.8750\n",
            "[Batch 130/251] Loss: 0.5365, Batch Acc: 0.8125\n",
            "[Batch 140/251] Loss: 0.2820, Batch Acc: 0.8750\n",
            "[Batch 150/251] Loss: 0.6203, Batch Acc: 0.6875\n",
            "[Batch 160/251] Loss: 0.6532, Batch Acc: 0.7500\n",
            "[Batch 170/251] Loss: 0.1354, Batch Acc: 1.0000\n",
            "[Batch 180/251] Loss: 0.4135, Batch Acc: 0.8750\n",
            "[Batch 190/251] Loss: 0.2499, Batch Acc: 0.8750\n",
            "[Batch 200/251] Loss: 0.3669, Batch Acc: 0.9375\n",
            "[Batch 210/251] Loss: 0.5634, Batch Acc: 0.8125\n",
            "[Batch 220/251] Loss: 0.4586, Batch Acc: 0.8125\n",
            "[Batch 230/251] Loss: 0.5663, Batch Acc: 0.8125\n",
            "[Batch 240/251] Loss: 0.3286, Batch Acc: 0.9375\n",
            "[Batch 250/251] Loss: 0.2822, Batch Acc: 0.8750\n",
            "Epoch 5 Summary - Loss: 96.7055, Train Accuracy: 0.8645\n",
            "Validation Accuracy: 0.8853\n",
            "\n",
            "Epoch 6/10\n",
            "------------------------------\n",
            "[Batch 10/251] Loss: 0.5572, Batch Acc: 0.6875\n",
            "[Batch 20/251] Loss: 0.4071, Batch Acc: 0.8750\n",
            "[Batch 30/251] Loss: 0.3123, Batch Acc: 0.8125\n",
            "[Batch 40/251] Loss: 0.1069, Batch Acc: 1.0000\n",
            "[Batch 50/251] Loss: 0.0707, Batch Acc: 1.0000\n",
            "[Batch 60/251] Loss: 0.2591, Batch Acc: 0.9375\n",
            "[Batch 70/251] Loss: 0.1599, Batch Acc: 1.0000\n",
            "[Batch 80/251] Loss: 0.2201, Batch Acc: 0.9375\n",
            "[Batch 90/251] Loss: 0.5038, Batch Acc: 0.7500\n",
            "[Batch 100/251] Loss: 0.2273, Batch Acc: 0.9375\n",
            "[Batch 110/251] Loss: 0.5265, Batch Acc: 0.8125\n",
            "[Batch 120/251] Loss: 0.3250, Batch Acc: 0.8750\n",
            "[Batch 130/251] Loss: 0.2274, Batch Acc: 0.8750\n",
            "[Batch 140/251] Loss: 0.7481, Batch Acc: 0.7500\n",
            "[Batch 150/251] Loss: 0.4617, Batch Acc: 0.8125\n",
            "[Batch 160/251] Loss: 0.3315, Batch Acc: 0.8750\n",
            "[Batch 170/251] Loss: 0.1940, Batch Acc: 0.9375\n",
            "[Batch 180/251] Loss: 0.2258, Batch Acc: 0.9375\n",
            "[Batch 190/251] Loss: 0.5384, Batch Acc: 0.8125\n",
            "[Batch 200/251] Loss: 0.5144, Batch Acc: 0.8125\n",
            "[Batch 210/251] Loss: 0.6301, Batch Acc: 0.6875\n",
            "[Batch 220/251] Loss: 0.2798, Batch Acc: 0.8750\n",
            "[Batch 230/251] Loss: 0.4378, Batch Acc: 0.8750\n",
            "[Batch 240/251] Loss: 0.3891, Batch Acc: 0.8125\n",
            "[Batch 250/251] Loss: 0.1240, Batch Acc: 0.9375\n",
            "Epoch 6 Summary - Loss: 91.8447, Train Accuracy: 0.8715\n",
            "Validation Accuracy: 0.8932\n",
            "\n",
            "Epoch 7/10\n",
            "------------------------------\n",
            "[Batch 10/251] Loss: 0.1886, Batch Acc: 0.9375\n",
            "[Batch 20/251] Loss: 0.3688, Batch Acc: 0.8750\n",
            "[Batch 30/251] Loss: 0.2854, Batch Acc: 0.9375\n",
            "[Batch 40/251] Loss: 0.6020, Batch Acc: 0.8750\n",
            "[Batch 50/251] Loss: 0.1535, Batch Acc: 0.9375\n",
            "[Batch 60/251] Loss: 0.1580, Batch Acc: 0.9375\n",
            "[Batch 70/251] Loss: 0.7064, Batch Acc: 0.6875\n",
            "[Batch 80/251] Loss: 0.2795, Batch Acc: 0.9375\n",
            "[Batch 90/251] Loss: 0.4184, Batch Acc: 0.8125\n",
            "[Batch 100/251] Loss: 0.4001, Batch Acc: 0.8750\n",
            "[Batch 110/251] Loss: 0.2540, Batch Acc: 0.8750\n",
            "[Batch 120/251] Loss: 0.4218, Batch Acc: 0.8125\n",
            "[Batch 130/251] Loss: 0.1829, Batch Acc: 0.9375\n",
            "[Batch 140/251] Loss: 0.2824, Batch Acc: 0.8750\n",
            "[Batch 150/251] Loss: 0.3987, Batch Acc: 0.9375\n",
            "[Batch 160/251] Loss: 0.3371, Batch Acc: 0.8750\n",
            "[Batch 170/251] Loss: 0.3013, Batch Acc: 0.8750\n",
            "[Batch 180/251] Loss: 0.1442, Batch Acc: 1.0000\n",
            "[Batch 190/251] Loss: 0.3380, Batch Acc: 0.9375\n",
            "[Batch 200/251] Loss: 0.2911, Batch Acc: 0.8750\n",
            "[Batch 210/251] Loss: 0.6087, Batch Acc: 0.8125\n",
            "[Batch 220/251] Loss: 0.3011, Batch Acc: 0.8750\n",
            "[Batch 230/251] Loss: 0.1904, Batch Acc: 1.0000\n",
            "[Batch 240/251] Loss: 0.2924, Batch Acc: 0.9375\n",
            "[Batch 250/251] Loss: 0.2690, Batch Acc: 0.8750\n",
            "Epoch 7 Summary - Loss: 88.7860, Train Accuracy: 0.8757\n",
            "Validation Accuracy: 0.8823\n",
            "\n",
            "Epoch 8/10\n",
            "------------------------------\n",
            "[Batch 10/251] Loss: 0.2627, Batch Acc: 0.9375\n",
            "[Batch 20/251] Loss: 0.1771, Batch Acc: 1.0000\n",
            "[Batch 30/251] Loss: 0.2899, Batch Acc: 0.8750\n",
            "[Batch 40/251] Loss: 0.1616, Batch Acc: 1.0000\n",
            "[Batch 50/251] Loss: 0.2329, Batch Acc: 0.9375\n",
            "[Batch 60/251] Loss: 0.2369, Batch Acc: 0.9375\n",
            "[Batch 70/251] Loss: 0.1279, Batch Acc: 1.0000\n",
            "[Batch 80/251] Loss: 0.2738, Batch Acc: 0.9375\n",
            "[Batch 90/251] Loss: 0.2073, Batch Acc: 1.0000\n",
            "[Batch 100/251] Loss: 0.3197, Batch Acc: 0.8750\n",
            "[Batch 110/251] Loss: 0.4135, Batch Acc: 0.8750\n",
            "[Batch 120/251] Loss: 0.2903, Batch Acc: 0.8750\n",
            "[Batch 130/251] Loss: 0.3749, Batch Acc: 0.8125\n",
            "[Batch 140/251] Loss: 0.2358, Batch Acc: 0.9375\n",
            "[Batch 150/251] Loss: 0.3026, Batch Acc: 0.8750\n",
            "[Batch 160/251] Loss: 0.1636, Batch Acc: 1.0000\n",
            "[Batch 170/251] Loss: 0.1833, Batch Acc: 0.9375\n",
            "[Batch 180/251] Loss: 0.1033, Batch Acc: 1.0000\n",
            "[Batch 190/251] Loss: 0.4049, Batch Acc: 0.8750\n",
            "[Batch 200/251] Loss: 0.1539, Batch Acc: 0.9375\n",
            "[Batch 210/251] Loss: 0.2054, Batch Acc: 0.9375\n",
            "[Batch 220/251] Loss: 0.6069, Batch Acc: 0.7500\n",
            "[Batch 230/251] Loss: 0.3268, Batch Acc: 0.8750\n",
            "[Batch 240/251] Loss: 0.2655, Batch Acc: 0.9375\n",
            "[Batch 250/251] Loss: 0.5162, Batch Acc: 0.7500\n",
            "Epoch 8 Summary - Loss: 85.3286, Train Accuracy: 0.8845\n",
            "Validation Accuracy: 0.8724\n",
            "\n",
            "Epoch 9/10\n",
            "------------------------------\n",
            "[Batch 10/251] Loss: 0.4125, Batch Acc: 0.8750\n",
            "[Batch 20/251] Loss: 0.4756, Batch Acc: 0.7500\n",
            "[Batch 30/251] Loss: 0.2810, Batch Acc: 0.9375\n",
            "[Batch 40/251] Loss: 0.2934, Batch Acc: 0.9375\n",
            "[Batch 50/251] Loss: 0.5015, Batch Acc: 0.7500\n",
            "[Batch 60/251] Loss: 0.4028, Batch Acc: 0.7500\n",
            "[Batch 70/251] Loss: 0.5235, Batch Acc: 0.8125\n",
            "[Batch 80/251] Loss: 0.2546, Batch Acc: 0.9375\n",
            "[Batch 90/251] Loss: 0.5346, Batch Acc: 0.7500\n",
            "[Batch 100/251] Loss: 0.1741, Batch Acc: 0.9375\n",
            "[Batch 110/251] Loss: 0.2438, Batch Acc: 0.9375\n",
            "[Batch 120/251] Loss: 0.2705, Batch Acc: 0.9375\n",
            "[Batch 130/251] Loss: 0.4732, Batch Acc: 0.8125\n",
            "[Batch 140/251] Loss: 0.2025, Batch Acc: 0.8750\n",
            "[Batch 150/251] Loss: 0.2030, Batch Acc: 0.9375\n",
            "[Batch 160/251] Loss: 0.5173, Batch Acc: 0.8750\n",
            "[Batch 170/251] Loss: 0.2552, Batch Acc: 0.8750\n",
            "[Batch 180/251] Loss: 0.1417, Batch Acc: 1.0000\n",
            "[Batch 190/251] Loss: 0.3043, Batch Acc: 0.9375\n",
            "[Batch 200/251] Loss: 0.4777, Batch Acc: 0.8125\n",
            "[Batch 210/251] Loss: 0.6851, Batch Acc: 0.7500\n",
            "[Batch 220/251] Loss: 0.1996, Batch Acc: 0.9375\n",
            "[Batch 230/251] Loss: 0.2698, Batch Acc: 0.9375\n",
            "[Batch 240/251] Loss: 0.3303, Batch Acc: 0.8125\n",
            "[Batch 250/251] Loss: 0.3768, Batch Acc: 0.8125\n",
            "Epoch 9 Summary - Loss: 80.5870, Train Accuracy: 0.8887\n",
            "Validation Accuracy: 0.8803\n",
            "\n",
            "Epoch 10/10\n",
            "------------------------------\n",
            "[Batch 10/251] Loss: 0.2388, Batch Acc: 0.8750\n",
            "[Batch 20/251] Loss: 0.2803, Batch Acc: 0.8750\n",
            "[Batch 30/251] Loss: 0.6635, Batch Acc: 0.8125\n",
            "[Batch 40/251] Loss: 0.2004, Batch Acc: 0.9375\n",
            "[Batch 50/251] Loss: 0.2703, Batch Acc: 0.8750\n",
            "[Batch 60/251] Loss: 0.7590, Batch Acc: 0.6875\n",
            "[Batch 70/251] Loss: 0.1673, Batch Acc: 0.8750\n",
            "[Batch 80/251] Loss: 0.4308, Batch Acc: 0.8750\n",
            "[Batch 90/251] Loss: 0.2659, Batch Acc: 0.9375\n",
            "[Batch 100/251] Loss: 0.3142, Batch Acc: 0.8750\n",
            "[Batch 110/251] Loss: 0.2987, Batch Acc: 0.9375\n",
            "[Batch 120/251] Loss: 0.2744, Batch Acc: 0.9375\n",
            "[Batch 130/251] Loss: 0.2621, Batch Acc: 0.8750\n",
            "[Batch 140/251] Loss: 0.2595, Batch Acc: 0.8750\n",
            "[Batch 150/251] Loss: 0.5260, Batch Acc: 0.8125\n",
            "[Batch 160/251] Loss: 0.1998, Batch Acc: 0.9375\n",
            "[Batch 170/251] Loss: 0.3990, Batch Acc: 0.8750\n",
            "[Batch 180/251] Loss: 0.2494, Batch Acc: 0.8750\n",
            "[Batch 190/251] Loss: 0.1826, Batch Acc: 0.9375\n",
            "[Batch 200/251] Loss: 0.4750, Batch Acc: 0.8125\n",
            "[Batch 210/251] Loss: 0.0791, Batch Acc: 1.0000\n",
            "[Batch 220/251] Loss: 0.1111, Batch Acc: 1.0000\n",
            "[Batch 230/251] Loss: 0.6268, Batch Acc: 0.8750\n",
            "[Batch 240/251] Loss: 0.4957, Batch Acc: 0.7500\n",
            "[Batch 250/251] Loss: 0.3330, Batch Acc: 0.8750\n",
            "Epoch 10 Summary - Loss: 79.7488, Train Accuracy: 0.8880\n",
            "Validation Accuracy: 0.8922\n"
          ]
        }
      ]
    }
  ],
  "metadata": {
    "colab": {
      "provenance": [],
      "gpuType": "T4",
      "include_colab_link": true
    },
    "kernelspec": {
      "display_name": "Python 3",
      "name": "python3"
    },
    "language_info": {
      "name": "python"
    },
    "accelerator": "GPU"
  },
  "nbformat": 4,
  "nbformat_minor": 0
}