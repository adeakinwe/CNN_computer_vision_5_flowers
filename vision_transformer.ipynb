{
  "nbformat": 4,
  "nbformat_minor": 0,
  "metadata": {
    "colab": {
      "provenance": [],
      "authorship_tag": "ABX9TyOS1KDXftraBKA3mdKNT9xn",
      "include_colab_link": true
    },
    "kernelspec": {
      "name": "python3",
      "display_name": "Python 3"
    },
    "language_info": {
      "name": "python"
    }
  },
  "cells": [
    {
      "cell_type": "markdown",
      "metadata": {
        "id": "view-in-github",
        "colab_type": "text"
      },
      "source": [
        "<a href=\"https://colab.research.google.com/github/adeakinwe/CNN_computer_vision_5_flowers/blob/main/vision_transformer.ipynb\" target=\"_parent\"><img src=\"https://colab.research.google.com/assets/colab-badge.svg\" alt=\"Open In Colab\"/></a>"
      ]
    },
    {
      "cell_type": "code",
      "execution_count": 1,
      "metadata": {
        "id": "YR5LcvPQ2lss"
      },
      "outputs": [],
      "source": [
        "#import libraries\n",
        "import torch\n",
        "import torchvision\n",
        "import torchvision.transforms as transforms\n",
        "import matplotlib.pyplot as plt\n",
        "import numpy as np\n",
        "import torch.nn as nn"
      ]
    },
    {
      "cell_type": "code",
      "source": [
        "#variables\n",
        "batch_size = 64\n",
        "img_size = 28\n",
        "patch_size = 7\n",
        "num_channels = 1\n",
        "num_patches = (img_size // patch_size) ** 2\n",
        "num_heads = 1\n",
        "embed_dim = 16\n",
        "mlp_dim = 16\n",
        "transformer_units = 1"
      ],
      "metadata": {
        "id": "P2pfvo8t3y7k"
      },
      "execution_count": 2,
      "outputs": []
    },
    {
      "cell_type": "code",
      "source": [
        "#Python image library (PIL) to tensor\n",
        "transform = transforms.Compose(\n",
        "    [transforms.ToTensor()])"
      ],
      "metadata": {
        "id": "PJ3t_N-94F19"
      },
      "execution_count": 3,
      "outputs": []
    },
    {
      "cell_type": "code",
      "source": [
        "#load dataset\n",
        "trainset = torchvision.datasets.MNIST(root='./data', train=True,\n",
        "                                        download=True, transform=transform)\n",
        "valset = torchvision.datasets.MNIST(root='./data', train=False,\n",
        "                                        download=True, transform=transform)"
      ],
      "metadata": {
        "colab": {
          "base_uri": "https://localhost:8080/"
        },
        "id": "KvujYasy4Koo",
        "outputId": "b5248bf9-ae0b-4f69-e871-c6d40a4b9b74"
      },
      "execution_count": 4,
      "outputs": [
        {
          "output_type": "stream",
          "name": "stderr",
          "text": [
            "100%|██████████| 9.91M/9.91M [00:00<00:00, 40.4MB/s]\n",
            "100%|██████████| 28.9k/28.9k [00:00<00:00, 1.13MB/s]\n",
            "100%|██████████| 1.65M/1.65M [00:00<00:00, 10.1MB/s]\n",
            "100%|██████████| 4.54k/4.54k [00:00<00:00, 10.6MB/s]\n"
          ]
        }
      ]
    },
    {
      "cell_type": "code",
      "source": [
        "#create train and val batches\n",
        "train_data = torch.utils.data.DataLoader(trainset, batch_size=batch_size,\n",
        "                                          shuffle=True)\n",
        "val_data = torch.utils.data.DataLoader(valset, batch_size=batch_size,\n",
        "                                          shuffle=False)"
      ],
      "metadata": {
        "id": "46bUBNpe4ud0"
      },
      "execution_count": 5,
      "outputs": []
    },
    {
      "cell_type": "code",
      "source": [
        "class PatchEmbedding(nn.Module):\n",
        "    def __init__(self):\n",
        "        super().__init__()\n",
        "        self.patch_embed = nn.Conv2d(num_channels, embed_dim, kernel_size=patch_size, stride=patch_size)\n",
        "\n",
        "    def forward(self, x):\n",
        "        x = self.patch_embed(x)\n",
        "        x = x.flatten(2)\n",
        "        x = x.transpose(1,2)\n",
        "        return x"
      ],
      "metadata": {
        "id": "6wSXqGUr4_xn"
      },
      "execution_count": 6,
      "outputs": []
    },
    {
      "cell_type": "code",
      "source": [
        "class TransformerArchitecture(nn.Module):\n",
        "    def __init__(self):\n",
        "        super().__init__()\n",
        "        self.layer_norm_1 = nn.LayerNorm(embed_dim)\n",
        "        self.self_attention = nn.MultiheadAttention(embed_dim, num_heads, batch_first=True)\n",
        "        self.layer_norm_2 = nn.LayerNorm(embed_dim)\n",
        "        self.multi_layer_perceptron = nn.Sequential(\n",
        "            nn.Linear(embed_dim, mlp_dim),\n",
        "            nn.GELU(),\n",
        "            nn.Linear(mlp_dim, embed_dim)\n",
        "        )\n",
        "\n",
        "    def forward(self, x):\n",
        "        residual_1 = x\n",
        "        attention_output = self.self_attention(self.layer_norm_1(x),self.layer_norm_1(x),self.layer_norm_1(x))[0]\n",
        "        x = attention_output + residual_1\n",
        "        residual_2 = x\n",
        "        mlp_output = self.multi_layer_perceptron(self.layer_norm_2(x))\n",
        "        x = mlp_output + residual_2\n",
        "        return x"
      ],
      "metadata": {
        "id": "SaO1gWSB5EY2"
      },
      "execution_count": 7,
      "outputs": []
    },
    {
      "cell_type": "code",
      "source": [
        "class VisionTransformer(nn.Module):\n",
        "    def __init__(self):\n",
        "        super().__init__()\n",
        "        self.patch_embedding = PatchEmbedding()\n",
        "        self.cls_token = nn.Parameter(torch.randn(1,1,embed_dim))\n",
        "        self.pos_embed = nn.Parameter(torch.randn(1, (img_size // patch_size) ** 2 + 1, embed_dim))\n",
        "        self.transformer_layers = nn.Sequential(*[TransformerArchitecture() for _ in range(transformer_units)])\n",
        "\n",
        "        self.mlp_head = nn.Sequential(\n",
        "            nn.LayerNorm(embed_dim),\n",
        "            nn.Linear(embed_dim, 10)\n",
        "        )\n",
        "\n",
        "    def forward(self,x):\n",
        "        x = self.patch_embedding(x)\n",
        "        B = x.size(0)\n",
        "\n",
        "        cls_tokens = self.cls_token.expand(B , -1, -1)\n",
        "        x = torch.cat((cls_tokens, x), dim=1)\n",
        "        x = x + self.pos_embed\n",
        "        x = self.transformer_layers(x)\n",
        "        x = x[:,0]\n",
        "        x = self.mlp_head(x)\n",
        "        return x"
      ],
      "metadata": {
        "id": "p7wbbe3C5On4"
      },
      "execution_count": 8,
      "outputs": []
    },
    {
      "cell_type": "code",
      "source": [
        "device = torch.device(\"cuda\" if torch.cuda.is_available() else \"cpu\")\n",
        "model = VisionTransformer().to(device)\n",
        "optimizer = torch.optim.Adam(model.parameters(), lr=0.01)\n",
        "criterion = nn.CrossEntropyLoss()"
      ],
      "metadata": {
        "id": "3AQqW55A5T4e"
      },
      "execution_count": 9,
      "outputs": []
    },
    {
      "cell_type": "code",
      "source": [
        "for epoch in range(5):\n",
        "    model.train()\n",
        "    total_loss = 0\n",
        "    correct_epoch = 0\n",
        "    total_epoch = 0\n",
        "    print(f\"\\nEpoch {epoch+1}\")\n",
        "\n",
        "    for batch_idx, (images, labels) in enumerate(train_data):\n",
        "        images, labels = images.to(device), labels.to(device)\n",
        "        optimizer.zero_grad()\n",
        "        outputs = model(images)\n",
        "\n",
        "        loss = criterion(outputs, labels)\n",
        "        loss.backward()\n",
        "        optimizer.step()\n",
        "\n",
        "        total_loss+=loss.item()\n",
        "        preds = outputs.argmax(dim=1)\n",
        "\n",
        "        correct = (preds == labels).sum().item()\n",
        "        accuracy = 100.0 * correct / labels.size(0)\n",
        "\n",
        "        correct_epoch += correct\n",
        "        total_epoch += labels.size(0)\n",
        "\n",
        "        if batch_idx % 100 == 0:\n",
        "            print(f\"  Batch {batch_idx+1:3d}: Loss = {loss.item():.4f}, Accuracy = {accuracy:.2f}%\")\n",
        "\n",
        "    epoch_acc = 100.0 * correct_epoch / total_epoch\n",
        "    print(f\"==> Epoch {epoch+1} Summary: Total Loss = {total_loss:.4f}, Accuracy = {epoch_acc:.2f}%\")"
      ],
      "metadata": {
        "colab": {
          "base_uri": "https://localhost:8080/"
        },
        "id": "0aGYlICN5YyC",
        "outputId": "151b87c2-7bdf-4a7e-c413-76a458df81dd"
      },
      "execution_count": 10,
      "outputs": [
        {
          "output_type": "stream",
          "name": "stdout",
          "text": [
            "\n",
            "Epoch 1\n",
            "  Batch   1: Loss = 2.4228, Accuracy = 4.69%\n",
            "  Batch 101: Loss = 1.2341, Accuracy = 54.69%\n",
            "  Batch 201: Loss = 0.9134, Accuracy = 67.19%\n",
            "  Batch 301: Loss = 1.1334, Accuracy = 67.19%\n",
            "  Batch 401: Loss = 1.0029, Accuracy = 68.75%\n",
            "  Batch 501: Loss = 0.6484, Accuracy = 76.56%\n",
            "  Batch 601: Loss = 0.8993, Accuracy = 70.31%\n",
            "  Batch 701: Loss = 0.6829, Accuracy = 71.88%\n",
            "  Batch 801: Loss = 0.5699, Accuracy = 81.25%\n",
            "  Batch 901: Loss = 0.6536, Accuracy = 73.44%\n",
            "==> Epoch 1 Summary: Total Loss = 849.4627, Accuracy = 69.71%\n",
            "\n",
            "Epoch 2\n",
            "  Batch   1: Loss = 0.5769, Accuracy = 82.81%\n",
            "  Batch 101: Loss = 0.7836, Accuracy = 73.44%\n",
            "  Batch 201: Loss = 0.6583, Accuracy = 79.69%\n",
            "  Batch 301: Loss = 0.6243, Accuracy = 79.69%\n",
            "  Batch 401: Loss = 0.3544, Accuracy = 90.62%\n",
            "  Batch 501: Loss = 0.5518, Accuracy = 89.06%\n",
            "  Batch 601: Loss = 0.3616, Accuracy = 92.19%\n",
            "  Batch 701: Loss = 0.5522, Accuracy = 79.69%\n",
            "  Batch 801: Loss = 0.4052, Accuracy = 82.81%\n",
            "  Batch 901: Loss = 0.5062, Accuracy = 89.06%\n",
            "==> Epoch 2 Summary: Total Loss = 473.2256, Accuracy = 83.80%\n",
            "\n",
            "Epoch 3\n",
            "  Batch   1: Loss = 0.4625, Accuracy = 84.38%\n",
            "  Batch 101: Loss = 0.4264, Accuracy = 84.38%\n",
            "  Batch 201: Loss = 0.4968, Accuracy = 84.38%\n",
            "  Batch 301: Loss = 0.4458, Accuracy = 87.50%\n",
            "  Batch 401: Loss = 0.4051, Accuracy = 84.38%\n",
            "  Batch 501: Loss = 0.4209, Accuracy = 90.62%\n",
            "  Batch 601: Loss = 0.2194, Accuracy = 93.75%\n",
            "  Batch 701: Loss = 0.8118, Accuracy = 81.25%\n",
            "  Batch 801: Loss = 0.2758, Accuracy = 84.38%\n",
            "  Batch 901: Loss = 0.4710, Accuracy = 89.06%\n",
            "==> Epoch 3 Summary: Total Loss = 411.0168, Accuracy = 86.06%\n",
            "\n",
            "Epoch 4\n",
            "  Batch   1: Loss = 0.2175, Accuracy = 95.31%\n",
            "  Batch 101: Loss = 0.3475, Accuracy = 90.62%\n",
            "  Batch 201: Loss = 0.2733, Accuracy = 85.94%\n",
            "  Batch 301: Loss = 0.4124, Accuracy = 81.25%\n",
            "  Batch 401: Loss = 0.3726, Accuracy = 90.62%\n",
            "  Batch 501: Loss = 0.5219, Accuracy = 82.81%\n",
            "  Batch 601: Loss = 0.2990, Accuracy = 89.06%\n",
            "  Batch 701: Loss = 0.1729, Accuracy = 98.44%\n",
            "  Batch 801: Loss = 0.3303, Accuracy = 87.50%\n",
            "  Batch 901: Loss = 0.1869, Accuracy = 92.19%\n",
            "==> Epoch 4 Summary: Total Loss = 385.5317, Accuracy = 87.02%\n",
            "\n",
            "Epoch 5\n",
            "  Batch   1: Loss = 0.3474, Accuracy = 85.94%\n",
            "  Batch 101: Loss = 0.4275, Accuracy = 85.94%\n",
            "  Batch 201: Loss = 0.2610, Accuracy = 90.62%\n",
            "  Batch 301: Loss = 0.3422, Accuracy = 89.06%\n",
            "  Batch 401: Loss = 0.3949, Accuracy = 90.62%\n",
            "  Batch 501: Loss = 0.4265, Accuracy = 84.38%\n",
            "  Batch 601: Loss = 0.6274, Accuracy = 84.38%\n",
            "  Batch 701: Loss = 0.4630, Accuracy = 81.25%\n",
            "  Batch 801: Loss = 0.3208, Accuracy = 93.75%\n",
            "  Batch 901: Loss = 0.3455, Accuracy = 87.50%\n",
            "==> Epoch 5 Summary: Total Loss = 360.8894, Accuracy = 87.98%\n"
          ]
        }
      ]
    },
    {
      "cell_type": "code",
      "source": [
        "model.eval()\n",
        "correct = 0\n",
        "total = 0\n",
        "\n",
        "with torch.no_grad():\n",
        "    for images, labels in val_data:\n",
        "        images, labels = images.to(device), labels.to(device)\n",
        "        outputs = model(images)\n",
        "        preds = outputs.argmax(dim=1)\n",
        "        correct += (preds == labels).sum().item()\n",
        "        total += labels.size(0)\n",
        "\n",
        "test_acc = 100.0 * correct / total\n",
        "print(f\"\\n==> Val Accuracy: {test_acc:.2f}%\")"
      ],
      "metadata": {
        "colab": {
          "base_uri": "https://localhost:8080/"
        },
        "id": "i3YKS3Bx58eo",
        "outputId": "7b343bcf-835e-4f90-b955-8b4444c63538"
      },
      "execution_count": 11,
      "outputs": [
        {
          "output_type": "stream",
          "name": "stdout",
          "text": [
            "\n",
            "==> Val Accuracy: 88.31%\n"
          ]
        }
      ]
    },
    {
      "cell_type": "code",
      "source": [
        "model.eval()\n",
        "images, labels = next(iter(val_data))\n",
        "images, labels = images.to(device), labels.to(device)\n",
        "\n",
        "with torch.no_grad():\n",
        "    outputs = model(images)\n",
        "    preds = outputs.argmax(dim=1)\n",
        "\n",
        "# Plot 10 test images with predictions\n",
        "plt.figure(figsize=(12, 4))\n",
        "for i in range(20):\n",
        "    plt.subplot(4, 5, i+1)\n",
        "    plt.imshow(images[i].squeeze(), cmap='gray')\n",
        "    plt.title(f\"Pred: {preds[i].item()}\\nTrue: {labels[i].item()}\")\n",
        "    plt.axis('off')\n",
        "plt.tight_layout()\n",
        "plt.show()"
      ],
      "metadata": {
        "colab": {
          "base_uri": "https://localhost:8080/",
          "height": 407
        },
        "id": "uJLU-cX-6FQq",
        "outputId": "17e0c942-c348-4843-ea77-a6b6a2378e53"
      },
      "execution_count": 12,
      "outputs": [
        {
          "output_type": "display_data",
          "data": {
            "text/plain": [
              "<Figure size 1200x400 with 20 Axes>"
            ],
            "image/png": "[encoded data removed]"
          },
          "metadata": {}
        }
      ]
    },
    {
      "cell_type": "code",
      "source": [
        "# Get one batch from the validation data\n",
        "images, labels = next(iter(val_data))\n",
        "\n",
        "# Print the shape of the images tensor\n",
        "print(\"Shape of images in a batch:\", images.shape)\n",
        "patch_embed = nn.Conv2d(num_channels, embed_dim, kernel_size=patch_size, stride=patch_size)\n",
        "embedded_data = patch_embed(images)\n",
        "embedded_data = embedded_data.flatten(2)\n",
        "embedded_data = embedded_data.transpose(1,2)\n",
        "print(\"Shape of embedded data:\", embedded_data.shape)\n",
        "print(torch.randn(1,1,embed_dim).shape)\n",
        "print(\"Shape of labels in a batch:\", labels.shape)"
      ],
      "metadata": {
        "colab": {
          "base_uri": "https://localhost:8080/"
        },
        "id": "NBsNmG488CJA",
        "outputId": "dcfead10-a6eb-49bf-fb74-ab2b365d0e1a"
      },
      "execution_count": 13,
      "outputs": [
        {
          "output_type": "stream",
          "name": "stdout",
          "text": [
            "Shape of images in a batch: torch.Size([64, 1, 28, 28])\n",
            "Shape of embedded data: torch.Size([64, 16, 16])\n",
            "torch.Size([1, 1, 16])\n",
            "Shape of labels in a batch: torch.Size([64])\n"
          ]
        }
      ]
    }
  ]
}